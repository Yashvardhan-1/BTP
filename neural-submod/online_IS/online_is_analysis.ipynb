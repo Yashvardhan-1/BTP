{
 "cells": [
  {
   "cell_type": "code",
   "execution_count": 2,
   "metadata": {},
   "outputs": [],
   "source": [
    "import pickle\n",
    "\n",
    "with open(f\"online_is_50.pkl\", \"rb\") as f:\n",
    "    acc = pickle.load(f)\n"
   ]
  },
  {
   "cell_type": "code",
   "execution_count": 5,
   "metadata": {},
   "outputs": [],
   "source": [
    "import csv \n",
    "file_name = \"./online_is_50.csv\"\n",
    "with open(file_name, mode='w', newline='') as csv_file:\n",
    "    writer = csv.writer(csv_file)\n",
    "    first_row = [\"order\"]\n",
    "    \n",
    "    for i in range(40):\n",
    "        first_row.extend([f\"epoch {i+1}\"])\n",
    "    \n",
    "    writer.writerow(first_row)\n",
    "\n",
    "    for key, value in acc.items():\n",
    "        row = [key]\n",
    "        row.extend(value)\n",
    "        writer.writerow(row)"
   ]
  },
  {
   "cell_type": "code",
   "execution_count": null,
   "metadata": {},
   "outputs": [],
   "source": []
  }
 ],
 "metadata": {
  "kernelspec": {
   "display_name": "submodlib-env",
   "language": "python",
   "name": "submodlib-env"
  },
  "language_info": {
   "codemirror_mode": {
    "name": "ipython",
    "version": 3
   },
   "file_extension": ".py",
   "mimetype": "text/x-python",
   "name": "python",
   "nbconvert_exporter": "python",
   "pygments_lexer": "ipython3",
   "version": "3.9.18"
  }
 },
 "nbformat": 4,
 "nbformat_minor": 2
}
