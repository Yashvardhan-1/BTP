{
 "cells": [
  {
   "cell_type": "code",
   "execution_count": 36,
   "metadata": {},
   "outputs": [],
   "source": [
    "import pickle \n",
    "import os\n",
    "import matplotlib.pyplot as plt\n",
    "\n",
    "exp = \"seq\"\n",
    "\n",
    "with open(f\"./results/{exp}/accuracies.pkl\", \"rb\") as f:\n",
    "    acc = pickle.load(f)"
   ]
  },
  {
   "cell_type": "code",
   "execution_count": 23,
   "metadata": {},
   "outputs": [],
   "source": [
    "func_list = [\"facility-location\", \"disparity-min\",  \"disparity-sum\", \"graph-cut\"]\n",
    "func_dic = {}\n",
    "func_dic[\"facility-location\"] = \"fl\"\n",
    "func_dic[\"disparity-min\"] = \"dm\"\n",
    "func_dic[\"disparity-sum\"] = \"ds\"\n",
    "func_dic[\"graph-cut\"] = \"gc\"\n",
    "rev_func_dic = {}\n",
    "rev_func_dic[\"fl\"] = \"facility-location\"\n",
    "rev_func_dic[\"dm\"] = \"disparity-min\"\n",
    "rev_func_dic[\"ds\"] = \"disparity-sum\"\n",
    "rev_func_dic[\"gc\"] = \"graph-cut\""
   ]
  },
  {
   "cell_type": "code",
   "execution_count": 30,
   "metadata": {},
   "outputs": [],
   "source": [
    "dir_ls = os.listdir(f\"./results/{exp}/accuracies/\")\n",
    "for i, s in enumerate(dir_ls):\n",
    "    dir_ls[i]=dir_ls[i].split(\".\")[0]"
   ]
  },
  {
   "cell_type": "code",
   "execution_count": 31,
   "metadata": {},
   "outputs": [],
   "source": [
    "acc_new = {}\n",
    "for key, value in acc.items():\n",
    "    f1, f2, f3, f4 = key.split(\"_\")\n",
    "    name = func_dic[f1]+\"_\"+func_dic[f2]+\"_\"+func_dic[f3]+\"_\"+func_dic[f4]\n",
    "    acc_new[name] = value"
   ]
  },
  {
   "cell_type": "code",
   "execution_count": 33,
   "metadata": {},
   "outputs": [
    {
     "name": "stdout",
     "output_type": "stream",
     "text": [
      "40\n"
     ]
    }
   ],
   "source": [
    "print(len(acc_new[\"fl_gc_dm_ds\"]))\n"
   ]
  },
  {
   "cell_type": "code",
   "execution_count": 35,
   "metadata": {},
   "outputs": [],
   "source": [
    "import csv\n",
    "file_name = f'./results/{exp}/accuracies.csv'\n",
    "\n",
    "with open(file_name, mode='w', newline='') as csv_file:\n",
    "    writer = csv.writer(csv_file)\n",
    "    first_row = [\"order\"]\n",
    "    \n",
    "    for i in range(len(acc_new[\"fl_gc_dm_ds\"])):\n",
    "        first_row.extend([f\"epoch {i+1}\"])\n",
    "    \n",
    "    writer.writerow(first_row)\n",
    "\n",
    "    for key, value in acc_new.items():\n",
    "        row = [key]\n",
    "        row.extend(value)\n",
    "        writer.writerow(row)"
   ]
  },
  {
   "cell_type": "code",
   "execution_count": null,
   "metadata": {},
   "outputs": [],
   "source": [
    "def analysis(order1, order2, exp, epochs):\n",
    "    x = range(epochs)\n",
    "\n",
    "    f1, f2, f3, f4 = order1.split(\"_\")\n",
    "    with open(f\"./results/{exp}/accuracies.pkl\", \"rb\") as f:\n",
    "        acc = pickle.load(f)\n",
    "    \n",
    "    try:\n",
    "        acc1 = acc[f\"{rev_func_dic[f1]}_{rev_func_dic[f2]}_{rev_func_dic[f3]}_{rev_func_dic[f4]}\"]\n",
    "    except:\n",
    "        print(\"order 1 does not exits!\")\n",
    "        return \n",
    "\n",
    "    f1, f2, f3, f4 = order2.split(\"_\")\n",
    "    \n",
    "    try:\n",
    "        acc2 = acc[f\"{rev_func_dic[f1]}_{rev_func_dic[f2]}_{rev_func_dic[f3]}_{rev_func_dic[f4]}\"]\n",
    "    except:\n",
    "        print(\"order 1 does not exits!\")\n",
    "        return \n",
    "\n",
    "\n",
    "    plt.clf()\n",
    "    plt.plot(x, acc1, label=order1)\n",
    "    plt.plot(x, acc2, label=order2)\n",
    "\n",
    "    plt.xlabel(\"Epoch\")\n",
    "    plt.ylabel(\"Accuracy\")\n",
    "    plt.title(f\"{order1}_{order2} Accuracy Plot\")\n",
    "\n",
    "    plt.show()"
   ]
  }
 ],
 "metadata": {
  "kernelspec": {
   "display_name": "meta-milo-env",
   "language": "python",
   "name": "python3"
  },
  "language_info": {
   "codemirror_mode": {
    "name": "ipython",
    "version": 3
   },
   "file_extension": ".py",
   "mimetype": "text/x-python",
   "name": "python",
   "nbconvert_exporter": "python",
   "pygments_lexer": "ipython3",
   "version": "3.9.18"
  }
 },
 "nbformat": 4,
 "nbformat_minor": 2
}
