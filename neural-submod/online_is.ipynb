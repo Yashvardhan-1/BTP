{
 "cells": [
  {
   "cell_type": "code",
   "execution_count": 1,
   "metadata": {},
   "outputs": [
    {
     "name": "stderr",
     "output_type": "stream",
     "text": [
      "/raid/ganesh/namitha/miniconda3/envs/submodlib-env/lib/python3.9/site-packages/tqdm/auto.py:21: TqdmWarning: IProgress not found. Please update jupyter and ipywidgets. See https://ipywidgets.readthedocs.io/en/stable/user_install.html\n",
      "  from .autonotebook import tqdm as notebook_tqdm\n"
     ]
    },
    {
     "data": {
      "text/plain": [
       "<torch._C.Generator at 0x7f1ef3c79790>"
      ]
     },
     "execution_count": 1,
     "metadata": {},
     "output_type": "execute_result"
    }
   ],
   "source": [
    "import torch\n",
    "import torch.optim as optim\n",
    "import torch.nn as nn\n",
    "from tqdm import tqdm\n",
    "from torchvision import datasets, transforms\n",
    "from tqdm import tqdm \n",
    "import time\n",
    "from torch.utils.data import random_split, Dataset, DataLoader\n",
    "#from torchvision.models.resnet import ResNet18_Weights\n",
    "import pickle\n",
    "import random\n",
    "from torch.optim import SGD\n",
    "from torch.optim.lr_scheduler import CosineAnnealingLR\n",
    "import statistics\n",
    "import matplotlib.pyplot as plt\n",
    "import csv\n",
    "from itertools import combinations, permutations\n",
    "import pickle\n",
    "import math\n",
    "import numpy as np\n",
    "from submodlib import FacilityLocationFunction, GraphCutFunction, DisparityMinFunction, DisparitySumFunction\n",
    "\n",
    "seed = 42\n",
    "torch.manual_seed(seed)"
   ]
  },
  {
   "cell_type": "code",
   "execution_count": 2,
   "metadata": {},
   "outputs": [],
   "source": [
    "if torch.backends.mps.is_available():\n",
    "    device = \"mps\"\n",
    "elif torch.cuda.is_available():\n",
    "    device = \"cuda:2\" # change the available gpu number\n",
    "else:\n",
    "    device = \"cpu\""
   ]
  },
  {
   "cell_type": "markdown",
   "metadata": {},
   "source": [
    "## Load Dataset"
   ]
  },
  {
   "cell_type": "code",
   "execution_count": 3,
   "metadata": {},
   "outputs": [],
   "source": [
    "# Define data transforms\n",
    "transform_train = transforms.Compose([\n",
    "    transforms.RandomCrop(32, padding=4),\n",
    "    transforms.RandomHorizontalFlip(),\n",
    "    transforms.ToTensor(),\n",
    "    transforms.Normalize((0.4914, 0.4822, 0.4465), (0.2023, 0.1994, 0.2010))\n",
    "])\n",
    "\n",
    "transform_test = transforms.Compose([\n",
    "    transforms.ToTensor(),\n",
    "    transforms.Normalize((0.4914, 0.4822, 0.4465), (0.2023, 0.1994, 0.2010))\n",
    "])"
   ]
  },
  {
   "cell_type": "code",
   "execution_count": 4,
   "metadata": {},
   "outputs": [
    {
     "name": "stdout",
     "output_type": "stream",
     "text": [
      "Files already downloaded and verified\n",
      "Files already downloaded and verified\n"
     ]
    }
   ],
   "source": [
    "# Load CIFAR10 datasets\n",
    "train_dataset = datasets.CIFAR10(root=\"./data\", train=True, download=True, transform=transform_train)\n",
    "test_dataset = datasets.CIFAR10(root=\"./data\", train=False, download=True, transform=transform_test)\n",
    "\n",
    "# Create dataloaders\n",
    "train_dataloader = DataLoader(train_dataset, batch_size=64, shuffle=True, num_workers=2)\n",
    "test_dataloader = DataLoader(test_dataset, batch_size=64, shuffle=False, num_workers=2)"
   ]
  },
  {
   "cell_type": "markdown",
   "metadata": {},
   "source": [
    "## Parameters"
   ]
  },
  {
   "cell_type": "code",
   "execution_count": 5,
   "metadata": {},
   "outputs": [
    {
     "name": "stdout",
     "output_type": "stream",
     "text": [
      "50000\n"
     ]
    }
   ],
   "source": [
    "print(len(train_dataset))"
   ]
  },
  {
   "cell_type": "code",
   "execution_count": 6,
   "metadata": {},
   "outputs": [],
   "source": [
    "num_classes = 10\n",
    "frac_size = 0.3\n",
    "epochs = 40\n",
    "R = 1\n",
    "model_name = \"LeNet\"\n",
    "optimizer_name = \"adam\""
   ]
  },
  {
   "cell_type": "markdown",
   "metadata": {},
   "source": [
    "## Load Model"
   ]
  },
  {
   "cell_type": "code",
   "execution_count": 7,
   "metadata": {},
   "outputs": [],
   "source": [
    "from models.LeNet_model import LeNet\n",
    "from models.resent_models import get_resent101_model, get_resent18_model"
   ]
  },
  {
   "cell_type": "code",
   "execution_count": 8,
   "metadata": {},
   "outputs": [],
   "source": [
    "from utils.milo.subset_sampler import RandomSubsetSampler\n",
    "from utils.milo.subset_dataset import SubDataset\n",
    "\n",
    "model = LeNet()"
   ]
  },
  {
   "cell_type": "markdown",
   "metadata": {},
   "source": [
    "## Experiment "
   ]
  },
  {
   "cell_type": "markdown",
   "metadata": {},
   "source": [
    "#### Optimizer"
   ]
  },
  {
   "cell_type": "code",
   "execution_count": 9,
   "metadata": {},
   "outputs": [],
   "source": [
    "if optimizer_name==\"SGD_ann\":\n",
    "    optimizer = SGD(model.parameters(), lr=0.05, momentum=0.9, weight_decay=5e-4)\n",
    "    lr_scheduler = CosineAnnealingLR(optimizer, T_max=10, eta_min=0)\n",
    "elif optimizer_name==\"adam\":\n",
    "    optimizer = torch.optim.Adam(model.parameters())"
   ]
  },
  {
   "cell_type": "markdown",
   "metadata": {},
   "source": [
    "## Preprocessing"
   ]
  },
  {
   "cell_type": "code",
   "execution_count": 10,
   "metadata": {},
   "outputs": [
    {
     "name": "stdout",
     "output_type": "stream",
     "text": [
      "/raid/ganesh/namitha/yash/BTP/neural-submod\n"
     ]
    }
   ],
   "source": [
    "import os\n",
    "print(os.getcwd())"
   ]
  },
  {
   "cell_type": "code",
   "execution_count": 11,
   "metadata": {},
   "outputs": [],
   "source": [
    "# func_list = [\"facility-location\", \"disparity-min\",  \"disparity-sum\", \"graph-cut\"]\n",
    "func_list = [\"fl\", \"dm\",  \"ds\", \"gc\"]\n",
    "lambdaVal = 0.5"
   ]
  },
  {
   "cell_type": "code",
   "execution_count": 12,
   "metadata": {},
   "outputs": [],
   "source": [
    "embedding_path = \"../milo-base/cifar10/dataframe.pkl\"\n",
    "with open(embedding_path, \"rb\") as f:\n",
    "    df = pickle.load(f)"
   ]
  },
  {
   "cell_type": "code",
   "execution_count": 13,
   "metadata": {},
   "outputs": [],
   "source": [
    "groups = df.groupby('Label')\n",
    "dataframes = [group for _, group in groups]"
   ]
  },
  {
   "cell_type": "code",
   "execution_count": 14,
   "metadata": {},
   "outputs": [
    {
     "name": "stderr",
     "output_type": "stream",
     "text": [
      "100%|██████████| 10/10 [28:34<00:00, 171.49s/it]\n"
     ]
    }
   ],
   "source": [
    "objFL_list = []\n",
    "objDM_list = []\n",
    "objDS_list = []\n",
    "objGC_list = []\n",
    "index_list = []\n",
    "for df in tqdm(dataframes):\n",
    "    features = df[\"Features\"].to_numpy()\n",
    "    objFL = FacilityLocationFunction(n=features.shape[0], data=features, separate_rep=False, mode=\"dense\", metric=\"cosine\")\n",
    "    objDM = DisparityMinFunction(n=features.shape[0], data=features, mode=\"dense\", metric=\"cosine\")\n",
    "    objDS = DisparitySumFunction(n=features.shape[0], data=features, mode=\"dense\", metric=\"cosine\")\n",
    "    objGC = GraphCutFunction(n=features.shape[0], data=features, mode=\"dense\", metric=\"cosine\", lambdaVal=lambdaVal)\n",
    "    objFL_list.append(objFL)\n",
    "    objDM_list.append(objDM)\n",
    "    objDS_list.append(objDS)\n",
    "    objGC_list.append(objGC)\n",
    "    index_list.append(df.Index.tolist())"
   ]
  },
  {
   "cell_type": "code",
   "execution_count": 15,
   "metadata": {},
   "outputs": [],
   "source": [
    "obj_list = {}\n",
    "obj_list[\"fl\"] = objFL_list\n",
    "obj_list[\"dm\"] = objDM_list\n",
    "obj_list[\"ds\"] = objDS_list\n",
    "obj_list[\"gc\"] = objGC_list"
   ]
  },
  {
   "cell_type": "code",
   "execution_count": 16,
   "metadata": {},
   "outputs": [],
   "source": [
    "def class_SGE(k, obj_list, S, index_list, ϵ=1e-2, n=10, test=False):\n",
    "    \"\"\"Samples n subsets using stochastic-greedy.\n",
    "    Args:\n",
    "        k: The subset fraction.\n",
    "        objL: submodular function for conditional gain calculation\n",
    "        S: Prior Subset\n",
    "        ϵ: The error tolerance.\n",
    "        n: The number of classes.\n",
    "    Returns:\n",
    "        A list of n subsets.\n",
    "    \"\"\"\n",
    "    \n",
    "    # Set random subset size for the stochastic-greedy algorithm\n",
    "    for i in range(n):\n",
    "        D = len(index_list[i])\n",
    "        sub_sz = int(D*k)\n",
    "        s = int(D * math.log(1 / ϵ) / sub_sz)\n",
    "        obj_list[i].evaluateWithMemoization(S[i])\n",
    "        while len(S[i])<sub_sz:\n",
    "            R = random.choices(list(set(range(D)) - S[i]), k=s)\n",
    "            marginal_gains = list(map(lambda r: obj_list[i].marginalGainWithMemoization(S[i], r), R))\n",
    "            max_index = np.argmax(marginal_gains)\n",
    "            max_r = R[max_index]\n",
    "            obj_list[i].updateMemoization(S[i], max_r)\n",
    "            S[i].add(max_r)\n",
    "            if test:\n",
    "                print(R)\n",
    "                print(marginal_gains)\n",
    "                print(max_index, max_r)\n",
    "                return S\n",
    "        obj_list[i].clearMemoization()\n",
    "    return S"
   ]
  },
  {
   "cell_type": "markdown",
   "metadata": {},
   "source": [
    "## Randon Submod Selection"
   ]
  },
  {
   "cell_type": "code",
   "execution_count": 17,
   "metadata": {},
   "outputs": [],
   "source": [
    "acc_dic = {}"
   ]
  },
  {
   "cell_type": "code",
   "execution_count": 24,
   "metadata": {},
   "outputs": [
    {
     "name": "stderr",
     "output_type": "stream",
     "text": [
      "100%|██████████| 40/40 [10:52<00:00, 16.31s/it]\n"
     ]
    },
    {
     "name": "stdout",
     "output_type": "stream",
     "text": [
      "--- 652.4183487892151 seconds ---\n"
     ]
    },
    {
     "name": "stderr",
     "output_type": "stream",
     "text": [
      "100%|██████████| 157/157 [00:01<00:00, 91.02it/s] "
     ]
    },
    {
     "name": "stdout",
     "output_type": "stream",
     "text": [
      "accuracy: 0.6064\n"
     ]
    },
    {
     "name": "stderr",
     "output_type": "stream",
     "text": [
      "\n"
     ]
    }
   ],
   "source": [
    "if model_name==\"LeNet\":\n",
    "    model = LeNet()\n",
    "elif model_name==\"resnet18\":\n",
    "    model = get_resent18_model()\n",
    "elif  model_name==\"resnet101\":\n",
    "    model = get_resent101_model()\n",
    "\n",
    "model = model.to(device=device)\n",
    "loss_fn = nn.CrossEntropyLoss()\n",
    "\n",
    "if optimizer_name==\"SGD_ann\":\n",
    "    optimizer = SGD(model.parameters(), lr=0.05, momentum=0.9, weight_decay=5e-4)\n",
    "    lr_scheduler = CosineAnnealingLR(optimizer, T_max=10, eta_min=0)\n",
    "elif optimizer_name==\"adam\":\n",
    "    optimizer = torch.optim.Adam(model.parameters())\n",
    "\n",
    "# Train the model\n",
    "model.train()\n",
    "start_time = time.time()\n",
    "accuracy_list = []\n",
    "\n",
    "random.seed(10)\n",
    "\n",
    "f1 = \"ds\"\n",
    "f2 = \"dm\"\n",
    "p=0.5\n",
    "\n",
    "R=6\n",
    "\n",
    "S1 = [set() for i in range(10)]\n",
    "S2 = [set() for i in range(10)]\n",
    "\n",
    "# Train loop\n",
    "#online\n",
    "for epoch in tqdm(range(epochs)):\n",
    "\n",
    "    if epoch%R==0:\n",
    "        remaining_elements = [e for e in func_list if e != f1 and e != f2]\n",
    "        #online\n",
    "        random_element = random.choice(remaining_elements)\n",
    "\n",
    "        if random.random() < 0.5:\n",
    "            f1 = random_element\n",
    "        else:\n",
    "            f2 = random_element\n",
    "            \n",
    "        S1 = class_SGE(k=frac_size, obj_list=obj_list[f1], S=S1, index_list=index_list)\n",
    "        S2 = class_SGE(k=frac_size, obj_list=obj_list[f2], S=S2, index_list=index_list)\n",
    "        \n",
    "        bigS1 = []\n",
    "        for i, s1 in enumerate(S1):\n",
    "            bigS1.extend(index_list[i][j] for j in s1)\n",
    "        \n",
    "        bigS2 = []\n",
    "        for i, s2 in enumerate(S2):\n",
    "            bigS2.extend(index_list[i][j] for j in s2)\n",
    "\n",
    "        train_data = list(set(bigS1) | set(bigS2))\n",
    "        random.shuffle(train_data)\n",
    "        if len(train_data) > int(frac_size*len(train_dataset)):\n",
    "            train_data = train_data[:int(frac_size*len(train_dataset))]\n",
    "\n",
    "        sub_dataset = SubDataset(indices=train_data, dataset=train_dataset)\n",
    "        subset_train_dataloader = DataLoader(sub_dataset, batch_size=64, shuffle=True)\n",
    "\n",
    "    for images, labels in subset_train_dataloader:\n",
    "\n",
    "        images = images.to(device)\n",
    "        labels = labels.to(device)\n",
    "\n",
    "        # Forward pass\n",
    "        outputs = model(images)\n",
    "        loss = loss_fn(outputs, labels)\n",
    "        \n",
    "        # Backward pass and update weights\n",
    "        if optimizer_name==\"SGD_ann\":\n",
    "            optimizer.zero_grad()\n",
    "            loss.backward()\n",
    "            optimizer.step()  # Update model weights\n",
    "            lr_scheduler.step()     \n",
    "        elif optimizer_name==\"adam\":\n",
    "            optimizer.zero_grad()\n",
    "            loss.backward()\n",
    "            optimizer.step()\n",
    "\n",
    "    if epoch%R==0:\n",
    "        for i, s1 in enumerate(S1):\n",
    "            s1 = list(s1)\n",
    "            random.shuffle(s1)\n",
    "            S1[i] = set(s1[:int(p*len(s1))])\n",
    "        \n",
    "        for i, s2 in enumerate(S2):\n",
    "            s2 = list(s2)\n",
    "            random.shuffle(s2)\n",
    "            S2[i] = set(s2[:int(p*len(s2))])\n",
    "    \n",
    "    # Evaluate on test set\n",
    "    correct = 0\n",
    "    total = 0\n",
    "    with torch.no_grad():\n",
    "        for images, labels in test_dataloader:\n",
    "            images = images.to(device)\n",
    "            labels = labels.to(device)\n",
    "\n",
    "            outputs = model(images)\n",
    "            predictions = torch.argmax(outputs, dim=1)\n",
    "            correct += (predictions == labels).sum().item()\n",
    "            total += labels.size(0)\n",
    "\n",
    "    accuracy = correct / total\n",
    "    accuracy_list.append(accuracy)\n",
    "    # print(f\"accuracy for epoch {epoch} with subset from {f1} and {f2}: {accuracy}\")\n",
    "\n",
    "time_taken = time.time() - start_time    \n",
    "print(\"--- %s seconds ---\" % (time_taken))\n",
    "\n",
    "# Evaluate on test set\n",
    "correct = 0\n",
    "total = 0\n",
    "with torch.no_grad():\n",
    "    for images, labels in tqdm(test_dataloader):\n",
    "        images = images.to(device)\n",
    "        labels = labels.to(device)\n",
    "\n",
    "        outputs = model(images)\n",
    "        predictions = torch.argmax(outputs, dim=1)\n",
    "        correct += (predictions == labels).sum().item()\n",
    "        total += labels.size(0)\n",
    "\n",
    "accuracy = correct / total\n",
    "acc_dic[\"online_is_r_{R}\"] = accuracy_list\n",
    "print(f\"accuracy: {accuracy}\")"
   ]
  },
  {
   "cell_type": "code",
   "execution_count": 21,
   "metadata": {},
   "outputs": [],
   "source": [
    "acc_online_is = [0.3425, 0.4117, 0.4459, 0.4811, 0.4793, 0.5025, 0.5055, 0.5217, 0.5156, 0.5143, 0.5371, 0.5278, 0.5506, 0.549, 0.5554, 0.5551, 0.5573, 0.5552, 0.5715, 0.5761, 0.5639, 0.5858, 0.5771, 0.5912, 0.5884, 0.5891, 0.592, 0.5938, 0.5991, 0.597, 0.6043, 0.6183, 0.6131, 0.613, 0.6093, 0.6073, 0.6116, 0.6143, 0.6234, 0.6097]"
   ]
  },
  {
   "cell_type": "code",
   "execution_count": 20,
   "metadata": {},
   "outputs": [
    {
     "name": "stdout",
     "output_type": "stream",
     "text": [
      "[0.3425, 0.4117, 0.4459, 0.4811, 0.4793, 0.5025, 0.5055, 0.5217, 0.5156, 0.5143, 0.5371, 0.5278, 0.5506, 0.549, 0.5554, 0.5551, 0.5573, 0.5552, 0.5715, 0.5761, 0.5639, 0.5858, 0.5771, 0.5912, 0.5884, 0.5891, 0.592, 0.5938, 0.5991, 0.597, 0.6043, 0.6183, 0.6131, 0.613, 0.6093, 0.6073, 0.6116, 0.6143, 0.6234, 0.6097]\n"
     ]
    }
   ],
   "source": [
    "print(accuracy_list)"
   ]
  },
  {
   "cell_type": "markdown",
   "metadata": {},
   "source": [
    "## 3-Step-Milo"
   ]
  },
  {
   "cell_type": "code",
   "execution_count": 22,
   "metadata": {},
   "outputs": [],
   "source": [
    "func_orders = [\n",
    "    [\"fl\", \"gc\", \"fl\", \"dm\", \"dm\", \"ds\"],\n",
    "    [\"fl\", \"gc\", \"dm\", \"ds\", \"fl\", \"dm\"],\n",
    "    [\"fl\", \"dm\", \"fl\", \"gc\", \"dm\", \"ds\"],\n",
    "    [\"fl\", \"dm\", \"dm\", \"ds\", \"fl\", \"gc\"],\n",
    "    [\"dm\", \"ds\", \"fl\", \"dm\", \"fl\", \"gc\"],\n",
    "    [\"dm\", \"ds\", \"fl\", \"gc\", \"fl\", \"dm\"],\n",
    "]"
   ]
  },
  {
   "cell_type": "code",
   "execution_count": 23,
   "metadata": {},
   "outputs": [
    {
     "name": "stderr",
     "output_type": "stream",
     "text": [
      "  0%|          | 0/40 [00:00<?, ?it/s]"
     ]
    },
    {
     "name": "stderr",
     "output_type": "stream",
     "text": [
      "100%|██████████| 40/40 [06:49<00:00, 10.25s/it]\n"
     ]
    },
    {
     "name": "stdout",
     "output_type": "stream",
     "text": [
      "--- 409.8566040992737 seconds ---\n"
     ]
    },
    {
     "name": "stderr",
     "output_type": "stream",
     "text": [
      "100%|██████████| 157/157 [00:01<00:00, 94.22it/s] \n"
     ]
    },
    {
     "name": "stdout",
     "output_type": "stream",
     "text": [
      "order fl_gc_fl_dm_dm_ds accuracy: 0.6139\n",
      "[0.3751, 0.419, 0.4441, 0.456, 0.4782, 0.4772, 0.475, 0.5052, 0.5055, 0.5241, 0.5248, 0.5367, 0.5408, 0.537, 0.5489, 0.5557, 0.5547, 0.5543, 0.566, 0.5672, 0.5719, 0.5823, 0.5817, 0.5739, 0.595, 0.5858, 0.5924, 0.5989, 0.5975, 0.5949, 0.6003, 0.605, 0.6, 0.5995, 0.6101, 0.6122, 0.6004, 0.6019, 0.6188, 0.6139]\n"
     ]
    },
    {
     "name": "stderr",
     "output_type": "stream",
     "text": [
      " 18%|█▊        | 7/40 [02:00<09:27, 17.19s/it]\n"
     ]
    },
    {
     "ename": "KeyboardInterrupt",
     "evalue": "",
     "output_type": "error",
     "traceback": [
      "\u001b[0;31m---------------------------------------------------------------------------\u001b[0m",
      "\u001b[0;31mKeyboardInterrupt\u001b[0m                         Traceback (most recent call last)",
      "Cell \u001b[0;32mIn[23], line 74\u001b[0m\n\u001b[1;32m     71\u001b[0m     sub_dataset \u001b[38;5;241m=\u001b[39m SubDataset(indices\u001b[38;5;241m=\u001b[39mtrain_data, dataset\u001b[38;5;241m=\u001b[39mtrain_dataset)\n\u001b[1;32m     72\u001b[0m     subset_train_dataloader \u001b[38;5;241m=\u001b[39m DataLoader(sub_dataset, batch_size\u001b[38;5;241m=\u001b[39m\u001b[38;5;241m64\u001b[39m, shuffle\u001b[38;5;241m=\u001b[39m\u001b[38;5;28;01mTrue\u001b[39;00m)\n\u001b[0;32m---> 74\u001b[0m \u001b[38;5;28;01mfor\u001b[39;00m images, labels \u001b[38;5;129;01min\u001b[39;00m subset_train_dataloader:\n\u001b[1;32m     76\u001b[0m     images \u001b[38;5;241m=\u001b[39m images\u001b[38;5;241m.\u001b[39mto(device)\n\u001b[1;32m     77\u001b[0m     labels \u001b[38;5;241m=\u001b[39m labels\u001b[38;5;241m.\u001b[39mto(device)\n",
      "File \u001b[0;32m~/miniconda3/envs/submodlib-env/lib/python3.9/site-packages/torch/utils/data/dataloader.py:631\u001b[0m, in \u001b[0;36m_BaseDataLoaderIter.__next__\u001b[0;34m(self)\u001b[0m\n\u001b[1;32m    628\u001b[0m \u001b[38;5;28;01mif\u001b[39;00m \u001b[38;5;28mself\u001b[39m\u001b[38;5;241m.\u001b[39m_sampler_iter \u001b[38;5;129;01mis\u001b[39;00m \u001b[38;5;28;01mNone\u001b[39;00m:\n\u001b[1;32m    629\u001b[0m     \u001b[38;5;66;03m# TODO(https://github.com/pytorch/pytorch/issues/76750)\u001b[39;00m\n\u001b[1;32m    630\u001b[0m     \u001b[38;5;28mself\u001b[39m\u001b[38;5;241m.\u001b[39m_reset()  \u001b[38;5;66;03m# type: ignore[call-arg]\u001b[39;00m\n\u001b[0;32m--> 631\u001b[0m data \u001b[38;5;241m=\u001b[39m \u001b[38;5;28;43mself\u001b[39;49m\u001b[38;5;241;43m.\u001b[39;49m\u001b[43m_next_data\u001b[49m\u001b[43m(\u001b[49m\u001b[43m)\u001b[49m\n\u001b[1;32m    632\u001b[0m \u001b[38;5;28mself\u001b[39m\u001b[38;5;241m.\u001b[39m_num_yielded \u001b[38;5;241m+\u001b[39m\u001b[38;5;241m=\u001b[39m \u001b[38;5;241m1\u001b[39m\n\u001b[1;32m    633\u001b[0m \u001b[38;5;28;01mif\u001b[39;00m \u001b[38;5;28mself\u001b[39m\u001b[38;5;241m.\u001b[39m_dataset_kind \u001b[38;5;241m==\u001b[39m _DatasetKind\u001b[38;5;241m.\u001b[39mIterable \u001b[38;5;129;01mand\u001b[39;00m \\\n\u001b[1;32m    634\u001b[0m         \u001b[38;5;28mself\u001b[39m\u001b[38;5;241m.\u001b[39m_IterableDataset_len_called \u001b[38;5;129;01mis\u001b[39;00m \u001b[38;5;129;01mnot\u001b[39;00m \u001b[38;5;28;01mNone\u001b[39;00m \u001b[38;5;129;01mand\u001b[39;00m \\\n\u001b[1;32m    635\u001b[0m         \u001b[38;5;28mself\u001b[39m\u001b[38;5;241m.\u001b[39m_num_yielded \u001b[38;5;241m>\u001b[39m \u001b[38;5;28mself\u001b[39m\u001b[38;5;241m.\u001b[39m_IterableDataset_len_called:\n",
      "File \u001b[0;32m~/miniconda3/envs/submodlib-env/lib/python3.9/site-packages/torch/utils/data/dataloader.py:675\u001b[0m, in \u001b[0;36m_SingleProcessDataLoaderIter._next_data\u001b[0;34m(self)\u001b[0m\n\u001b[1;32m    673\u001b[0m \u001b[38;5;28;01mdef\u001b[39;00m \u001b[38;5;21m_next_data\u001b[39m(\u001b[38;5;28mself\u001b[39m):\n\u001b[1;32m    674\u001b[0m     index \u001b[38;5;241m=\u001b[39m \u001b[38;5;28mself\u001b[39m\u001b[38;5;241m.\u001b[39m_next_index()  \u001b[38;5;66;03m# may raise StopIteration\u001b[39;00m\n\u001b[0;32m--> 675\u001b[0m     data \u001b[38;5;241m=\u001b[39m \u001b[38;5;28;43mself\u001b[39;49m\u001b[38;5;241;43m.\u001b[39;49m\u001b[43m_dataset_fetcher\u001b[49m\u001b[38;5;241;43m.\u001b[39;49m\u001b[43mfetch\u001b[49m\u001b[43m(\u001b[49m\u001b[43mindex\u001b[49m\u001b[43m)\u001b[49m  \u001b[38;5;66;03m# may raise StopIteration\u001b[39;00m\n\u001b[1;32m    676\u001b[0m     \u001b[38;5;28;01mif\u001b[39;00m \u001b[38;5;28mself\u001b[39m\u001b[38;5;241m.\u001b[39m_pin_memory:\n\u001b[1;32m    677\u001b[0m         data \u001b[38;5;241m=\u001b[39m _utils\u001b[38;5;241m.\u001b[39mpin_memory\u001b[38;5;241m.\u001b[39mpin_memory(data, \u001b[38;5;28mself\u001b[39m\u001b[38;5;241m.\u001b[39m_pin_memory_device)\n",
      "File \u001b[0;32m~/miniconda3/envs/submodlib-env/lib/python3.9/site-packages/torch/utils/data/_utils/fetch.py:51\u001b[0m, in \u001b[0;36m_MapDatasetFetcher.fetch\u001b[0;34m(self, possibly_batched_index)\u001b[0m\n\u001b[1;32m     49\u001b[0m         data \u001b[38;5;241m=\u001b[39m \u001b[38;5;28mself\u001b[39m\u001b[38;5;241m.\u001b[39mdataset\u001b[38;5;241m.\u001b[39m__getitems__(possibly_batched_index)\n\u001b[1;32m     50\u001b[0m     \u001b[38;5;28;01melse\u001b[39;00m:\n\u001b[0;32m---> 51\u001b[0m         data \u001b[38;5;241m=\u001b[39m [\u001b[38;5;28mself\u001b[39m\u001b[38;5;241m.\u001b[39mdataset[idx] \u001b[38;5;28;01mfor\u001b[39;00m idx \u001b[38;5;129;01min\u001b[39;00m possibly_batched_index]\n\u001b[1;32m     52\u001b[0m \u001b[38;5;28;01melse\u001b[39;00m:\n\u001b[1;32m     53\u001b[0m     data \u001b[38;5;241m=\u001b[39m \u001b[38;5;28mself\u001b[39m\u001b[38;5;241m.\u001b[39mdataset[possibly_batched_index]\n",
      "File \u001b[0;32m~/miniconda3/envs/submodlib-env/lib/python3.9/site-packages/torch/utils/data/_utils/fetch.py:51\u001b[0m, in \u001b[0;36m<listcomp>\u001b[0;34m(.0)\u001b[0m\n\u001b[1;32m     49\u001b[0m         data \u001b[38;5;241m=\u001b[39m \u001b[38;5;28mself\u001b[39m\u001b[38;5;241m.\u001b[39mdataset\u001b[38;5;241m.\u001b[39m__getitems__(possibly_batched_index)\n\u001b[1;32m     50\u001b[0m     \u001b[38;5;28;01melse\u001b[39;00m:\n\u001b[0;32m---> 51\u001b[0m         data \u001b[38;5;241m=\u001b[39m [\u001b[38;5;28;43mself\u001b[39;49m\u001b[38;5;241;43m.\u001b[39;49m\u001b[43mdataset\u001b[49m\u001b[43m[\u001b[49m\u001b[43midx\u001b[49m\u001b[43m]\u001b[49m \u001b[38;5;28;01mfor\u001b[39;00m idx \u001b[38;5;129;01min\u001b[39;00m possibly_batched_index]\n\u001b[1;32m     52\u001b[0m \u001b[38;5;28;01melse\u001b[39;00m:\n\u001b[1;32m     53\u001b[0m     data \u001b[38;5;241m=\u001b[39m \u001b[38;5;28mself\u001b[39m\u001b[38;5;241m.\u001b[39mdataset[possibly_batched_index]\n",
      "File \u001b[0;32m~/yash/BTP/neural-submod/utils/milo/subset_dataset.py:13\u001b[0m, in \u001b[0;36mSubDataset.__getitem__\u001b[0;34m(self, idx)\u001b[0m\n\u001b[1;32m     11\u001b[0m \u001b[38;5;28;01mdef\u001b[39;00m \u001b[38;5;21m__getitem__\u001b[39m(\u001b[38;5;28mself\u001b[39m, idx):\n\u001b[1;32m     12\u001b[0m     index \u001b[38;5;241m=\u001b[39m \u001b[38;5;28mself\u001b[39m\u001b[38;5;241m.\u001b[39mindices[idx]\n\u001b[0;32m---> 13\u001b[0m     data_point \u001b[38;5;241m=\u001b[39m \u001b[38;5;28;43mself\u001b[39;49m\u001b[38;5;241;43m.\u001b[39;49m\u001b[43mdataset\u001b[49m\u001b[43m[\u001b[49m\u001b[43mindex\u001b[49m\u001b[43m]\u001b[49m\n\u001b[1;32m     14\u001b[0m     \u001b[38;5;28;01mreturn\u001b[39;00m data_point\n",
      "File \u001b[0;32m~/miniconda3/envs/submodlib-env/lib/python3.9/site-packages/torchvision/datasets/cifar.py:118\u001b[0m, in \u001b[0;36mCIFAR10.__getitem__\u001b[0;34m(self, index)\u001b[0m\n\u001b[1;32m    115\u001b[0m img \u001b[38;5;241m=\u001b[39m Image\u001b[38;5;241m.\u001b[39mfromarray(img)\n\u001b[1;32m    117\u001b[0m \u001b[38;5;28;01mif\u001b[39;00m \u001b[38;5;28mself\u001b[39m\u001b[38;5;241m.\u001b[39mtransform \u001b[38;5;129;01mis\u001b[39;00m \u001b[38;5;129;01mnot\u001b[39;00m \u001b[38;5;28;01mNone\u001b[39;00m:\n\u001b[0;32m--> 118\u001b[0m     img \u001b[38;5;241m=\u001b[39m \u001b[38;5;28;43mself\u001b[39;49m\u001b[38;5;241;43m.\u001b[39;49m\u001b[43mtransform\u001b[49m\u001b[43m(\u001b[49m\u001b[43mimg\u001b[49m\u001b[43m)\u001b[49m\n\u001b[1;32m    120\u001b[0m \u001b[38;5;28;01mif\u001b[39;00m \u001b[38;5;28mself\u001b[39m\u001b[38;5;241m.\u001b[39mtarget_transform \u001b[38;5;129;01mis\u001b[39;00m \u001b[38;5;129;01mnot\u001b[39;00m \u001b[38;5;28;01mNone\u001b[39;00m:\n\u001b[1;32m    121\u001b[0m     target \u001b[38;5;241m=\u001b[39m \u001b[38;5;28mself\u001b[39m\u001b[38;5;241m.\u001b[39mtarget_transform(target)\n",
      "File \u001b[0;32m~/miniconda3/envs/submodlib-env/lib/python3.9/site-packages/torchvision/transforms/transforms.py:95\u001b[0m, in \u001b[0;36mCompose.__call__\u001b[0;34m(self, img)\u001b[0m\n\u001b[1;32m     93\u001b[0m \u001b[38;5;28;01mdef\u001b[39;00m \u001b[38;5;21m__call__\u001b[39m(\u001b[38;5;28mself\u001b[39m, img):\n\u001b[1;32m     94\u001b[0m     \u001b[38;5;28;01mfor\u001b[39;00m t \u001b[38;5;129;01min\u001b[39;00m \u001b[38;5;28mself\u001b[39m\u001b[38;5;241m.\u001b[39mtransforms:\n\u001b[0;32m---> 95\u001b[0m         img \u001b[38;5;241m=\u001b[39m \u001b[43mt\u001b[49m\u001b[43m(\u001b[49m\u001b[43mimg\u001b[49m\u001b[43m)\u001b[49m\n\u001b[1;32m     96\u001b[0m     \u001b[38;5;28;01mreturn\u001b[39;00m img\n",
      "File \u001b[0;32m~/miniconda3/envs/submodlib-env/lib/python3.9/site-packages/torch/nn/modules/module.py:1511\u001b[0m, in \u001b[0;36mModule._wrapped_call_impl\u001b[0;34m(self, *args, **kwargs)\u001b[0m\n\u001b[1;32m   1509\u001b[0m     \u001b[38;5;28;01mreturn\u001b[39;00m \u001b[38;5;28mself\u001b[39m\u001b[38;5;241m.\u001b[39m_compiled_call_impl(\u001b[38;5;241m*\u001b[39margs, \u001b[38;5;241m*\u001b[39m\u001b[38;5;241m*\u001b[39mkwargs)  \u001b[38;5;66;03m# type: ignore[misc]\u001b[39;00m\n\u001b[1;32m   1510\u001b[0m \u001b[38;5;28;01melse\u001b[39;00m:\n\u001b[0;32m-> 1511\u001b[0m     \u001b[38;5;28;01mreturn\u001b[39;00m \u001b[38;5;28;43mself\u001b[39;49m\u001b[38;5;241;43m.\u001b[39;49m\u001b[43m_call_impl\u001b[49m\u001b[43m(\u001b[49m\u001b[38;5;241;43m*\u001b[39;49m\u001b[43margs\u001b[49m\u001b[43m,\u001b[49m\u001b[43m \u001b[49m\u001b[38;5;241;43m*\u001b[39;49m\u001b[38;5;241;43m*\u001b[39;49m\u001b[43mkwargs\u001b[49m\u001b[43m)\u001b[49m\n",
      "File \u001b[0;32m~/miniconda3/envs/submodlib-env/lib/python3.9/site-packages/torch/nn/modules/module.py:1520\u001b[0m, in \u001b[0;36mModule._call_impl\u001b[0;34m(self, *args, **kwargs)\u001b[0m\n\u001b[1;32m   1515\u001b[0m \u001b[38;5;66;03m# If we don't have any hooks, we want to skip the rest of the logic in\u001b[39;00m\n\u001b[1;32m   1516\u001b[0m \u001b[38;5;66;03m# this function, and just call forward.\u001b[39;00m\n\u001b[1;32m   1517\u001b[0m \u001b[38;5;28;01mif\u001b[39;00m \u001b[38;5;129;01mnot\u001b[39;00m (\u001b[38;5;28mself\u001b[39m\u001b[38;5;241m.\u001b[39m_backward_hooks \u001b[38;5;129;01mor\u001b[39;00m \u001b[38;5;28mself\u001b[39m\u001b[38;5;241m.\u001b[39m_backward_pre_hooks \u001b[38;5;129;01mor\u001b[39;00m \u001b[38;5;28mself\u001b[39m\u001b[38;5;241m.\u001b[39m_forward_hooks \u001b[38;5;129;01mor\u001b[39;00m \u001b[38;5;28mself\u001b[39m\u001b[38;5;241m.\u001b[39m_forward_pre_hooks\n\u001b[1;32m   1518\u001b[0m         \u001b[38;5;129;01mor\u001b[39;00m _global_backward_pre_hooks \u001b[38;5;129;01mor\u001b[39;00m _global_backward_hooks\n\u001b[1;32m   1519\u001b[0m         \u001b[38;5;129;01mor\u001b[39;00m _global_forward_hooks \u001b[38;5;129;01mor\u001b[39;00m _global_forward_pre_hooks):\n\u001b[0;32m-> 1520\u001b[0m     \u001b[38;5;28;01mreturn\u001b[39;00m \u001b[43mforward_call\u001b[49m\u001b[43m(\u001b[49m\u001b[38;5;241;43m*\u001b[39;49m\u001b[43margs\u001b[49m\u001b[43m,\u001b[49m\u001b[43m \u001b[49m\u001b[38;5;241;43m*\u001b[39;49m\u001b[38;5;241;43m*\u001b[39;49m\u001b[43mkwargs\u001b[49m\u001b[43m)\u001b[49m\n\u001b[1;32m   1522\u001b[0m \u001b[38;5;28;01mtry\u001b[39;00m:\n\u001b[1;32m   1523\u001b[0m     result \u001b[38;5;241m=\u001b[39m \u001b[38;5;28;01mNone\u001b[39;00m\n",
      "File \u001b[0;32m~/miniconda3/envs/submodlib-env/lib/python3.9/site-packages/torchvision/transforms/transforms.py:277\u001b[0m, in \u001b[0;36mNormalize.forward\u001b[0;34m(self, tensor)\u001b[0m\n\u001b[1;32m    269\u001b[0m \u001b[38;5;28;01mdef\u001b[39;00m \u001b[38;5;21mforward\u001b[39m(\u001b[38;5;28mself\u001b[39m, tensor: Tensor) \u001b[38;5;241m-\u001b[39m\u001b[38;5;241m>\u001b[39m Tensor:\n\u001b[1;32m    270\u001b[0m \u001b[38;5;250m    \u001b[39m\u001b[38;5;124;03m\"\"\"\u001b[39;00m\n\u001b[1;32m    271\u001b[0m \u001b[38;5;124;03m    Args:\u001b[39;00m\n\u001b[1;32m    272\u001b[0m \u001b[38;5;124;03m        tensor (Tensor): Tensor image to be normalized.\u001b[39;00m\n\u001b[0;32m   (...)\u001b[0m\n\u001b[1;32m    275\u001b[0m \u001b[38;5;124;03m        Tensor: Normalized Tensor image.\u001b[39;00m\n\u001b[1;32m    276\u001b[0m \u001b[38;5;124;03m    \"\"\"\u001b[39;00m\n\u001b[0;32m--> 277\u001b[0m     \u001b[38;5;28;01mreturn\u001b[39;00m \u001b[43mF\u001b[49m\u001b[38;5;241;43m.\u001b[39;49m\u001b[43mnormalize\u001b[49m\u001b[43m(\u001b[49m\u001b[43mtensor\u001b[49m\u001b[43m,\u001b[49m\u001b[43m \u001b[49m\u001b[38;5;28;43mself\u001b[39;49m\u001b[38;5;241;43m.\u001b[39;49m\u001b[43mmean\u001b[49m\u001b[43m,\u001b[49m\u001b[43m \u001b[49m\u001b[38;5;28;43mself\u001b[39;49m\u001b[38;5;241;43m.\u001b[39;49m\u001b[43mstd\u001b[49m\u001b[43m,\u001b[49m\u001b[43m \u001b[49m\u001b[38;5;28;43mself\u001b[39;49m\u001b[38;5;241;43m.\u001b[39;49m\u001b[43minplace\u001b[49m\u001b[43m)\u001b[49m\n",
      "File \u001b[0;32m~/miniconda3/envs/submodlib-env/lib/python3.9/site-packages/torchvision/transforms/functional.py:349\u001b[0m, in \u001b[0;36mnormalize\u001b[0;34m(tensor, mean, std, inplace)\u001b[0m\n\u001b[1;32m    346\u001b[0m \u001b[38;5;28;01mif\u001b[39;00m \u001b[38;5;129;01mnot\u001b[39;00m \u001b[38;5;28misinstance\u001b[39m(tensor, torch\u001b[38;5;241m.\u001b[39mTensor):\n\u001b[1;32m    347\u001b[0m     \u001b[38;5;28;01mraise\u001b[39;00m \u001b[38;5;167;01mTypeError\u001b[39;00m(\u001b[38;5;124mf\u001b[39m\u001b[38;5;124m\"\u001b[39m\u001b[38;5;124mimg should be Tensor Image. Got \u001b[39m\u001b[38;5;132;01m{\u001b[39;00m\u001b[38;5;28mtype\u001b[39m(tensor)\u001b[38;5;132;01m}\u001b[39;00m\u001b[38;5;124m\"\u001b[39m)\n\u001b[0;32m--> 349\u001b[0m \u001b[38;5;28;01mreturn\u001b[39;00m \u001b[43mF_t\u001b[49m\u001b[38;5;241;43m.\u001b[39;49m\u001b[43mnormalize\u001b[49m\u001b[43m(\u001b[49m\u001b[43mtensor\u001b[49m\u001b[43m,\u001b[49m\u001b[43m \u001b[49m\u001b[43mmean\u001b[49m\u001b[38;5;241;43m=\u001b[39;49m\u001b[43mmean\u001b[49m\u001b[43m,\u001b[49m\u001b[43m \u001b[49m\u001b[43mstd\u001b[49m\u001b[38;5;241;43m=\u001b[39;49m\u001b[43mstd\u001b[49m\u001b[43m,\u001b[49m\u001b[43m \u001b[49m\u001b[43minplace\u001b[49m\u001b[38;5;241;43m=\u001b[39;49m\u001b[43minplace\u001b[49m\u001b[43m)\u001b[49m\n",
      "\u001b[0;31mKeyboardInterrupt\u001b[0m: "
     ]
    }
   ],
   "source": [
    "f1 = \"ds\"\n",
    "f2 = \"dm\"\n",
    "isam = False\n",
    "p=0.5\n",
    "\n",
    "random.seed(10)\n",
    "\n",
    "order_acc = {}\n",
    "for order in func_orders:\n",
    "    if model_name==\"LeNet\":\n",
    "        model = LeNet()\n",
    "    elif model_name==\"resnet18\":\n",
    "        model = get_resent18_model()\n",
    "    elif  model_name==\"resnet101\":\n",
    "        model = get_resent101_model()\n",
    "\n",
    "    model = model.to(device=device)\n",
    "    loss_fn = nn.CrossEntropyLoss()\n",
    "\n",
    "    if optimizer_name==\"SGD_ann\":\n",
    "        optimizer = SGD(model.parameters(), lr=0.05, momentum=0.9, weight_decay=5e-4)\n",
    "        lr_scheduler = CosineAnnealingLR(optimizer, T_max=10, eta_min=0)\n",
    "    elif optimizer_name==\"adam\":\n",
    "        optimizer = torch.optim.Adam(model.parameters())\n",
    "\n",
    "    # Train the model\n",
    "    model.train()\n",
    "    start_time = time.time()\n",
    "    accuracy_list = []\n",
    "    \n",
    "    S1 = [set() for i in range(10)]\n",
    "    S2 = [set() for i in range(10)]\n",
    "    for epoch in tqdm(range(epochs)):\n",
    "            \n",
    "        if epoch==0:\n",
    "            f1, f2 = order[0], order[1]\n",
    "            update = True\n",
    "        elif epoch==20:\n",
    "            f1, f2 = order[2], order[3]\n",
    "            update = True\n",
    "        elif epoch==30:\n",
    "            f1, f2 = order[4], order[5]\n",
    "            update = True\n",
    "            \n",
    "\n",
    "        if update:\n",
    "            update = False\n",
    "            for i, s1 in enumerate(S1):\n",
    "                s1 = list(s1)\n",
    "                random.shuffle(s1)\n",
    "                S1[i] = set(s1[:int(p*len(s1))])\n",
    "            for i, s2 in enumerate(S2):\n",
    "                s2 = list(s2)\n",
    "                random.shuffle(s2)\n",
    "                S2[i] = set(s2[:int(p*len(s2))])\n",
    "\n",
    "            S1 = class_SGE(k=frac_size, obj_list=obj_list[f1], S=S1, index_list=index_list)\n",
    "            S2 = class_SGE(k=frac_size, obj_list=obj_list[f2], S=S2, index_list=index_list)\n",
    "            \n",
    "            bigS1 = []\n",
    "            for i, s1 in enumerate(S1):\n",
    "                bigS1.extend(index_list[i][j] for j in s1)\n",
    "            \n",
    "            bigS2 = []\n",
    "            for i, s2 in enumerate(S2):\n",
    "                bigS2.extend(index_list[i][j] for j in s2)\n",
    "\n",
    "            train_data = list(set(bigS1) | set(bigS2))\n",
    "            random.shuffle(train_data)\n",
    "            if len(train_data) > int(frac_size*len(train_dataset)):\n",
    "                train_data = train_data[:int(frac_size*len(train_dataset))]\n",
    "\n",
    "            sub_dataset = SubDataset(indices=train_data, dataset=train_dataset)\n",
    "            subset_train_dataloader = DataLoader(sub_dataset, batch_size=64, shuffle=True)\n",
    "        \n",
    "        for images, labels in subset_train_dataloader:\n",
    "\n",
    "            images = images.to(device)\n",
    "            labels = labels.to(device)\n",
    "\n",
    "            # Forward pass\n",
    "            outputs = model(images)\n",
    "            loss = loss_fn(outputs, labels)\n",
    "            \n",
    "            # Backward pass and update weights\n",
    "            if optimizer_name==\"SGD_ann\":\n",
    "                optimizer.zero_grad()\n",
    "                loss.backward()\n",
    "                optimizer.step()  # Update model weights\n",
    "                lr_scheduler.step()     \n",
    "            elif optimizer_name==\"adam\":\n",
    "                optimizer.zero_grad()\n",
    "                loss.backward()\n",
    "                optimizer.step()    \n",
    "        \n",
    "        # Evaluate on test set\n",
    "        correct = 0\n",
    "        total = 0\n",
    "        with torch.no_grad():\n",
    "            for images, labels in test_dataloader:\n",
    "                images = images.to(device)\n",
    "                labels = labels.to(device)\n",
    "\n",
    "                outputs = model(images)\n",
    "                predictions = torch.argmax(outputs, dim=1)\n",
    "                correct += (predictions == labels).sum().item()\n",
    "                total += labels.size(0)\n",
    "\n",
    "        accuracy = correct / total\n",
    "        accuracy_list.append(accuracy)\n",
    "\n",
    "    time_taken = time.time() - start_time    \n",
    "    print(\"--- %s seconds ---\" % (time_taken))\n",
    "\n",
    "    # Evaluate on test set\n",
    "    correct = 0\n",
    "    total = 0\n",
    "    with torch.no_grad():\n",
    "        for images, labels in tqdm(test_dataloader):\n",
    "            images = images.to(device)\n",
    "            labels = labels.to(device)\n",
    "\n",
    "            outputs = model(images)\n",
    "            predictions = torch.argmax(outputs, dim=1)\n",
    "            correct += (predictions == labels).sum().item()\n",
    "            total += labels.size(0)\n",
    "\n",
    "    accuracy = correct / total\n",
    "    \n",
    "\n",
    "    order_name = \"\"\n",
    "    for n in order:\n",
    "        order_name+=n+\"_\"\n",
    "    \n",
    "    order_name = order_name[:-1]\n",
    "    order_acc[order_name] = accuracy\n",
    "    print(f\"order {order_name} accuracy: {accuracy}\")\n",
    "    print(accuracy_list)\n",
    "    acc_dic[order_name] = accuracy_list\n",
    "    accuracy_list = []\n"
   ]
  },
  {
   "cell_type": "code",
   "execution_count": 26,
   "metadata": {},
   "outputs": [],
   "source": [
    "with open(\"./online_is_50.pkl\", 'wb') as f:\n",
    "    pickle.dump(acc_dic, f)"
   ]
  },
  {
   "cell_type": "code",
   "execution_count": 23,
   "metadata": {},
   "outputs": [],
   "source": [
    "with open(\"./order.pkl\", 'wb') as f:\n",
    "    pickle.dump(order_acc, f)"
   ]
  },
  {
   "cell_type": "code",
   "execution_count": 24,
   "metadata": {},
   "outputs": [
    {
     "ename": "NameError",
     "evalue": "name 'res' is not defined",
     "output_type": "error",
     "traceback": [
      "\u001b[0;31m---------------------------------------------------------------------------\u001b[0m",
      "\u001b[0;31mNameError\u001b[0m                                 Traceback (most recent call last)",
      "Cell \u001b[0;32mIn[24], line 2\u001b[0m\n\u001b[1;32m      1\u001b[0m plt\u001b[38;5;241m.\u001b[39mclf()\n\u001b[0;32m----> 2\u001b[0m \u001b[38;5;28;01mfor\u001b[39;00m label, data \u001b[38;5;129;01min\u001b[39;00m \u001b[43mres\u001b[49m\u001b[38;5;241m.\u001b[39mitems():\n\u001b[1;32m      3\u001b[0m     plt\u001b[38;5;241m.\u001b[39mplot(data, label\u001b[38;5;241m=\u001b[39mlabel)\n\u001b[1;32m      5\u001b[0m plt\u001b[38;5;241m.\u001b[39mtick_params(bottom\u001b[38;5;241m=\u001b[39m\u001b[38;5;28;01mFalse\u001b[39;00m, labelbottom\u001b[38;5;241m=\u001b[39m\u001b[38;5;28;01mFalse\u001b[39;00m)\n",
      "\u001b[0;31mNameError\u001b[0m: name 'res' is not defined"
     ]
    },
    {
     "data": {
      "text/plain": [
       "<Figure size 640x480 with 0 Axes>"
      ]
     },
     "metadata": {},
     "output_type": "display_data"
    }
   ],
   "source": [
    "plt.clf()\n",
    "for label, data in res.items():\n",
    "    plt.plot(data, label=label)\n",
    "\n",
    "plt.tick_params(bottom=False, labelbottom=False)\n",
    "plt.xlabel(\"Epochs\")\n",
    "plt.ylabel(\"Accuracy\")\n",
    "plt.title(\"All Accuracies\")\n",
    "plt.legend()\n",
    "plt.savefig(\"./results/para/accuracies.png\")"
   ]
  }
 ],
 "metadata": {
  "kernelspec": {
   "display_name": "submodlib-env",
   "language": "python",
   "name": "python3"
  },
  "language_info": {
   "codemirror_mode": {
    "name": "ipython",
    "version": 3
   },
   "file_extension": ".py",
   "mimetype": "text/x-python",
   "name": "python",
   "nbconvert_exporter": "python",
   "pygments_lexer": "ipython3",
   "version": "3.9.18"
  }
 },
 "nbformat": 4,
 "nbformat_minor": 2
}
