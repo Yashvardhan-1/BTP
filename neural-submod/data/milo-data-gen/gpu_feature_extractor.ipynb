{
 "cells": [
  {
   "cell_type": "code",
   "execution_count": 1,
   "metadata": {},
   "outputs": [
    {
     "name": "stderr",
     "output_type": "stream",
     "text": [
      "/raid/ganesh/namitha/miniconda3/envs/submodlib-env/lib/python3.9/site-packages/tqdm/auto.py:21: TqdmWarning: IProgress not found. Please update jupyter and ipywidgets. See https://ipywidgets.readthedocs.io/en/stable/user_install.html\n",
      "  from .autonotebook import tqdm as notebook_tqdm\n"
     ]
    }
   ],
   "source": [
    "import torch\n",
    "import torch.nn as nn\n",
    "import torch.optim as optim\n",
    "\n",
    "import torchvision\n",
    "from tqdm import tqdm\n",
    "import torchvision.transforms as transforms\n",
    "from torchvision import datasets, transforms\n",
    "from tqdm import tqdm \n",
    "import time\n",
    "from torch.utils.data import random_split, Dataset, DataLoader, BatchSampler, SequentialSampler\n",
    "from torchvision.models.resnet import ResNet18_Weights\n",
    "import pickle\n",
    "import random\n",
    "from torch.optim import SGD\n",
    "from torch.optim.lr_scheduler import CosineAnnealingLR"
   ]
  },
  {
   "cell_type": "code",
   "execution_count": 2,
   "metadata": {},
   "outputs": [],
   "source": [
    "if torch.backends.mps.is_available():\n",
    "    device = \"mps\"\n",
    "elif torch.cuda.is_available():\n",
    "    device = \"cuda:5\" # change the available gpu number\n",
    "else:\n",
    "    device = \"cpu\""
   ]
  },
  {
   "cell_type": "code",
   "execution_count": 4,
   "metadata": {},
   "outputs": [],
   "source": [
    "data_dir = \"../data\"\n",
    "seed = 42\n",
    "gen_for = \"train\""
   ]
  },
  {
   "cell_type": "code",
   "execution_count": 5,
   "metadata": {},
   "outputs": [
    {
     "name": "stderr",
     "output_type": "stream",
     "text": [
      "/raid/ganesh/namitha/miniconda3/envs/submodlib-env/lib/python3.9/site-packages/transformers/models/vit/feature_extraction_vit.py:28: FutureWarning: The class ViTFeatureExtractor is deprecated and will be removed in version 5 of Transformers. Please use ViTImageProcessor instead.\n",
      "  warnings.warn(\n",
      "Some weights of ViTModel were not initialized from the model checkpoint at facebook/dino-vitb16 and are newly initialized: ['pooler.dense.bias', 'pooler.dense.weight']\n",
      "You should probably TRAIN this model on a down-stream task to be able to use it for predictions and inference.\n"
     ]
    }
   ],
   "source": [
    "from transformers import ViTFeatureExtractor, ViTModel\n",
    "feature_extractor = ViTFeatureExtractor.from_pretrained('facebook/dino-vitb16')\n",
    "model = ViTModel.from_pretrained('facebook/dino-vitb16')"
   ]
  },
  {
   "cell_type": "code",
   "execution_count": 6,
   "metadata": {},
   "outputs": [
    {
     "name": "stdout",
     "output_type": "stream",
     "text": [
      "Files already downloaded and verified\n",
      "Files already downloaded and verified\n"
     ]
    }
   ],
   "source": [
    "fullset = torchvision.datasets.CIFAR10(root=data_dir, train=True, download=True, transform=None)\n",
    "testset = torchvision.datasets.CIFAR10(root=data_dir, train=False, download=True, transform=None)\n",
    "\n",
    "trainset = fullset\n",
    "\n",
    "# validation_set_fraction = 0.1\n",
    "# num_fulltrn = len(fullset)\n",
    "# num_val = int(num_fulltrn * validation_set_fraction)\n",
    "# num_trn = num_fulltrn - num_val\n",
    "# trainset, valset = random_split(fullset, [num_trn, num_val], generator=torch.Generator().manual_seed(seed))\n"
   ]
  },
  {
   "cell_type": "code",
   "execution_count": 7,
   "metadata": {},
   "outputs": [
    {
     "name": "stdout",
     "output_type": "stream",
     "text": [
      "<class 'torchvision.datasets.cifar.CIFAR10'>\n"
     ]
    }
   ],
   "source": [
    "print(type(testset))"
   ]
  },
  {
   "cell_type": "code",
   "execution_count": 8,
   "metadata": {},
   "outputs": [],
   "source": [
    "if gen_for==\"train\":\n",
    "    l = list(zip(*trainset))\n",
    "elif gen_for==\"val\":\n",
    "    l = list(zip(*valset))\n",
    "else: \n",
    "    l = list(zip(*testset))\n",
    "    \n",
    "images = list(l[0])\n",
    "labels = list(l[1])"
   ]
  },
  {
   "cell_type": "code",
   "execution_count": 9,
   "metadata": {},
   "outputs": [
    {
     "name": "stderr",
     "output_type": "stream",
     "text": [
      "Some weights of ViTModel were not initialized from the model checkpoint at facebook/dino-vitb16 and are newly initialized: ['pooler.dense.bias', 'pooler.dense.weight']\n",
      "You should probably TRAIN this model on a down-stream task to be able to use it for predictions and inference.\n",
      "100%|██████████| 2500/2500 [03:18<00:00, 12.60it/s]\n"
     ]
    }
   ],
   "source": [
    "feature_extractor = ViTFeatureExtractor.from_pretrained('facebook/dino-vitb16')\n",
    "model = ViTModel.from_pretrained('facebook/dino-vitb16')\n",
    "model= model.to(device)\n",
    "\n",
    "sampler = BatchSampler(SequentialSampler(range(len(images))), 20, drop_last=False)\n",
    "\n",
    "inputs = []\n",
    "for indices in tqdm(sampler):\n",
    "    if images[0].mode == 'L':\n",
    "        images_batch = [images[x].convert('RGB') for x in indices]\n",
    "    else:\n",
    "        images_batch = [images[x] for x in indices]\n",
    "    inputs.append(feature_extractor(images_batch, return_tensors=\"pt\"))\n"
   ]
  },
  {
   "cell_type": "code",
   "execution_count": 10,
   "metadata": {},
   "outputs": [
    {
     "name": "stdout",
     "output_type": "stream",
     "text": [
      "torch.Size([20, 3, 224, 224])\n"
     ]
    }
   ],
   "source": [
    "print(inputs[-1]['pixel_values'].shape)"
   ]
  },
  {
   "cell_type": "code",
   "execution_count": 11,
   "metadata": {},
   "outputs": [
    {
     "name": "stderr",
     "output_type": "stream",
     "text": [
      "100%|██████████| 2500/2500 [02:18<00:00, 18.04it/s]\n"
     ]
    }
   ],
   "source": [
    "img_features = []\n",
    "for batch_inputs in tqdm(inputs):\n",
    "    tmp_feat_dict = {}\n",
    "    for key in batch_inputs.keys():\n",
    "        tmp_feat_dict[key] = batch_inputs[key].to(device=device)\n",
    "    with torch.no_grad():\n",
    "        batch_outputs = model(**tmp_feat_dict)\n",
    "    batch_img_features = batch_outputs.last_hidden_state[:, 0, :].cpu()\n",
    "    img_features.append(batch_img_features)\n",
    "    del tmp_feat_dict\n",
    "\n",
    "img_features = torch.cat(img_features, dim=0)"
   ]
  },
  {
   "cell_type": "code",
   "execution_count": 12,
   "metadata": {},
   "outputs": [
    {
     "name": "stdout",
     "output_type": "stream",
     "text": [
      "50000\n"
     ]
    }
   ],
   "source": [
    "print(len(img_features))"
   ]
  },
  {
   "cell_type": "code",
   "execution_count": 13,
   "metadata": {},
   "outputs": [
    {
     "name": "stdout",
     "output_type": "stream",
     "text": [
      "tensor([ 8.8978e-01, -6.3212e+00, -6.9181e-01, -1.4464e+00, -1.8335e+00,\n",
      "         3.1475e+00, -9.9643e-01, -5.7139e+00,  1.1702e+00, -1.1717e+00,\n",
      "        -1.2492e+00,  1.0339e+00,  1.2923e+00, -1.9246e+00, -1.8985e+00,\n",
      "        -1.8697e+00, -1.2201e+00,  9.3051e-01,  1.6888e+00,  2.6289e+00,\n",
      "         9.1540e-01, -2.9322e-01, -3.7355e+00,  8.1620e-01, -2.4800e+00,\n",
      "         3.3918e+00, -1.9557e+00, -1.1021e+00,  7.6965e-01, -1.5778e+00,\n",
      "        -7.1605e-01,  1.0714e+00,  5.5071e-01,  5.6272e+00, -3.2170e-01,\n",
      "         6.1667e+00,  1.0122e+00, -3.0052e+00, -3.9802e-01, -3.1824e-01,\n",
      "        -7.3926e-01, -7.7348e-02, -5.8888e-01,  1.7290e+00,  1.0743e+01,\n",
      "        -2.3264e+00,  1.2374e+00, -1.1408e+00, -2.5777e+00,  1.2889e+00,\n",
      "        -2.2574e+00, -4.1362e-01,  5.1761e+00, -3.8840e-01, -6.9574e+00,\n",
      "         6.1980e-01, -1.2141e-01,  1.5531e+00, -1.4215e+00, -8.0846e-01,\n",
      "         2.8767e-01,  3.5750e+00, -3.1802e+00, -1.5263e+00,  5.0163e-01,\n",
      "        -3.6007e-01, -2.2853e+00, -1.0308e+01,  2.9014e+00, -4.5716e-01,\n",
      "        -1.7194e+00,  9.1444e-01,  7.1069e-01,  6.8264e-01, -5.9729e-01,\n",
      "        -1.0086e+00, -1.9206e+00,  1.8804e+00,  2.3396e+00, -1.2163e+00,\n",
      "         1.5166e+00, -1.8079e+00, -8.7758e-01,  1.7115e+00, -3.0195e-01,\n",
      "         1.7854e+00,  3.5667e-02,  2.9366e+00, -1.7627e+00, -5.6931e+00,\n",
      "         3.3045e+00,  2.9954e-01, -4.5637e+00,  1.6062e+00, -2.8536e+00,\n",
      "        -2.6676e+00, -1.4764e+00,  3.0330e-01, -1.5518e+00,  7.1508e-02,\n",
      "        -1.7362e+00, -3.0452e+00,  4.8777e+00,  9.4029e-02, -4.3271e-01,\n",
      "         1.5875e+00, -1.5008e+00, -1.0220e+00, -1.9923e+00,  1.2601e-01,\n",
      "        -1.0221e+00, -2.2904e+00, -4.8489e+00, -5.1079e-01,  3.6211e+00,\n",
      "        -4.9551e-01,  1.0646e+00,  6.1607e+00,  1.4097e+00, -4.1739e-01,\n",
      "         3.6142e-01,  8.6436e-01,  8.2297e-01, -2.6463e+00, -2.8275e+00,\n",
      "         2.2763e+00,  4.1970e-01,  1.6411e+00, -8.9589e-01,  3.3885e-01,\n",
      "        -4.9456e-01, -7.9421e-01,  1.6927e+00, -1.4390e+00,  1.0057e+00,\n",
      "         1.9756e-01, -6.5583e+00,  4.3248e+00, -1.2952e+00, -8.8677e-01,\n",
      "        -3.0108e+00, -1.2215e+00, -2.6602e+00,  2.9564e+00,  1.7619e+00,\n",
      "        -7.7208e+00, -4.4078e-01,  3.6770e+00,  1.6339e+00, -5.2855e-01,\n",
      "         2.4891e+00,  2.5974e+00,  9.3898e-01, -1.1351e+00,  2.0045e-01,\n",
      "         2.7062e-01,  3.2012e-01,  6.9361e+00,  1.3668e+00, -1.8152e-01,\n",
      "        -9.2081e-01,  3.4294e-01, -2.7025e+00,  2.3626e+00, -5.3450e-02,\n",
      "        -2.6405e+00, -1.5524e+00, -2.6899e-02, -3.6543e+00,  1.2751e+00,\n",
      "        -1.9909e+00, -4.7716e+00,  2.0925e+00, -3.6833e+00, -1.3839e+00,\n",
      "        -3.5356e+00,  1.1718e+00,  1.9660e+00,  8.4218e-02,  8.0045e-01,\n",
      "        -1.4060e+00, -9.5174e-01, -3.0163e-01,  1.9025e+00,  2.4913e+00,\n",
      "         3.3180e+00, -3.9873e+00,  1.0945e+00,  1.1502e+00, -1.1276e+00,\n",
      "         1.7734e+00, -1.4955e+00,  1.2151e+00, -2.7590e+00,  2.1013e+00,\n",
      "         7.7851e-01,  7.9696e-01,  1.1939e+00,  1.7963e+00,  6.9944e-01,\n",
      "        -2.9519e+00,  3.9615e+00,  1.2706e-01,  2.4800e+00, -3.2994e-05,\n",
      "        -2.4145e+00, -1.0661e+00,  8.6514e-02,  2.7450e+00,  1.2396e+00,\n",
      "        -5.6304e+00,  6.0364e-02, -7.5028e-01,  4.6280e-01,  2.5337e+00,\n",
      "         2.4413e+00, -1.1466e+00, -5.3634e+00,  1.5489e+00, -7.0933e-01,\n",
      "        -1.9417e+00, -2.4846e+00,  1.2378e+00,  7.4089e-01, -3.3656e+00,\n",
      "        -1.3553e+00, -2.4484e+00,  3.0043e+00,  8.1582e+00, -1.6829e+00,\n",
      "         1.2114e+01,  9.8156e-01,  1.5799e+00,  6.9699e-01, -2.9973e+00,\n",
      "        -6.3227e-01, -2.3018e+00,  3.2385e+00,  1.3603e+00, -8.4981e-01,\n",
      "         2.8736e+00, -1.6317e+00,  1.0126e+00, -1.7508e+00, -8.9746e-01,\n",
      "         4.1777e-01,  3.9629e+00,  1.5434e+00,  1.8389e+00, -1.7117e-02,\n",
      "        -3.1423e-01, -2.8417e+00, -5.9424e+00,  3.9409e-02,  3.3262e+00,\n",
      "        -4.4305e+00,  2.2036e+00,  1.9510e+00,  3.2872e+00,  9.6415e-01,\n",
      "         2.9136e+00, -3.5361e+00, -1.0261e-01,  1.7692e+00,  1.9777e+00,\n",
      "         2.6314e-01, -8.1829e-01,  3.7583e-02, -1.4559e-01,  9.5113e-02,\n",
      "         1.0254e+00,  1.5945e-01, -7.5119e-01,  1.6666e+00,  6.8304e-01,\n",
      "        -1.1070e+00,  2.2765e+00, -5.3028e+00, -3.4871e+00, -1.1000e+00,\n",
      "         1.0392e-01, -2.8468e+00,  3.0971e+00,  4.1774e+00, -2.9071e+00,\n",
      "         1.9222e+00,  3.9894e+00, -6.7673e+00,  2.8804e+00,  1.6484e+00,\n",
      "         4.5667e-01, -2.0055e+00, -2.8768e+00,  3.5450e+00,  1.2787e+00,\n",
      "        -1.1277e+00, -3.0465e+00,  2.7451e+00, -1.3481e+00,  4.0977e-01,\n",
      "        -2.3599e-01, -2.1817e+00, -6.8755e-01, -3.1608e-01, -5.3285e-05,\n",
      "        -2.1923e+00,  9.2202e-02, -1.0427e+00, -1.9663e+00, -2.7289e+00,\n",
      "        -3.1591e-02, -1.1493e+00, -1.5253e+00,  2.0180e-01,  1.6637e-01,\n",
      "         6.6845e-01,  2.1731e+00,  4.0107e-01,  1.2217e+00, -1.3320e-01,\n",
      "         1.4380e+00, -2.9309e+00, -9.5027e-01,  8.6219e-01,  2.3233e+00,\n",
      "        -2.6566e-01, -3.6400e+00, -6.6665e-01,  4.4167e+00,  1.3002e+00,\n",
      "        -1.9836e+00, -3.8888e+00,  5.7519e+00, -1.4609e+00, -4.0673e-01,\n",
      "         1.8062e+00, -1.2609e+00,  1.8581e+00,  1.6044e+00, -2.7789e+00,\n",
      "        -4.7875e-02,  6.5247e-02, -7.5873e-01, -1.2735e+00,  3.2083e+00,\n",
      "         1.1053e+00, -1.9050e+00, -1.4069e+00,  1.4564e+00,  1.2098e+00,\n",
      "         1.0387e+00,  2.7492e+00, -2.5620e+00,  1.2239e+00,  9.1924e-01,\n",
      "         8.7701e+00, -1.5666e-01,  6.9380e-02, -3.7914e+00,  1.1073e+00,\n",
      "        -1.8548e+00,  1.5935e+00,  1.7039e+00,  3.3932e+00,  8.7076e-01,\n",
      "        -3.6636e+00,  7.9073e-01,  1.3275e+00, -7.7208e-01,  7.0699e-01,\n",
      "         1.0033e+00,  8.4508e-01,  1.4139e+00,  2.5737e+00, -1.1134e+00,\n",
      "         9.5985e-01, -7.4564e-01, -1.1625e+00, -1.8525e+00,  1.1909e+00,\n",
      "        -7.8873e-01, -4.8273e-01, -3.2269e+00, -1.1574e-01,  5.2310e+00,\n",
      "         4.6314e+00,  1.6849e+00, -1.2531e+00,  2.4558e+00, -1.9856e+00,\n",
      "        -2.2734e+00,  2.7172e+00,  4.5261e-01,  9.0560e-01,  4.4772e-04,\n",
      "        -1.8976e+00,  2.5356e+00, -1.5027e+00, -2.2927e+00, -2.7360e+00,\n",
      "         5.1394e-01,  9.7151e-02,  1.1161e+00, -2.7885e+00, -3.3358e-01,\n",
      "         2.0968e+00,  2.6234e+00,  3.2006e+00,  1.4267e+00,  2.5806e+00,\n",
      "        -1.7160e-01,  4.9742e+00, -2.8783e-01,  3.0611e+00,  2.5140e-01,\n",
      "         2.4739e+00,  1.4493e-02, -1.8692e+00, -9.4278e-02,  7.5886e-01,\n",
      "        -2.0590e+00, -3.5203e+00, -1.4996e+00, -2.1657e+00, -2.0701e+00,\n",
      "        -8.6140e-01,  7.7863e-01, -1.8916e+00,  9.6126e-01,  8.2231e-01,\n",
      "        -1.7074e+00, -1.1302e+00,  1.1868e-01,  1.7817e+00, -8.5125e-01,\n",
      "        -8.2097e-01,  7.6119e-01, -3.3481e-01, -3.3232e+00, -3.2333e-01,\n",
      "        -1.0206e-01, -4.8922e-01,  2.0594e+00,  3.3503e+00,  2.5173e+00,\n",
      "        -4.0766e+00, -4.7786e-01,  1.1479e-01, -7.9750e-01, -8.2849e-01,\n",
      "        -8.9004e-01,  1.1178e+00,  2.8321e+00, -1.4106e+00,  1.1451e+00,\n",
      "        -6.6756e-01, -1.0535e+00, -4.5273e+00,  1.1143e+00, -4.1376e-01,\n",
      "        -1.9471e+00, -1.1664e-02,  2.0911e+00, -1.7087e+00, -5.6450e-01,\n",
      "         1.1576e+00,  1.2141e+00, -3.8365e+00, -3.3857e-01, -1.7710e-01,\n",
      "         3.9826e+00,  1.0497e+00, -1.4512e-01,  8.4690e-02,  1.6469e-01,\n",
      "        -1.4720e+00, -1.4977e+00, -7.4464e-02,  1.7730e+00,  2.5429e+00,\n",
      "        -1.6708e+00,  3.2737e+00,  1.4003e+00,  2.2626e-02, -1.9070e+00,\n",
      "        -1.6004e+00,  1.8667e+00, -1.5523e-01,  2.1359e+00,  4.3017e+00,\n",
      "        -1.9111e-01, -1.7445e+00, -1.9950e+00, -1.8308e+00,  5.2303e+00,\n",
      "        -9.1613e-01,  1.2028e+00,  1.2794e+00,  7.8436e+00, -5.2110e+00,\n",
      "         1.4339e-02, -1.1079e+00, -1.5220e+00, -2.0548e+00, -2.8460e+00,\n",
      "        -1.7137e+00,  3.7868e+00,  1.1773e-01, -2.2695e-01,  2.0921e+00,\n",
      "         3.1235e-01,  1.5124e+00, -1.6130e-01, -1.6001e+00, -2.4364e+00,\n",
      "        -1.3289e-01, -2.3753e+00, -1.8116e+00, -3.1015e+00, -5.6821e+00,\n",
      "        -9.2615e-02, -2.5169e-01, -6.4182e-01,  9.4766e-01,  1.8195e+00,\n",
      "         1.7007e-01, -8.6022e-01,  9.0955e-01, -3.6440e+00, -8.7898e-01,\n",
      "        -6.6690e-01,  1.2492e+00, -1.1224e+00, -1.5245e+00,  1.8886e+00,\n",
      "         3.1059e+00,  1.0893e-01,  1.0096e+00, -9.5825e-01,  3.2158e-02,\n",
      "         1.1581e-01, -1.0804e+00, -1.5960e+00,  2.2762e+00,  8.9992e-01,\n",
      "         2.4980e+00,  7.1734e-01, -1.5971e+00,  2.2918e+00, -1.2095e-01,\n",
      "        -3.3945e-05,  1.2957e+00,  2.0759e+00,  9.6877e-01, -1.0619e+00,\n",
      "        -3.4384e+00,  2.3615e+00,  3.4988e+00,  1.0158e+00,  5.8971e-01,\n",
      "         1.7900e+00,  1.7678e+00,  2.3576e-01, -1.0464e-01,  2.5329e+00,\n",
      "        -4.1405e-01, -1.7287e+00, -1.6779e-01, -2.4351e+00, -4.1491e-01,\n",
      "         2.3466e-01, -1.1732e+00,  3.5424e+00, -4.3350e-01,  8.6406e-01,\n",
      "        -9.5903e-02, -1.0373e+00,  3.9412e-01, -4.8444e-01, -5.8768e-01,\n",
      "        -4.4722e-01, -8.2210e-01,  4.1571e-01, -3.8498e+00,  2.7936e+00,\n",
      "        -2.0998e+00, -1.7483e+00, -3.9474e-01, -2.6623e+00, -3.2831e+00,\n",
      "         1.1997e+00,  4.0002e-05, -4.5234e-01,  3.9136e+00,  2.8092e+00,\n",
      "         6.9087e-01,  1.8249e+00, -3.4482e+00,  3.9938e-01, -1.0489e+00,\n",
      "         1.4625e+00, -8.3326e-01, -4.1304e+00, -5.8237e+00,  1.0567e+00,\n",
      "         3.6051e+00,  4.5515e-01, -8.0255e-01,  2.0094e+00,  4.6199e+00,\n",
      "        -6.1296e-01, -1.7071e+00,  8.4487e-01, -1.7372e-01, -6.7600e-02,\n",
      "         1.5288e+00,  1.7884e+00,  2.1064e+00,  6.4565e-01,  3.8241e-01,\n",
      "        -2.0793e+00, -1.3222e+00,  1.8801e+00, -2.9832e-01, -1.2373e+00,\n",
      "        -8.6888e+00, -7.0301e-01,  3.4923e-02, -1.4487e+00, -1.8027e+00,\n",
      "        -4.2824e-01,  2.2444e+00,  2.9848e-01, -9.5234e-01, -3.1886e+00,\n",
      "        -3.3386e+00, -1.4279e+00, -8.8921e-01, -2.0289e+00, -1.2515e+00,\n",
      "        -3.9047e+00, -1.3939e+00, -3.7312e-01, -1.1518e+00, -1.4336e-01,\n",
      "        -1.3743e+00, -4.4556e+00, -1.7797e-02,  2.8102e+00, -1.3338e+00,\n",
      "         2.0690e+00, -5.9993e-01,  1.4439e+00,  1.1759e+00, -1.3356e+00,\n",
      "         1.3623e+00, -6.2428e-01,  5.0713e-01,  9.5139e-01,  1.8119e+00,\n",
      "         1.9658e+00, -3.4854e-01, -7.8272e-01, -5.7238e-01,  1.4497e+00,\n",
      "        -1.5813e+00,  2.2492e+00, -1.4512e+00, -4.6044e-01, -4.2324e+00,\n",
      "         2.6396e+00,  4.1174e-01,  5.5694e-01, -2.3451e+00,  2.9985e+00,\n",
      "        -2.0268e+00, -2.2351e+00, -8.0757e-01,  3.4409e+00, -2.2199e+00,\n",
      "        -6.7351e-01, -4.7333e-01,  2.5078e-02,  4.4012e+00, -2.4248e+00,\n",
      "        -1.8435e+00,  1.7161e+00,  2.9985e+00,  2.1908e+00, -3.8936e+00,\n",
      "        -5.7937e-01,  1.0666e+00,  3.4176e+00,  1.0444e-01, -4.7520e-01,\n",
      "        -9.8315e-01,  1.7971e+00, -9.8695e-01,  1.0894e+00, -1.8573e+00,\n",
      "        -5.2988e+00,  1.1727e-01, -4.5362e+00,  3.8925e+00, -3.1465e+00,\n",
      "        -1.2400e+00, -9.2522e-01,  3.4473e-01, -3.8080e-01, -2.2894e+00,\n",
      "         9.5127e-01,  6.6180e-01,  8.5354e-01, -2.8271e+00,  3.6601e+00,\n",
      "         2.4093e+00, -1.1351e+00, -7.5369e-02,  2.2067e+00,  4.5257e+00,\n",
      "        -2.0751e-01, -6.8127e-01, -3.4728e+00, -2.5085e-01, -4.2765e-01,\n",
      "         2.6234e-01, -2.0681e-02, -1.4460e+00,  9.4335e-01, -1.5512e+00,\n",
      "         1.5924e+00, -1.3666e+00,  3.0999e+00, -1.3098e+00,  1.3025e+00,\n",
      "         1.7572e+00,  4.5740e-01, -6.1740e-01, -2.3814e+00, -3.5426e+00,\n",
      "         2.6256e+00,  1.7427e+00,  2.2521e+00, -2.2851e+00, -2.5795e+00,\n",
      "         8.0122e-01,  1.9204e+00, -4.6620e+00,  7.2982e+00,  7.5178e-01,\n",
      "         2.6679e+00,  4.0670e+00,  1.4854e+00, -1.2702e+00, -3.2235e-01,\n",
      "         7.5662e-01, -1.5163e-01, -2.3493e+00,  3.6223e+00, -1.1896e+00,\n",
      "        -1.2487e+00,  2.1035e+00,  3.7908e-01,  3.2330e+00, -9.9218e-01,\n",
      "         9.0100e-01, -1.7097e+00, -8.3806e-01])\n"
     ]
    }
   ],
   "source": [
    "print(img_features[0])"
   ]
  },
  {
   "cell_type": "code",
   "execution_count": 18,
   "metadata": {},
   "outputs": [],
   "source": [
    "data = {}\n",
    "indexes = range(len(trainset))\n",
    "data[\"Index\"] = indexes\n",
    "data[\"Label\"] = labels\n",
    "data[\"Features\"] = list(img_features.numpy())"
   ]
  },
  {
   "cell_type": "code",
   "execution_count": 19,
   "metadata": {},
   "outputs": [
    {
     "name": "stdout",
     "output_type": "stream",
     "text": [
      "torch.Size([50000, 768])\n"
     ]
    }
   ],
   "source": [
    "print(img_features.shape)"
   ]
  },
  {
   "cell_type": "code",
   "execution_count": 20,
   "metadata": {},
   "outputs": [],
   "source": [
    "import pandas as pd\n",
    "df = pd.DataFrame(data)"
   ]
  },
  {
   "cell_type": "code",
   "execution_count": 21,
   "metadata": {},
   "outputs": [],
   "source": [
    "with open(f\"./cifar10-dino-cls/dataframe-{gen_for}.pkl\", 'wb') as file:\n",
    "    pickle.dump(df, file)"
   ]
  },
  {
   "cell_type": "markdown",
   "metadata": {},
   "source": [
    "## Check"
   ]
  },
  {
   "cell_type": "code",
   "execution_count": 22,
   "metadata": {},
   "outputs": [],
   "source": [
    "import numpy as np\n",
    "import pandas as pd\n",
    "from sklearn.manifold import TSNE\n",
    "import pickle\n",
    "from sklearn.decomposition import PCA\n",
    "import matplotlib.pyplot as plt\n",
    "\n",
    "with open(f\"./cifar10-dino-cls/dataframe-{gen_for}.pkl\", 'rb') as f:\n",
    "    data = pickle.load(f)"
   ]
  },
  {
   "cell_type": "code",
   "execution_count": null,
   "metadata": {},
   "outputs": [],
   "source": [
    "n_components = 5\n",
    "pca = PCA(n_components=n_components)\n",
    "features_matrix = np.stack(data['Features'].values)\n",
    "reduced_features = pca.fit_transform(features_matrix)\n",
    "data['Reduced_Features'] = list(reduced_features)"
   ]
  },
  {
   "cell_type": "code",
   "execution_count": 24,
   "metadata": {},
   "outputs": [
    {
     "name": "stdout",
     "output_type": "stream",
     "text": [
      "[t-SNE] Computing 121 nearest neighbors...\n",
      "[t-SNE] Indexed 1000 samples in 0.000s...\n",
      "[t-SNE] Computed neighbors for 1000 samples in 0.258s...\n",
      "[t-SNE] Computed conditional probabilities for sample 1000 / 1000\n",
      "[t-SNE] Mean sigma: 18.208914\n",
      "[t-SNE] KL divergence after 250 iterations with early exaggeration: 64.743088\n",
      "[t-SNE] KL divergence after 300 iterations: 1.411754\n"
     ]
    },
    {
     "name": "stderr",
     "output_type": "stream",
     "text": [
      "/tmp/ipykernel_2951321/1460110198.py:15: MatplotlibDeprecationWarning: The get_cmap function was deprecated in Matplotlib 3.7 and will be removed two minor releases later. Use ``matplotlib.colormaps[name]`` or ``matplotlib.colormaps.get_cmap(obj)`` instead.\n",
      "  colors = plt.cm.get_cmap('tab10', len(dataframes))  # Get a colormap with enough colors\n"
     ]
    },
    {
     "data": {
      "image/png": "[encoded data removed]",
      "text/plain": [
       "<Figure size 640x480 with 1 Axes>"
      ]
     },
     "metadata": {},
     "output_type": "display_data"
    }
   ],
   "source": [
    "col = \"Features\"\n",
    "\n",
    "groups = data.groupby('Label')\n",
    "dataframes = [group for _, group in groups]\n",
    "\n",
    "np.random.seed(42)\n",
    "n = 100\n",
    "\n",
    "all_samples = pd.concat([df.sample(n) for df in dataframes], ignore_index=True)\n",
    "features = np.stack(all_samples[col].values)\n",
    "\n",
    "tsne = TSNE(n_components=2, verbose=1, perplexity=40, n_iter=300)\n",
    "tsne_results = tsne.fit_transform(features)\n",
    "\n",
    "colors = plt.cm.get_cmap('tab10', len(dataframes))  # Get a colormap with enough colors\n",
    "fig, ax = plt.subplots()\n",
    "\n",
    "for i, df in enumerate(dataframes):\n",
    "    start_idx = i * n\n",
    "    end_idx = start_idx + n\n",
    "    ax.scatter(tsne_results[start_idx:end_idx, 0], tsne_results[start_idx:end_idx, 1], color=colors(i), label=f'class {i+1}', s=5)\n",
    "\n",
    "ax.legend()\n",
    "plt.title('t-SNE visualization of multiple DataFrames')\n",
    "plt.xlabel('Component 1')\n",
    "plt.ylabel('Component 2')\n",
    "plt.show()"
   ]
  }
 ],
 "metadata": {
  "kernelspec": {
   "display_name": "submodlib-env",
   "language": "python",
   "name": "python3"
  },
  "language_info": {
   "codemirror_mode": {
    "name": "ipython",
    "version": 3
   },
   "file_extension": ".py",
   "mimetype": "text/x-python",
   "name": "python",
   "nbconvert_exporter": "python",
   "pygments_lexer": "ipython3",
   "version": "3.9.18"
  }
 },
 "nbformat": 4,
 "nbformat_minor": 2
}
