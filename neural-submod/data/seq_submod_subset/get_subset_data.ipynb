{
 "cells": [
  {
   "cell_type": "code",
   "execution_count": 8,
   "metadata": {},
   "outputs": [],
   "source": [
    "import math\n",
    "import random\n",
    "from tqdm import tqdm\n",
    "import math\n",
    "import numpy as np\n",
    "from submodlib import FacilityLocationFunction, GraphCutFunction, DisparityMinFunction, DisparitySumFunction\n",
    "import pickle\n",
    "import time\n",
    "import os\n",
    "import timeit\n",
    "from itertools import permutations\n",
    "from torchvision import datasets, transforms\n",
    "import pandas as pd"
   ]
  },
  {
   "cell_type": "code",
   "execution_count": 2,
   "metadata": {},
   "outputs": [
    {
     "name": "stdout",
     "output_type": "stream",
     "text": [
      "Files already downloaded and verified\n",
      "Files already downloaded and verified\n"
     ]
    }
   ],
   "source": [
    "dataset = \"cifar10\"\n",
    "\n",
    "train_dataset = datasets.CIFAR10(root=\"../../data\", train=True, download=True)\n",
    "test_dataset = datasets.CIFAR10(root=\"../../data\", train=False, download=True)\n"
   ]
  },
  {
   "cell_type": "code",
   "execution_count": null,
   "metadata": {},
   "outputs": [],
   "source": [
    "# import sys\n",
    "# sys.path.append('..')\n",
    "# from utils.feature_extrater.cifar_feature_extractor import extract_features_threaded_worker, extract_features_resnet_threaded_cifar"
   ]
  },
  {
   "cell_type": "code",
   "execution_count": 3,
   "metadata": {},
   "outputs": [],
   "source": [
    "def generate_permutations(data):\n",
    "    \"\"\"Generates all permutations of a list.\"\"\"\n",
    "    for permutation in permutations(data):\n",
    "        yield permutation"
   ]
  },
  {
   "cell_type": "code",
   "execution_count": 13,
   "metadata": {},
   "outputs": [],
   "source": [
    "metric = \"cosine\""
   ]
  },
  {
   "cell_type": "code",
   "execution_count": 17,
   "metadata": {},
   "outputs": [],
   "source": [
    "func_list = [\"facility-location\", \"disparity-min\",  \"disparity-sum\", \"graph-cut\"]\n",
    "subset_fraction_size = [0.5, 0.6, 0.5]\n",
    "\n",
    "for order in generate_permutations(func_list):\n",
    "    per_func_list = list(order)\n",
    "    filename = \"\"\n",
    "    for func in per_func_list:\n",
    "        filename += func+\"_\"\n",
    "    filename = filename[:-1]\n",
    "\n",
    "    with open(f\"../../../milo-base/cifar10/dataframe.pkl\", \"rb\") as f:\n",
    "        df = pickle.load(f)\n",
    "        \n",
    "    groups = df.groupby('Label')\n",
    "    dataframes = [group for _, group in groups]\n",
    "\n",
    "    for i, df in enumerate(dataframes):\n",
    "        df[\"Features\"] = df[\"Features\"].to_numpy()\n",
    "        df[\"Index\"] = df[\"Index\"].to_numpy()\n",
    "\n",
    "\n",
    "    list_indexes = []\n",
    "    for idx in range(len(func_list)-1):\n",
    "        fraction_size = subset_fraction_size[idx]\n",
    "        final_indexes = []\n",
    "        for i, df in enumerate(dataframes):\n",
    "            features = df[\"Features\"].to_numpy()\n",
    "            indexes = df[\"Index\"].to_numpy()\n",
    "\n",
    "            print(\"start\", features.shape, indexes.shape, 30-10*idx, idx)\n",
    "\n",
    "            # can choose a different strategy \n",
    "            func = func_list[idx+i%2]\n",
    "\n",
    "            if func==\"facility-location\":\n",
    "                obj = FacilityLocationFunction(n=features.shape[0], data=features, separate_rep=False, mode=\"dense\", metric=\"cosine\")\n",
    "            elif func==\"disparity-min\":\n",
    "                obj = DisparityMinFunction(n=features.shape[0], data=features, mode=\"dense\", metric=\"cosine\")\n",
    "            elif func==\"disparity-sum\":\n",
    "                obj = DisparitySumFunction(n=features.shape[0], data=features, mode=\"dense\", metric=\"cosine\")\n",
    "            elif func==\"graph-cut\":\n",
    "                obj = GraphCutFunction(n=features.shape[0], data=features, mode=\"dense\", metric=\"cosine\", lambdaVal=0.45)\n",
    "            else:\n",
    "                raise Exception(\"Sorry, no submodlib function defined\")\n",
    "            \n",
    "            S = obj.maximize(int(fraction_size*features.shape[0]), optimizer='NaiveGreedy', stopIfZeroGain=False, stopIfNegativeGain=False, epsilon=0.1, verbose=False, show_progress=True, costs=None, costSensitiveGreedy=False)\n",
    "            # S = obj.maximize(30-10*idx, optimizer='NaiveGreedy', stopIfZeroGain=False, stopIfNegativeGain=False, epsilon=0.1, verbose=False, show_progress=True, costs=None, costSensitiveGreedy=False)\n",
    "            S = list(map(lambda tuple: tuple[0], S))\n",
    "\n",
    "            print(type(S))\n",
    "            indexes = indexes[S]\n",
    "            features = features[S]\n",
    "\n",
    "            final_indexes.extend(list(indexes))\n",
    "\n",
    "            _df = pd.DataFrame()\n",
    "            _df[\"Features\"] = features\n",
    "            _df[\"Index\"] = indexes\n",
    "\n",
    "            dataframes[i] = _df\n",
    "\n",
    "            print(\"end\", features.shape[0], indexes.shape[0])\n",
    "            break\n",
    "\n",
    "        list_indexes.append(final_indexes)\n",
    "    print(list_indexes)\n",
    "        \n",
    "    with open(f\"permutation_subsets/{filename}.pkl\", \"wb\") as f:\n",
    "        pickle.dump(list_indexes, f)"
   ]
  }
 ],
 "metadata": {
  "kernelspec": {
   "display_name": "submodlib-env",
   "language": "python",
   "name": "python3"
  },
  "language_info": {
   "codemirror_mode": {
    "name": "ipython",
    "version": 3
   },
   "file_extension": ".py",
   "mimetype": "text/x-python",
   "name": "python",
   "nbconvert_exporter": "python",
   "pygments_lexer": "ipython3",
   "version": "3.9.18"
  }
 },
 "nbformat": 4,
 "nbformat_minor": 2
}
