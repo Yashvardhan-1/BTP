{
 "cells": [
  {
   "cell_type": "code",
   "execution_count": 1,
   "id": "5b7799f2-ff2f-4e5b-9b1c-6e55baea484a",
   "metadata": {},
   "outputs": [],
   "source": [
    "import math\n",
    "import random\n",
    "from tqdm import tqdm\n",
    "import math\n",
    "import numpy as np\n",
    "from submodlib import FacilityLocationFunction, GraphCutFunction\n",
    "import pickle\n",
    "import time"
   ]
  },
  {
   "cell_type": "code",
   "execution_count": 2,
   "id": "2f49bf9e",
   "metadata": {},
   "outputs": [
    {
     "name": "stdout",
     "output_type": "stream",
     "text": [
      "(50000, 1000)\n"
     ]
    }
   ],
   "source": [
    "import numpy as np\n",
    "data = np.loadtxt(\"np.csv\", delimiter=\",\")\n",
    "print(data.shape)"
   ]
  },
  {
   "cell_type": "code",
   "execution_count": 2,
   "id": "a86acad3",
   "metadata": {},
   "outputs": [],
   "source": [
    "def stochastic_greedy(D, k, objFL, ϵ=1e-2, n=10, test=False):\n",
    "    \"\"\"Samples n subsets using stochastic-greedy.\n",
    "    Args:\n",
    "        D: number of training example\n",
    "        k: The subset size.\n",
    "        objFL: submodular function for conditional gain calculation\n",
    "        ϵ: The error tolerance.\n",
    "        n: The number of subsets to sample.\n",
    "\n",
    "    Returns:\n",
    "        A list of n subsets.\n",
    "    \"\"\"\n",
    "    \n",
    "    # Initialize empty subsets\n",
    "    S = [set() for _ in range(n)]\n",
    "    # Set random subset size for the stochastic-greedy algorithm\n",
    "    s = int(D * math.log(1 / ϵ) / k)\n",
    "    for i in tqdm(range(n)):\n",
    "        for j in range(k):\n",
    "            # Sample a random subset by sampling s elements from D \\ Si\n",
    "            R = random.choices(list(set(range(D)) - S[i]), k=s)\n",
    "            # Use map to calculate marginal gains for all values in R with the custom set\n",
    "            marginal_gains = list(map(lambda r: objFL.marginalGain(S[i], r), R))\n",
    "            max_index = np.argmax(marginal_gains)\n",
    "            max_r = R[max_index]\n",
    "            S[i].add(max_r)\n",
    "            if test:\n",
    "                print(R)\n",
    "                print(marginal_gains)\n",
    "                print(max_index, max_r)\n",
    "                return S\n",
    "    return S"
   ]
  },
  {
   "cell_type": "code",
   "execution_count": 3,
   "id": "7a0192b1",
   "metadata": {},
   "outputs": [],
   "source": [
    "def SGE_optimised(D, k, objFL, ϵ=1e-2, n=10, test=False):\n",
    "    \"\"\"Samples n subsets using stochastic-greedy.\n",
    "    Args:\n",
    "        D: number of training example\n",
    "        k: The subset size.\n",
    "        objFL: submodular function for conditional gain calculation\n",
    "        ϵ: The error tolerance.\n",
    "        n: The number of subsets to sample.\n",
    "\n",
    "    Returns:\n",
    "        A list of n subsets.\n",
    "    \"\"\"\n",
    "    \n",
    "    # Initialize empty subsets\n",
    "    S = [set() for _ in range(n)]\n",
    "    # Set random subset size for the stochastic-greedy algorithm\n",
    "    s = int(D * math.log(1 / ϵ) / k)\n",
    "    for i in tqdm(range(n)):\n",
    "        for j in range(k):\n",
    "            # Sample a random subset by sampling s elements from D \\ Si\n",
    "            R = random.choices(list(set(range(D)) - S[i]), k=s)\n",
    "            # Use map to calculate marginal gains for all values in R with the custom set\n",
    "            marginal_gains = list(map(lambda r: objFL.marginalGainWithMemoization(S[i], r), R))\n",
    "            max_index = np.argmax(marginal_gains)\n",
    "            max_r = R[max_index]\n",
    "            objFL.updateMemoization(S[i], max_r)\n",
    "            S[i].add(max_r)\n",
    "            if test:\n",
    "                print(R)\n",
    "                print(marginal_gains)\n",
    "                print(max_index, max_r)\n",
    "                return S\n",
    "        objFL.clearMemoization()\n",
    "    return S\n"
   ]
  },
  {
   "cell_type": "code",
   "execution_count": null,
   "id": "15d58329",
   "metadata": {},
   "outputs": [],
   "source": [
    "def WRE(D, k, obj, n=10):\n",
    "    \"\"\"Samples n subsets using weighted random exploration.\n",
    "    Args:\n",
    "        D: number of training example\n",
    "        k: The subset size.\n",
    "        objFL: submodular function for conditional gain calculation\n",
    "        n: The number of subsets to sample.\n",
    "    Returns:\n",
    "        A list of n subsets.\n",
    "    \"\"\"\n",
    "\n",
    "    A = set()\n",
    "    G = np.zeros(D)\n",
    "    for i in range(D):\n",
    "        R = list(set(range(D))-A)\n",
    "        marginal_gains = list(map(lambda r: obj.marginalGain(A, r), R))\n",
    "        max_index = np.argmax(marginal_gains)\n",
    "        max_r = R[max_index]\n",
    "        G[max_r] = marginal_gains[max_index]\n",
    "        A.add(max_r)\n",
    "    ts = 1+G+0.5*G**2\n",
    "    ts = ts/np.sum(ts)\n",
    "    S = [set() for _ in range(n)]\n",
    "    for i in range(n):\n",
    "        S[i] = np.random.choice(len(ts), size=k, p=ts, replace=False)\n",
    "    return S"
   ]
  },
  {
   "cell_type": "code",
   "execution_count": null,
   "id": "c6c3981a",
   "metadata": {},
   "outputs": [],
   "source": [
    "def WRE_optimised(D, k, obj, n=10):\n",
    "    \"\"\"Samples n subsets using weighted random exploration.\n",
    "    Args:\n",
    "        D: number of training example\n",
    "        k: The subset size.\n",
    "        obj: submodular function for conditional gain calculation\n",
    "        n: The number of subsets to sample.\n",
    "    Returns:\n",
    "        A list of n subsets.\n",
    "    \"\"\"\n",
    "\n",
    "    A = set()\n",
    "    G = np.zeros(D)\n",
    "    for i in tqdm(range(D)):\n",
    "        R = list(set(range(D))-A)\n",
    "        # if i%100==99:\n",
    "            # print(len(R))\n",
    "        marginal_gains = list(map(lambda r: obj.marginalGainWithMemoization(A, r), R))\n",
    "        max_index = np.argmax(marginal_gains)\n",
    "        max_r = R[max_index]\n",
    "        G[max_r] = marginal_gains[max_index]\n",
    "        obj.updateMemoization(A, max_r)\n",
    "        A.add(max_r)\n",
    "    ts = 1+G+0.5*G**2\n",
    "    ts = ts/np.sum(ts)\n",
    "    S = [set() for _ in range(n)]\n",
    "    for i in tqdm(range(n)):\n",
    "        S[i] = np.random.choice(len(ts), size=k, p=ts, replace=False)\n",
    "    return S"
   ]
  },
  {
   "cell_type": "code",
   "execution_count": null,
   "id": "91d73ab3",
   "metadata": {},
   "outputs": [],
   "source": [
    "def WRE_max(D, k, obj, n=10):\n",
    "    \"\"\"Samples n subsets using weighted random exploration.\n",
    "    Args:\n",
    "        D: number of training example\n",
    "        k: The subset size.\n",
    "        obj: submodular function for conditional gain calculation\n",
    "        n: The number of subsets to sample.\n",
    "    Returns:\n",
    "        A list of n subsets.\n",
    "    \"\"\"\n",
    "\n",
    "    A = set()\n",
    "    G = np.zeros(D)\n",
    "    for i in tqdm(range(D)):\n",
    "        R = list(set(range(D))-A)\n",
    "        marginal_gains = list(map(lambda r: obj.marginalGainWithMemoization(A, r), R))\n",
    "        max_index = np.argmax(marginal_gains)\n",
    "        max_r = R[max_index]\n",
    "        G[max_r] = marginal_gains[max_index]\n",
    "        obj.updateMemoization(A, max_r)\n",
    "        A.add(max_r)\n",
    "    \n",
    "    G = G -G.min()\n",
    "    \n",
    "    ts = 1+G+0.5*G**2\n",
    "    ts = ts/np.sum(ts)\n",
    "    S = [set() for _ in range(n)]\n",
    "    for i in tqdm(range(n)):\n",
    "        S[i] = np.random.choice(len(ts), size=k, p=ts, replace=False)\n",
    "    return S"
   ]
  },
  {
   "cell_type": "code",
   "execution_count": null,
   "id": "3d5e0eac-cfa6-430f-b285-afb63112163e",
   "metadata": {},
   "outputs": [],
   "source": [
    "import numpy as np\n",
    "from concurrent.futures import ThreadPoolExecutor\n",
    "\n",
    "def euclidean_distance(data, i, j):\n",
    "    return np.linalg.norm(data[i] - data[j])\n",
    "\n",
    "def euclidean_kernel_threaded(data, n_threads=8):\n",
    "    n_samples = data.shape[0]\n",
    "    kernel = np.zeros((n_samples, n_samples))\n",
    "\n",
    "    with ThreadPoolExecutor(max_workers=n_threads) as executor:\n",
    "        tasks = []\n",
    "        for i in range(n_samples):\n",
    "            for j in range(i + 1, n_samples):\n",
    "                tasks.append(executor.submit(euclidean_distance, data, i, j))\n",
    "\n",
    "        for i, j, future in zip(*[iter(tasks)] * 3):\n",
    "            distance = future.result()\n",
    "            kernel[i, j] = 1 / (distance**2 + 1e-8)\n",
    "            kernel[j, i] = kernel[i, j]\n",
    "\n",
    "    return kernel"
   ]
  },
  {
   "cell_type": "code",
   "execution_count": null,
   "id": "dbda4f3b-52db-4e2b-8f99-caffe78e2636",
   "metadata": {},
   "outputs": [],
   "source": [
    "# kernel = euclidean_kernel_threaded(data)\n",
    "# print(kernel.shape)"
   ]
  },
  {
   "cell_type": "code",
   "execution_count": 6,
   "id": "fdafbcb9",
   "metadata": {},
   "outputs": [],
   "source": [
    "subset_size_fraction = 0.3"
   ]
  },
  {
   "cell_type": "code",
   "execution_count": 4,
   "id": "deeb3cba",
   "metadata": {},
   "outputs": [],
   "source": [
    "with open(\"dataframe.pkl\", \"rb\") as f:\n",
    "    df = pickle.load(f)"
   ]
  },
  {
   "cell_type": "code",
   "execution_count": 5,
   "id": "ef188525",
   "metadata": {},
   "outputs": [],
   "source": [
    "groups = df.groupby('Label')\n",
    "dataframes = [group for _, group in groups]"
   ]
  },
  {
   "cell_type": "code",
   "execution_count": null,
   "id": "9e3322d2",
   "metadata": {},
   "outputs": [],
   "source": [
    "fraction_list = [0.05, 0.10, 0.15, 0.3, 0.5]"
   ]
  },
  {
   "cell_type": "code",
   "execution_count": 15,
   "id": "a954678a",
   "metadata": {},
   "outputs": [
    {
     "name": "stderr",
     "output_type": "stream",
     "text": [
      "100%|██████████| 20/20 [01:48<00:00,  5.42s/it]\n",
      "100%|██████████| 20/20 [01:42<00:00,  5.11s/it]\n",
      "100%|██████████| 20/20 [01:44<00:00,  5.23s/it]\n",
      "100%|██████████| 20/20 [01:42<00:00,  5.13s/it]\n",
      "100%|██████████| 20/20 [01:41<00:00,  5.08s/it]\n",
      "100%|██████████| 20/20 [01:44<00:00,  5.24s/it]\n",
      "100%|██████████| 20/20 [01:48<00:00,  5.41s/it]\n",
      "100%|██████████| 20/20 [01:51<00:00,  5.60s/it]\n",
      "100%|██████████| 20/20 [01:47<00:00,  5.37s/it]\n",
      "100%|██████████| 20/20 [01:47<00:00,  5.37s/it]"
     ]
    },
    {
     "name": "stdout",
     "output_type": "stream",
     "text": [
      "--- 1277.7257900238037 seconds ---\n"
     ]
    },
    {
     "name": "stderr",
     "output_type": "stream",
     "text": [
      "\n"
     ]
    }
   ],
   "source": [
    "time_to_get_subsets = 0\n",
    "list_of_class_wise_subsets = []\n",
    "subset_size_fraction = 0.3\n",
    "num_sets = 20\n",
    "for i, df in enumerate(dataframes):\n",
    "    features = df[\"Features\"].to_numpy()\n",
    "    objFL = FacilityLocationFunction(n=features.shape[0], data=features, separate_rep=False, mode=\"dense\", metric=\"cosine\")\n",
    "    start_time = time.time()\n",
    "    S = SGE_optimised(features.shape[0], int(features.shape[0]*subset_size_fraction), objFL, n=num_sets)\n",
    "    time_to_get_subsets = time.time() - start_time\n",
    "    set_indexes = []\n",
    "    for j in range(num_sets):\n",
    "        set_indexes.append(set(df.iloc[list(S[0])].Index.tolist()))\n",
    "    with open(f\"./class-data-{subset_size_fraction}/class_{i}.pkl\", \"wb\") as f:\n",
    "        pickle.dump(set_indexes, f)\n",
    "    list_of_class_wise_subsets.append(set_indexes)\n",
    "print(\"--- %s seconds ---\" % (time.time() - start_time))"
   ]
  },
  {
   "cell_type": "code",
   "execution_count": null,
   "id": "70046b9b",
   "metadata": {},
   "outputs": [],
   "source": [
    "with open(\"./class-data/class_0.pkl\", \"rb\") as f:\n",
    "    data = pickle.load(f)"
   ]
  },
  {
   "cell_type": "code",
   "execution_count": 8,
   "id": "75156bbe",
   "metadata": {},
   "outputs": [],
   "source": [
    "features = dataframes[0][\"Features\"].to_numpy()"
   ]
  },
  {
   "cell_type": "code",
   "execution_count": 9,
   "id": "77a48481",
   "metadata": {},
   "outputs": [
    {
     "name": "stdout",
     "output_type": "stream",
     "text": [
      "<class 'numpy.ndarray'>\n"
     ]
    }
   ],
   "source": [
    "print(type(features[0]))"
   ]
  },
  {
   "cell_type": "code",
   "execution_count": 11,
   "id": "cccff871",
   "metadata": {},
   "outputs": [],
   "source": [
    "from submodlib import FacilityLocationFunction\n",
    "objFL = FacilityLocationFunction(n=features.shape[0], data=features, separate_rep=False, mode=\"dense\", metric=\"cosine\")"
   ]
  },
  {
   "cell_type": "code",
   "execution_count": 12,
   "id": "1d49c3ee",
   "metadata": {},
   "outputs": [
    {
     "name": "stderr",
     "output_type": "stream",
     "text": [
      "100%|██████████| 10/10 [00:23<00:00,  2.39s/it]\n"
     ]
    }
   ],
   "source": [
    "S = SGE_optimised(features.shape[0], features.shape[0]//10, objFL)"
   ]
  },
  {
   "cell_type": "code",
   "execution_count": 16,
   "id": "584e6f29",
   "metadata": {},
   "outputs": [
    {
     "name": "stdout",
     "output_type": "stream",
     "text": [
      "<class 'pandas.core.series.Series'>\n",
      "{2056, 2063, 2068, 2076, 2081, 4130, 4131, 4132, 41, 4137, 2092, 46, 2095, 51, 53, 4151, 58, 2112, 2115, 2121, 74, 4171, 80, 83, 4181, 2134, 2133, 4186, 2142, 96, 4194, 108, 4205, 2157, 4208, 2162, 2163, 2169, 4219, 2171, 4221, 4223, 2177, 4227, 4229, 137, 4246, 2200, 153, 2206, 4255, 4257, 2215, 2216, 4266, 2220, 2222, 182, 2241, 2242, 2251, 4302, 206, 209, 215, 2267, 231, 2281, 234, 4336, 242, 246, 249, 4349, 2305, 4354, 2316, 2318, 4367, 4375, 281, 2330, 2339, 2347, 2351, 307, 4414, 4419, 4422, 329, 2382, 334, 4432, 2383, 337, 2387, 4436, 2408, 4458, 364, 365, 2420, 2422, 2423, 376, 4475, 2428, 386, 391, 2440, 4491, 405, 4506, 4507, 4509, 420, 4522, 2477, 2479, 433, 4540, 4545, 2505, 457, 2508, 2519, 4572, 481, 2534, 487, 4589, 4590, 506, 4611, 2565, 4618, 523, 2576, 4625, 2578, 4629, 538, 4635, 4642, 4643, 552, 4649, 4656, 2609, 4657, 564, 2612, 4663, 4671, 589, 591, 4688, 592, 2639, 2644, 597, 4693, 4695, 2646, 2652, 4702, 2660, 614, 616, 2668, 639, 643, 2692, 648, 651, 4747, 655, 4760, 2714, 666, 668, 2717, 2716, 2723, 2724, 4779, 2731, 4783, 4786, 2740, 695, 698, 2752, 704, 709, 4815, 4819, 727, 733, 4833, 2792, 2794, 747, 4846, 753, 754, 2803, 2806, 759, 760, 4860, 2812, 2820, 774, 2822, 2826, 4877, 2835, 787, 4888, 796, 4894, 4897, 4898, 2851, 4904, 813, 4915, 4916, 2871, 4920, 825, 827, 2875, 2882, 2884, 841, 844, 4942, 2910, 2912, 2913, 866, 4963, 2918, 875, 2925, 878, 879, 4976, 2933, 2934, 4983, 890, 4991, 898, 4998, 2950, 907, 2956, 911, 913, 915, 916, 2966, 919, 2970, 2975, 2990, 2994, 3000, 953, 957, 3005, 977, 3027, 3033, 987, 988, 989, 995, 3053, 1015, 1016, 3065, 1023, 3076, 1035, 3087, 1051, 1053, 1060, 3109, 3110, 1066, 3117, 3120, 1078, 1092, 3140, 1100, 1101, 3151, 3152, 1107, 3163, 1117, 3166, 3168, 3174, 3175, 3176, 3177, 1131, 3184, 1137, 1139, 1143, 3196, 1162, 3212, 3217, 3223, 1180, 1182, 1185, 1192, 3245, 1209, 3261, 1220, 1223, 1225, 3280, 3287, 3288, 1251, 3301, 1256, 1257, 1258, 1263, 3313, 1266, 1272, 3333, 3343, 1324, 3374, 3375, 1328, 3383, 3385, 1339, 1340, 3390, 1343, 3392, 3397, 3399, 1368, 3418, 3429, 1389, 1393, 1401, 1404, 1412, 1413, 3461, 3465, 1424, 1427, 1432, 3481, 3483, 1446, 1447, 1449, 3507, 3513, 1482, 1483, 1490, 3541, 1499, 1511, 3559, 1514, 3565, 3566, 3570, 1523, 3579, 1533, 3589, 1547, 1552, 3601, 3603, 1556, 3608, 1565, 3627, 3631, 1593, 3642, 3645, 1601, 3656, 3657, 3668, 3679, 3683, 1640, 3702, 1659, 1666, 1667, 3728, 3729, 1686, 3734, 1689, 1692, 1694, 3748, 1701, 1704, 3755, 3760, 1715, 1723, 1724, 3780, 1739, 1740, 1742, 1747, 3797, 3799, 3803, 3811, 3815, 1774, 3836, 1792, 3842, 3858, 3865, 1818, 3872, 1826, 3875, 3874, 3890, 1843, 3909, 1868, 1876, 1888, 1889, 1893, 1895, 3943, 1896, 1901, 1905, 1911, 3969, 1925, 3974, 3975, 3984, 3987, 3988, 1948, 1949, 3997, 1958, 4012, 1969, 1971, 4022, 4025, 1983, 4038, 4039, 1995, 4044, 1999, 4050, 2007, 2013, 2022, 4071, 4076, 2030, 2033, 2044}\n"
     ]
    }
   ],
   "source": [
    "print(type(dataframes[0][\"Index\"]))\n",
    "print(S[0])"
   ]
  },
  {
   "cell_type": "code",
   "execution_count": 19,
   "id": "0f703b24",
   "metadata": {},
   "outputs": [
    {
     "name": "stdout",
     "output_type": "stream",
     "text": [
      "<class 'pandas.core.series.Series'>\n"
     ]
    }
   ],
   "source": [
    "index_values = dataframes[0].iloc[list(S[0])].Index\n",
    "print(type(index_values))\n"
   ]
  },
  {
   "cell_type": "code",
   "execution_count": null,
   "id": "b29e99de",
   "metadata": {},
   "outputs": [],
   "source": [
    "objGC = GraphCutFunction(n=features.shape[0], data=features, separate_rep=False, mode=\"dense\", metric=\"cosine\")"
   ]
  },
  {
   "cell_type": "code",
   "execution_count": null,
   "id": "5d08d36c",
   "metadata": {},
   "outputs": [],
   "source": [
    "import time\n",
    "start_time = time.time()\n",
    "S = objFL.maximize(features.shape[0]-1, optimizer='NaiveGreedy', stopIfZeroGain=False, stopIfNegativeGain=False, epsilon=0.1, verbose=False, show_progress=True, costs=None, costSensitiveGreedy=False)\n",
    "print(\"--- %s seconds ---\" % (time.time() - start_time))"
   ]
  },
  {
   "cell_type": "code",
   "execution_count": null,
   "id": "a3d7913d",
   "metadata": {},
   "outputs": [],
   "source": [
    "S = objFL.maximize(features.shape[0]-1, show_progress=True)"
   ]
  },
  {
   "cell_type": "code",
   "execution_count": null,
   "id": "fb3c1a04",
   "metadata": {},
   "outputs": [],
   "source": [
    "print(\"Why is this running slow\")"
   ]
  },
  {
   "cell_type": "code",
   "execution_count": null,
   "id": "d5e73c9a",
   "metadata": {},
   "outputs": [],
   "source": [
    "S = WRE_optimised(features.shape[0], features.shape[0]//10, objFL, n=20)"
   ]
  },
  {
   "cell_type": "code",
   "execution_count": null,
   "id": "a9ff0483",
   "metadata": {},
   "outputs": [],
   "source": [
    "S = stochastic_greedy(features.shape[0], features.shape[0]//10, objFL)"
   ]
  },
  {
   "cell_type": "code",
   "execution_count": null,
   "id": "cd9c548b",
   "metadata": {},
   "outputs": [],
   "source": [
    "S1 = stochastic_greedy(features.shape[0], features.shape[0]//10, objFL, test=True)"
   ]
  },
  {
   "cell_type": "code",
   "execution_count": null,
   "id": "547c0d38",
   "metadata": {},
   "outputs": [],
   "source": [
    "features2 = dataframes[1][\"Features\"].to_numpy()\n",
    "objFL2 = FacilityLocationFunction(n=features2.shape[0], data=features2, separate_rep=False, mode=\"dense\", metric=\"cosine\")"
   ]
  },
  {
   "cell_type": "code",
   "execution_count": null,
   "id": "eddd0bf3",
   "metadata": {},
   "outputs": [],
   "source": [
    "S2 = SGE_optimised(features2.shape[0], features2.shape[0]//10, objFL2)"
   ]
  },
  {
   "cell_type": "code",
   "execution_count": null,
   "id": "4047f733",
   "metadata": {},
   "outputs": [],
   "source": [
    "S3 = WRE_optimised(features2.shape[0], features2.shape[0]//10, objFL2)"
   ]
  },
  {
   "cell_type": "code",
   "execution_count": null,
   "id": "36cb091c",
   "metadata": {},
   "outputs": [],
   "source": [
    "import itertools\n",
    "import numpy as np\n",
    "\n",
    "def calculate_iou(set1, set2):\n",
    "    intersection = set1.intersection(set2)\n",
    "    union = set1.union(set2)\n",
    "    iou = len(intersection) / len(union)\n",
    "    return iou\n",
    "\n",
    "\n",
    "def calculate_iou_matrix(sets_of_integers):\n",
    "    num_sets = len(sets_of_integers)\n",
    "    iou_matrix = np.zeros((num_sets, num_sets))\n",
    "\n",
    "    for i, j in itertools.combinations(range(num_sets), 2):\n",
    "        set1 = sets_of_integers[i]\n",
    "        set2 = sets_of_integers[j]\n",
    "        iou = calculate_iou(set1, set2)\n",
    "        iou_matrix[i, j] = iou\n",
    "        iou_matrix[j, i] = iou  # Fill the symmetric part\n",
    "\n",
    "    return iou_matrix\n"
   ]
  },
  {
   "cell_type": "code",
   "execution_count": null,
   "id": "dad87f34",
   "metadata": {},
   "outputs": [],
   "source": [
    "calculate_iou(S2[0], S2[0])"
   ]
  },
  {
   "cell_type": "code",
   "execution_count": null,
   "id": "97aadfba",
   "metadata": {},
   "outputs": [],
   "source": [
    "iou_matrix = calculate_iou_matrix(S2)"
   ]
  },
  {
   "cell_type": "code",
   "execution_count": null,
   "id": "3c326146",
   "metadata": {},
   "outputs": [],
   "source": [
    "print(iou_matrix)"
   ]
  },
  {
   "cell_type": "code",
   "execution_count": null,
   "id": "ec945516",
   "metadata": {},
   "outputs": [],
   "source": []
  }
 ],
 "metadata": {
  "kernelspec": {
   "display_name": "submodlib-env",
   "language": "python",
   "name": "submodlib-env"
  },
  "language_info": {
   "codemirror_mode": {
    "name": "ipython",
    "version": 3
   },
   "file_extension": ".py",
   "mimetype": "text/x-python",
   "name": "python",
   "nbconvert_exporter": "python",
   "pygments_lexer": "ipython3",
   "version": "3.9.18"
  }
 },
 "nbformat": 4,
 "nbformat_minor": 5
}
