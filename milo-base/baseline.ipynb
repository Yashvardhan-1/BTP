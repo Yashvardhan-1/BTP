{
 "cells": [
  {
   "cell_type": "code",
   "execution_count": 2,
   "id": "5b7799f2-ff2f-4e5b-9b1c-6e55baea484a",
   "metadata": {},
   "outputs": [],
   "source": [
    "import math\n",
    "import random\n",
    "from tqdm import tqdm\n",
    "import math\n",
    "import numpy as np\n",
    "from submodlib import FacilityLocationFunction\n"
   ]
  },
  {
   "cell_type": "code",
   "execution_count": 2,
   "id": "2f49bf9e",
   "metadata": {},
   "outputs": [
    {
     "name": "stdout",
     "output_type": "stream",
     "text": [
      "(50000, 1000)\n"
     ]
    }
   ],
   "source": [
    "import numpy as np\n",
    "data = np.loadtxt(\"np.csv\", delimiter=\",\")\n",
    "print(data.shape)"
   ]
  },
  {
   "cell_type": "code",
   "execution_count": 34,
   "id": "7fd87f77",
   "metadata": {},
   "outputs": [],
   "source": [
    "data_list = range(data.shape[0])"
   ]
  },
  {
   "cell_type": "code",
   "execution_count": 35,
   "id": "a86acad3",
   "metadata": {},
   "outputs": [],
   "source": [
    "def stochastic_greedy(D, k, objFL, ϵ=1e-2, n=10, test=False):\n",
    "    \"\"\"Samples n subsets using stochastic-greedy.\n",
    "    Args:\n",
    "        D: number of training example\n",
    "        k: The subset size.\n",
    "        objFL: submodular function for conditional gain calculation\n",
    "        ϵ: The error tolerance.\n",
    "        n: The number of subsets to sample.\n",
    "\n",
    "    Returns:\n",
    "        A list of n subsets.\n",
    "    \"\"\"\n",
    "    \n",
    "    # Initialize empty subsets\n",
    "    S = [set() for _ in range(n)]\n",
    "    # Set random subset size for the stochastic-greedy algorithm\n",
    "    s = int(D * math.log(1 / ϵ) / k)\n",
    "    for i in tqdm(range(n)):\n",
    "        for j in range(k):\n",
    "            # Sample a random subset by sampling s elements from D \\ Si\n",
    "            R = random.choices(list(set(range(D)) - S[i]), k=s)\n",
    "            # Use map to calculate marginal gains for all values in R with the custom set\n",
    "            marginal_gains = list(map(lambda r: objFL.marginalGain(S[i], r), R))\n",
    "            max_index = np.argmax(marginal_gains)\n",
    "            max_r = R[max_index]\n",
    "            S[i].add(max_r)\n",
    "            if test:\n",
    "                print(R)\n",
    "                print(marginal_gains)\n",
    "                print(max_index, max_r)\n",
    "                return S\n",
    "    return S"
   ]
  },
  {
   "cell_type": "code",
   "execution_count": 3,
   "id": "7a0192b1",
   "metadata": {},
   "outputs": [],
   "source": [
    "def SGE_optimised(D, k, objFL, ϵ=1e-2, n=10, test=False):\n",
    "    \"\"\"Samples n subsets using stochastic-greedy.\n",
    "    Args:\n",
    "        D: number of training example\n",
    "        k: The subset size.\n",
    "        objFL: submodular function for conditional gain calculation\n",
    "        ϵ: The error tolerance.\n",
    "        n: The number of subsets to sample.\n",
    "\n",
    "    Returns:\n",
    "        A list of n subsets.\n",
    "    \"\"\"\n",
    "    \n",
    "    # Initialize empty subsets\n",
    "    S = [set() for _ in range(n)]\n",
    "    # Set random subset size for the stochastic-greedy algorithm\n",
    "    s = int(D * math.log(1 / ϵ) / k)\n",
    "    for i in tqdm(range(n)):\n",
    "        for j in range(k):\n",
    "            # Sample a random subset by sampling s elements from D \\ Si\n",
    "            R = random.choices(list(set(range(D)) - S[i]), k=s)\n",
    "            # Use map to calculate marginal gains for all values in R with the custom set\n",
    "            marginal_gains = list(map(lambda r: objFL.marginalGainWithMemoization(S[i], r), R))\n",
    "            max_index = np.argmax(marginal_gains)\n",
    "            max_r = R[max_index]\n",
    "            objFL.updateMemoization(S[i], max_r)\n",
    "            S[i].add(max_r)\n",
    "            if test:\n",
    "                print(R)\n",
    "                print(marginal_gains)\n",
    "                print(max_index, max_r)\n",
    "                return S\n",
    "        objFL.clearMemoization()\n",
    "    return S\n"
   ]
  },
  {
   "cell_type": "code",
   "execution_count": 23,
   "id": "15d58329",
   "metadata": {},
   "outputs": [],
   "source": [
    "def WRE(D, k, obj, n=10):\n",
    "    \"\"\"Samples n subsets using weighted random exploration.\n",
    "    Args:\n",
    "        D: number of training example\n",
    "        k: The subset size.\n",
    "        objFL: submodular function for conditional gain calculation\n",
    "        n: The number of subsets to sample.\n",
    "    Returns:\n",
    "        A list of n subsets.\n",
    "    \"\"\"\n",
    "\n",
    "    A = set()\n",
    "    G = np.zeros(D)\n",
    "    for i in range(D):\n",
    "        R = list(set(range(D))-A)\n",
    "        marginal_gains = list(map(lambda r: obj.marginalGain(A, r), R))\n",
    "        max_index = np.argmax(marginal_gains)\n",
    "        max_r = R[max_index]\n",
    "        G[max_r] = marginal_gains[max_index]\n",
    "        A.add(max_r)\n",
    "    ts = 1+G+0.5*G**2\n",
    "    ts = ts/np.sum(ts)\n",
    "    S = [set() for _ in range(n)]\n",
    "    for i in range(n):\n",
    "        S[i] = np.random.choice(len(ts), size=k, p=ts, replace=False)\n",
    "    return S"
   ]
  },
  {
   "cell_type": "code",
   "execution_count": 4,
   "id": "c6c3981a",
   "metadata": {},
   "outputs": [],
   "source": [
    "def WRE_optimised(D, k, obj, n=10):\n",
    "    \"\"\"Samples n subsets using weighted random exploration.\n",
    "    Args:\n",
    "        D: number of training example\n",
    "        k: The subset size.\n",
    "        obj: submodular function for conditional gain calculation\n",
    "        n: The number of subsets to sample.\n",
    "    Returns:\n",
    "        A list of n subsets.\n",
    "    \"\"\"\n",
    "\n",
    "    A = set()\n",
    "    G = np.zeros(D)\n",
    "    for i in tqdm(range(D)):\n",
    "        R = list(set(range(D))-A)\n",
    "        marginal_gains = list(map(lambda r: obj.marginalGainWithMemoization(A, r), R))\n",
    "        max_index = np.argmax(marginal_gains)\n",
    "        max_r = R[max_index]\n",
    "        G[max_r] = marginal_gains[max_index]\n",
    "        obj.updateMemoization(A, max_r)\n",
    "        A.add(max_r)\n",
    "    ts = 1+G+0.5*G**2\n",
    "    ts = ts/np.sum(ts)\n",
    "    S = [set() for _ in range(n)]\n",
    "    for i in tqdm(range(n)):\n",
    "        S[i] = np.random.choice(len(ts), size=k, p=ts, replace=False)\n",
    "    return S"
   ]
  },
  {
   "cell_type": "code",
   "execution_count": null,
   "id": "91d73ab3",
   "metadata": {},
   "outputs": [],
   "source": [
    "def WRE_max(D, k, obj, n=10):\n",
    "    \"\"\"Samples n subsets using weighted random exploration.\n",
    "    Args:\n",
    "        D: number of training example\n",
    "        k: The subset size.\n",
    "        obj: submodular function for conditional gain calculation\n",
    "        n: The number of subsets to sample.\n",
    "    Returns:\n",
    "        A list of n subsets.\n",
    "    \"\"\"\n",
    "\n",
    "    A = set()\n",
    "    G = np.zeros(D)\n",
    "    for i in tqdm(range(D)):\n",
    "        R = list(set(range(D))-A)\n",
    "        marginal_gains = list(map(lambda r: obj.marginalGainWithMemoization(A, r), R))\n",
    "        max_index = np.argmax(marginal_gains)\n",
    "        max_r = R[max_index]\n",
    "        G[max_r] = marginal_gains[max_index]\n",
    "        obj.updateMemoization(A, max_r)\n",
    "        A.add(max_r)\n",
    "    ts = 1+G+0.5*G**2\n",
    "    ts = ts/np.sum(ts)\n",
    "    S = [set() for _ in range(n)]\n",
    "    for i in tqdm(range(n)):\n",
    "        S[i] = np.random.choice(len(ts), size=k, p=ts, replace=False)\n",
    "    return S"
   ]
  },
  {
   "cell_type": "code",
   "execution_count": null,
   "id": "4c2e2a6b",
   "metadata": {},
   "outputs": [],
   "source": [
    "objFL = FacilityLocationFunction(n=data.shape[0], data=data, separate_rep=False, mode=\"dense\", metric=\"cosine\")"
   ]
  },
  {
   "cell_type": "code",
   "execution_count": null,
   "id": "3d5e0eac-cfa6-430f-b285-afb63112163e",
   "metadata": {},
   "outputs": [],
   "source": [
    "import numpy as np\n",
    "from concurrent.futures import ThreadPoolExecutor\n",
    "\n",
    "def euclidean_distance(data, i, j):\n",
    "    return np.linalg.norm(data[i] - data[j])\n",
    "\n",
    "def euclidean_kernel_threaded(data, n_threads=8):\n",
    "    n_samples = data.shape[0]\n",
    "    kernel = np.zeros((n_samples, n_samples))\n",
    "\n",
    "    with ThreadPoolExecutor(max_workers=n_threads) as executor:\n",
    "        tasks = []\n",
    "        for i in range(n_samples):\n",
    "            for j in range(i + 1, n_samples):\n",
    "                tasks.append(executor.submit(euclidean_distance, data, i, j))\n",
    "\n",
    "        for i, j, future in zip(*[iter(tasks)] * 3):\n",
    "            distance = future.result()\n",
    "            kernel[i, j] = 1 / (distance**2 + 1e-8)\n",
    "            kernel[j, i] = kernel[i, j]\n",
    "\n",
    "    return kernel"
   ]
  },
  {
   "cell_type": "code",
   "execution_count": null,
   "id": "dbda4f3b-52db-4e2b-8f99-caffe78e2636",
   "metadata": {},
   "outputs": [],
   "source": [
    "kernel = euclidean_kernel_threaded(data)\n",
    "print(kernel.shape)"
   ]
  },
  {
   "cell_type": "code",
   "execution_count": 6,
   "id": "deeb3cba",
   "metadata": {},
   "outputs": [],
   "source": [
    "import pickle\n",
    "with open(\"dataframe.pkl\", \"rb\") as f:\n",
    "    df = pickle.load(f)"
   ]
  },
  {
   "cell_type": "code",
   "execution_count": 10,
   "id": "ef188525",
   "metadata": {},
   "outputs": [],
   "source": [
    "groups = df.groupby('Label')\n",
    "dataframes = [group for _, group in groups]\n"
   ]
  },
  {
   "cell_type": "code",
   "execution_count": 9,
   "id": "75156bbe",
   "metadata": {},
   "outputs": [
    {
     "ename": "KeyboardInterrupt",
     "evalue": "",
     "output_type": "error",
     "traceback": [
      "\u001b[0;31m---------------------------------------------------------------------------\u001b[0m",
      "\u001b[0;31mKeyboardInterrupt\u001b[0m                         Traceback (most recent call last)",
      "Cell \u001b[0;32mIn[8], line 2\u001b[0m\n\u001b[1;32m      1\u001b[0m features2 \u001b[38;5;241m=\u001b[39m dataframes[\u001b[38;5;241m1\u001b[39m][\u001b[38;5;124m\"\u001b[39m\u001b[38;5;124mFeatures\u001b[39m\u001b[38;5;124m\"\u001b[39m]\u001b[38;5;241m.\u001b[39mto_numpy()\n\u001b[0;32m----> 2\u001b[0m objFL2 \u001b[38;5;241m=\u001b[39m \u001b[43mFacilityLocationFunction\u001b[49m\u001b[43m(\u001b[49m\u001b[43mn\u001b[49m\u001b[38;5;241;43m=\u001b[39;49m\u001b[43mfeatures2\u001b[49m\u001b[38;5;241;43m.\u001b[39;49m\u001b[43mshape\u001b[49m\u001b[43m[\u001b[49m\u001b[38;5;241;43m0\u001b[39;49m\u001b[43m]\u001b[49m\u001b[43m,\u001b[49m\u001b[43m \u001b[49m\u001b[43mdata\u001b[49m\u001b[38;5;241;43m=\u001b[39;49m\u001b[43mfeatures2\u001b[49m\u001b[43m,\u001b[49m\u001b[43m \u001b[49m\u001b[43mseparate_rep\u001b[49m\u001b[38;5;241;43m=\u001b[39;49m\u001b[38;5;28;43;01mFalse\u001b[39;49;00m\u001b[43m,\u001b[49m\u001b[43m \u001b[49m\u001b[43mmode\u001b[49m\u001b[38;5;241;43m=\u001b[39;49m\u001b[38;5;124;43m\"\u001b[39;49m\u001b[38;5;124;43mdense\u001b[39;49m\u001b[38;5;124;43m\"\u001b[39;49m\u001b[43m,\u001b[49m\u001b[43m \u001b[49m\u001b[43mmetric\u001b[49m\u001b[38;5;241;43m=\u001b[39;49m\u001b[38;5;124;43m\"\u001b[39;49m\u001b[38;5;124;43mcosine\u001b[39;49m\u001b[38;5;124;43m\"\u001b[39;49m\u001b[43m)\u001b[49m\n",
      "File \u001b[0;32m~/miniconda3/envs/submodlib-env/lib/python3.9/site-packages/submodlib/functions/facilityLocation.py:192\u001b[0m, in \u001b[0;36mFacilityLocationFunction.__init__\u001b[0;34m(self, n, mode, separate_rep, n_rep, sijs, data, data_rep, num_clusters, cluster_labels, metric, num_neighbors, create_dense_cpp_kernel_in_python, pybind_mode)\u001b[0m\n\u001b[1;32m    190\u001b[0m \t\u001b[38;5;66;03m#self.num_neighbors = np.shape(self.data)[0] #Using all data as num_neighbors in case of dense mode\u001b[39;00m\n\u001b[1;32m    191\u001b[0m \t\u001b[38;5;28;01mif\u001b[39;00m create_dense_cpp_kernel_in_python \u001b[38;5;241m==\u001b[39m \u001b[38;5;28;01mTrue\u001b[39;00m:\n\u001b[0;32m--> 192\u001b[0m \t\t\u001b[38;5;28mself\u001b[39m\u001b[38;5;241m.\u001b[39msijs \u001b[38;5;241m=\u001b[39m np\u001b[38;5;241m.\u001b[39marray(\u001b[43msubcp\u001b[49m\u001b[38;5;241;43m.\u001b[39;49m\u001b[43mcreate_square_kernel_dense\u001b[49m\u001b[43m(\u001b[49m\u001b[38;5;28;43mself\u001b[39;49m\u001b[38;5;241;43m.\u001b[39;49m\u001b[43mdata\u001b[49m\u001b[38;5;241;43m.\u001b[39;49m\u001b[43mtolist\u001b[49m\u001b[43m(\u001b[49m\u001b[43m)\u001b[49m\u001b[43m,\u001b[49m\u001b[43m \u001b[49m\u001b[38;5;28;43mself\u001b[39;49m\u001b[38;5;241;43m.\u001b[39;49m\u001b[43mmetric\u001b[49m\u001b[43m)\u001b[49m)\n\u001b[1;32m    193\u001b[0m \u001b[38;5;28;01melse\u001b[39;00m:\n\u001b[1;32m    194\u001b[0m \t\u001b[38;5;28mself\u001b[39m\u001b[38;5;241m.\u001b[39mcpp_content \u001b[38;5;241m=\u001b[39m np\u001b[38;5;241m.\u001b[39marray(subcp\u001b[38;5;241m.\u001b[39mcreate_kernel(\u001b[38;5;28mself\u001b[39m\u001b[38;5;241m.\u001b[39mdata\u001b[38;5;241m.\u001b[39mtolist(), \u001b[38;5;28mself\u001b[39m\u001b[38;5;241m.\u001b[39mmetric, \u001b[38;5;28mself\u001b[39m\u001b[38;5;241m.\u001b[39mnum_neighbors))\n",
      "\u001b[0;31mKeyboardInterrupt\u001b[0m: "
     ]
    }
   ],
   "source": [
    "features = dataframes[0][\"Features\"].to_numpy()"
   ]
  },
  {
   "cell_type": "code",
   "execution_count": null,
   "id": "77a48481",
   "metadata": {},
   "outputs": [
    {
     "name": "stdout",
     "output_type": "stream",
     "text": [
      "<class 'numpy.ndarray'>\n"
     ]
    }
   ],
   "source": [
    "print(type(features[0]))"
   ]
  },
  {
   "cell_type": "code",
   "execution_count": null,
   "id": "cccff871",
   "metadata": {},
   "outputs": [],
   "source": [
    "from submodlib import FacilityLocationFunction\n",
    "objFL = FacilityLocationFunction(n=features.shape[0], data=features, separate_rep=False, mode=\"dense\", metric=\"cosine\")"
   ]
  },
  {
   "cell_type": "code",
   "execution_count": null,
   "id": "a9ff0483",
   "metadata": {},
   "outputs": [
    {
     "name": "stderr",
     "output_type": "stream",
     "text": [
      "100%|██████████| 10/10 [1:24:16<00:00, 505.68s/it]\n"
     ]
    }
   ],
   "source": [
    "S = stochastic_greedy(features.shape[0], features.shape[0]//10, objFL)"
   ]
  },
  {
   "cell_type": "code",
   "execution_count": null,
   "id": "cd9c548b",
   "metadata": {},
   "outputs": [
    {
     "name": "stderr",
     "output_type": "stream",
     "text": [
      "  0%|          | 0/10 [00:00<?, ?it/s]"
     ]
    },
    {
     "name": "stdout",
     "output_type": "stream",
     "text": [
      "[4305, 1839, 519, 4811, 4717, 1546, 4489, 2645, 4744, 335, 868, 748, 480, 2132, 4316, 2513, 3706, 646, 4988, 3376, 1770, 775, 2791, 4387, 3496, 3154, 3733, 4773, 3856, 2064, 1920, 2020, 2599, 643, 279, 999, 4439, 2936, 822, 1335, 4776, 184, 4373, 2903, 763, 1894]\n",
      "[4965.339718222618, 4969.378837883472, 4968.610053837299, 4966.099387228489, 4970.711409151554, 4970.752628684044, 4965.456205308437, 4972.216241359711, 4969.260010838509, 4971.767273426056, 4963.7573165893555, 4970.705480277538, 4971.125554680824, 4970.412975728512, 4966.752062022686, 4970.4145275354385, 4969.5245279073715, 4969.404681861401, 4968.852150857449, 4972.110513925552, 4967.63619852066, 4971.440750896931, 4971.409717321396, 4970.033610463142, 4970.585119605064, 4972.232334852219, 4972.94669085741, 4969.715833425522, 4972.2846692204475, 4969.732272148132, 4970.620934188366, 4971.830148756504, 4969.935484468937, 4975.754317104816, 4971.0590970516205, 4973.4421036839485, 4970.144440174103, 4972.805777668953, 4971.396962702274, 4968.685147762299, 4970.456545829773, 4971.030502796173, 4970.060002505779, 4967.846494793892, 4972.093619525433, 4971.842240512371]\n",
      "33 643\n"
     ]
    },
    {
     "name": "stderr",
     "output_type": "stream",
     "text": [
      "\n"
     ]
    }
   ],
   "source": [
    "S1 = stochastic_greedy(features.shape[0], features.shape[0]//10, objFL, test=True)"
   ]
  },
  {
   "cell_type": "code",
   "execution_count": 12,
   "id": "547c0d38",
   "metadata": {},
   "outputs": [],
   "source": [
    "features2 = dataframes[1][\"Features\"].to_numpy()\n",
    "objFL2 = FacilityLocationFunction(n=features2.shape[0], data=features2, separate_rep=False, mode=\"dense\", metric=\"cosine\")"
   ]
  },
  {
   "cell_type": "code",
   "execution_count": 15,
   "id": "eddd0bf3",
   "metadata": {},
   "outputs": [
    {
     "name": "stderr",
     "output_type": "stream",
     "text": [
      "100%|██████████| 10/10 [00:23<00:00,  2.35s/it]\n"
     ]
    }
   ],
   "source": [
    "S2 = SGE_optimised(features2.shape[0], features2.shape[0]//10, objFL2)"
   ]
  },
  {
   "cell_type": "code",
   "execution_count": null,
   "id": "ea1d927f",
   "metadata": {},
   "outputs": [],
   "source": [
    "S4 = objFL2.maximize"
   ]
  },
  {
   "cell_type": "code",
   "execution_count": 13,
   "id": "4047f733",
   "metadata": {},
   "outputs": [
    {
     "name": "stderr",
     "output_type": "stream",
     "text": [
      " 36%|███▋      | 1819/5000 [6:39:55<11:39:22, 13.19s/it]  \n"
     ]
    },
    {
     "ename": "KeyboardInterrupt",
     "evalue": "",
     "output_type": "error",
     "traceback": [
      "\u001b[0;31m---------------------------------------------------------------------------\u001b[0m",
      "\u001b[0;31mKeyboardInterrupt\u001b[0m                         Traceback (most recent call last)",
      "Cell \u001b[0;32mIn[13], line 1\u001b[0m\n\u001b[0;32m----> 1\u001b[0m S3 \u001b[38;5;241m=\u001b[39m \u001b[43mWRE_optimised\u001b[49m\u001b[43m(\u001b[49m\u001b[43mfeatures2\u001b[49m\u001b[38;5;241;43m.\u001b[39;49m\u001b[43mshape\u001b[49m\u001b[43m[\u001b[49m\u001b[38;5;241;43m0\u001b[39;49m\u001b[43m]\u001b[49m\u001b[43m,\u001b[49m\u001b[43m \u001b[49m\u001b[43mfeatures2\u001b[49m\u001b[38;5;241;43m.\u001b[39;49m\u001b[43mshape\u001b[49m\u001b[43m[\u001b[49m\u001b[38;5;241;43m0\u001b[39;49m\u001b[43m]\u001b[49m\u001b[38;5;241;43m/\u001b[39;49m\u001b[38;5;241;43m/\u001b[39;49m\u001b[38;5;241;43m10\u001b[39;49m\u001b[43m,\u001b[49m\u001b[43m \u001b[49m\u001b[43mobjFL2\u001b[49m\u001b[43m)\u001b[49m\n",
      "Cell \u001b[0;32mIn[4], line 16\u001b[0m, in \u001b[0;36mWRE_optimised\u001b[0;34m(D, k, obj, n)\u001b[0m\n\u001b[1;32m     14\u001b[0m \u001b[38;5;28;01mfor\u001b[39;00m i \u001b[38;5;129;01min\u001b[39;00m tqdm(\u001b[38;5;28mrange\u001b[39m(D)):\n\u001b[1;32m     15\u001b[0m     R \u001b[38;5;241m=\u001b[39m \u001b[38;5;28mlist\u001b[39m(\u001b[38;5;28mset\u001b[39m(\u001b[38;5;28mrange\u001b[39m(D))\u001b[38;5;241m-\u001b[39mA)\n\u001b[0;32m---> 16\u001b[0m     marginal_gains \u001b[38;5;241m=\u001b[39m \u001b[38;5;28;43mlist\u001b[39;49m\u001b[43m(\u001b[49m\u001b[38;5;28;43mmap\u001b[39;49m\u001b[43m(\u001b[49m\u001b[38;5;28;43;01mlambda\u001b[39;49;00m\u001b[43m \u001b[49m\u001b[43mr\u001b[49m\u001b[43m:\u001b[49m\u001b[43m \u001b[49m\u001b[43mobj\u001b[49m\u001b[38;5;241;43m.\u001b[39;49m\u001b[43mmarginalGainWithMemoization\u001b[49m\u001b[43m(\u001b[49m\u001b[43mA\u001b[49m\u001b[43m,\u001b[49m\u001b[43m \u001b[49m\u001b[43mr\u001b[49m\u001b[43m)\u001b[49m\u001b[43m,\u001b[49m\u001b[43m \u001b[49m\u001b[43mR\u001b[49m\u001b[43m)\u001b[49m\u001b[43m)\u001b[49m\n\u001b[1;32m     17\u001b[0m     max_index \u001b[38;5;241m=\u001b[39m np\u001b[38;5;241m.\u001b[39margmax(marginal_gains)\n\u001b[1;32m     18\u001b[0m     max_r \u001b[38;5;241m=\u001b[39m R[max_index]\n",
      "Cell \u001b[0;32mIn[4], line 16\u001b[0m, in \u001b[0;36mWRE_optimised.<locals>.<lambda>\u001b[0;34m(r)\u001b[0m\n\u001b[1;32m     14\u001b[0m \u001b[38;5;28;01mfor\u001b[39;00m i \u001b[38;5;129;01min\u001b[39;00m tqdm(\u001b[38;5;28mrange\u001b[39m(D)):\n\u001b[1;32m     15\u001b[0m     R \u001b[38;5;241m=\u001b[39m \u001b[38;5;28mlist\u001b[39m(\u001b[38;5;28mset\u001b[39m(\u001b[38;5;28mrange\u001b[39m(D))\u001b[38;5;241m-\u001b[39mA)\n\u001b[0;32m---> 16\u001b[0m     marginal_gains \u001b[38;5;241m=\u001b[39m \u001b[38;5;28mlist\u001b[39m(\u001b[38;5;28mmap\u001b[39m(\u001b[38;5;28;01mlambda\u001b[39;00m r: \u001b[43mobj\u001b[49m\u001b[38;5;241;43m.\u001b[39;49m\u001b[43mmarginalGainWithMemoization\u001b[49m\u001b[43m(\u001b[49m\u001b[43mA\u001b[49m\u001b[43m,\u001b[49m\u001b[43m \u001b[49m\u001b[43mr\u001b[49m\u001b[43m)\u001b[49m, R))\n\u001b[1;32m     17\u001b[0m     max_index \u001b[38;5;241m=\u001b[39m np\u001b[38;5;241m.\u001b[39margmax(marginal_gains)\n\u001b[1;32m     18\u001b[0m     max_r \u001b[38;5;241m=\u001b[39m R[max_index]\n",
      "File \u001b[0;32m~/miniconda3/envs/submodlib-env/lib/python3.9/site-packages/submodlib/functions/setFunction.py:134\u001b[0m, in \u001b[0;36mSetFunction.marginalGainWithMemoization\u001b[0;34m(self, X, element)\u001b[0m\n\u001b[1;32m    131\u001b[0m \u001b[38;5;28;01mif\u001b[39;00m \u001b[38;5;28mtype\u001b[39m(element)\u001b[38;5;241m!=\u001b[39m\u001b[38;5;28mint\u001b[39m:\n\u001b[1;32m    132\u001b[0m \t\u001b[38;5;28;01mraise\u001b[39;00m \u001b[38;5;167;01mException\u001b[39;00m(\u001b[38;5;124m\"\u001b[39m\u001b[38;5;124mERROR: element should be an int\u001b[39m\u001b[38;5;124m\"\u001b[39m)\n\u001b[0;32m--> 134\u001b[0m \u001b[38;5;28;01mif\u001b[39;00m \u001b[43mX\u001b[49m\u001b[38;5;241;43m.\u001b[39;49m\u001b[43missubset\u001b[49m\u001b[43m(\u001b[49m\u001b[38;5;28;43mself\u001b[39;49m\u001b[38;5;241;43m.\u001b[39;49m\u001b[43meffective_ground\u001b[49m\u001b[43m)\u001b[49m\u001b[38;5;241m==\u001b[39m\u001b[38;5;28;01mFalse\u001b[39;00m:\n\u001b[1;32m    135\u001b[0m \t\u001b[38;5;28;01mraise\u001b[39;00m \u001b[38;5;167;01mException\u001b[39;00m(\u001b[38;5;124m\"\u001b[39m\u001b[38;5;124mERROR: X is not a subset of effective ground set\u001b[39m\u001b[38;5;124m\"\u001b[39m)\n\u001b[1;32m    137\u001b[0m \u001b[38;5;28;01mif\u001b[39;00m element \u001b[38;5;129;01mnot\u001b[39;00m \u001b[38;5;129;01min\u001b[39;00m \u001b[38;5;28mself\u001b[39m\u001b[38;5;241m.\u001b[39meffective_ground:\n",
      "\u001b[0;31mKeyboardInterrupt\u001b[0m: "
     ]
    }
   ],
   "source": [
    "S3 = WRE_optimised(features2.shape[0], features2.shape[0]//10, objFL2)"
   ]
  },
  {
   "cell_type": "code",
   "execution_count": 17,
   "id": "36cb091c",
   "metadata": {},
   "outputs": [],
   "source": [
    "import itertools\n",
    "import numpy as np\n",
    "\n",
    "def calculate_iou(set1, set2):\n",
    "    intersection = set1.intersection(set2)\n",
    "    union = set1.union(set2)\n",
    "    iou = len(intersection) / len(union)\n",
    "    return iou\n",
    "\n",
    "\n",
    "def calculate_iou_matrix(sets_of_integers):\n",
    "    num_sets = len(sets_of_integers)\n",
    "    iou_matrix = np.zeros((num_sets, num_sets))\n",
    "\n",
    "    for i, j in itertools.combinations(range(num_sets), 2):\n",
    "        set1 = sets_of_integers[i]\n",
    "        set2 = sets_of_integers[j]\n",
    "        iou = calculate_iou(set1, set2)\n",
    "        iou_matrix[i, j] = iou\n",
    "        iou_matrix[j, i] = iou  # Fill the symmetric part\n",
    "\n",
    "    return iou_matrix\n"
   ]
  },
  {
   "cell_type": "code",
   "execution_count": 20,
   "id": "dad87f34",
   "metadata": {},
   "outputs": [
    {
     "data": {
      "text/plain": [
       "1.0"
      ]
     },
     "execution_count": 20,
     "metadata": {},
     "output_type": "execute_result"
    }
   ],
   "source": [
    "calculate_iou(S2[0], S2[0])"
   ]
  },
  {
   "cell_type": "code",
   "execution_count": 18,
   "id": "97aadfba",
   "metadata": {},
   "outputs": [],
   "source": [
    "iou_matrix = calculate_iou_matrix(S2)"
   ]
  },
  {
   "cell_type": "code",
   "execution_count": 19,
   "id": "3c326146",
   "metadata": {},
   "outputs": [
    {
     "name": "stdout",
     "output_type": "stream",
     "text": [
      "[[0.         0.49476831 0.51515152 0.49700599 0.52207002 0.51515152\n",
      "  0.48809524 0.5060241  0.5015015  0.51975684]\n",
      " [0.49476831 0.         0.4858841  0.5015015  0.5015015  0.52439024\n",
      "  0.53374233 0.51515152 0.50829563 0.53139357]\n",
      " [0.51515152 0.4858841  0.         0.5128593  0.52671756 0.5037594\n",
      "  0.51057402 0.5128593  0.51745068 0.51057402]\n",
      " [0.49700599 0.5015015  0.5128593  0.         0.53374233 0.5128593\n",
      "  0.53374233 0.53846154 0.51057402 0.5037594 ]\n",
      " [0.52207002 0.5015015  0.52671756 0.53374233 0.         0.52905199\n",
      "  0.51745068 0.52439024 0.51745068 0.51057402]\n",
      " [0.51515152 0.52439024 0.5037594  0.5128593  0.52905199 0.\n",
      "  0.52207002 0.51515152 0.53374233 0.5060241 ]\n",
      " [0.48809524 0.53374233 0.51057402 0.53374233 0.51745068 0.52207002\n",
      "  0.         0.53846154 0.53374233 0.52439024]\n",
      " [0.5060241  0.51515152 0.5128593  0.53846154 0.52439024 0.51515152\n",
      "  0.53846154 0.         0.51745068 0.5060241 ]\n",
      " [0.5015015  0.50829563 0.51745068 0.51057402 0.51745068 0.53374233\n",
      "  0.53374233 0.51745068 0.         0.52439024]\n",
      " [0.51975684 0.53139357 0.51057402 0.5037594  0.51057402 0.5060241\n",
      "  0.52439024 0.5060241  0.52439024 0.        ]]\n"
     ]
    }
   ],
   "source": [
    "print(iou_matrix)"
   ]
  },
  {
   "cell_type": "code",
   "execution_count": null,
   "id": "ec945516",
   "metadata": {},
   "outputs": [],
   "source": []
  }
 ],
 "metadata": {
  "kernelspec": {
   "display_name": "submodlib-env",
   "language": "python",
   "name": "python3"
  },
  "language_info": {
   "codemirror_mode": {
    "name": "ipython",
    "version": 3
   },
   "file_extension": ".py",
   "mimetype": "text/x-python",
   "name": "python",
   "nbconvert_exporter": "python",
   "pygments_lexer": "ipython3",
   "version": "3.9.18"
  }
 },
 "nbformat": 4,
 "nbformat_minor": 5
}
