{
 "cells": [
  {
   "cell_type": "code",
   "execution_count": 2,
   "id": "5b7799f2-ff2f-4e5b-9b1c-6e55baea484a",
   "metadata": {},
   "outputs": [],
   "source": [
    "import math\n",
    "import random\n",
    "from tqdm import tqdm\n",
    "import math\n",
    "import numpy as np\n",
    "from submodlib import FacilityLocationFunction, GraphCutFunction, DisparityMinFunction, DisparitySumFunction\n",
    "import pickle\n",
    "import time\n",
    "import os\n",
    "import timeit"
   ]
  },
  {
   "cell_type": "code",
   "execution_count": 3,
   "id": "a86acad3",
   "metadata": {},
   "outputs": [],
   "source": [
    "def stochastic_greedy(D, k, objFL, ϵ=1e-2, n=10, test=False):\n",
    "    \"\"\"Samples n subsets using stochastic-greedy.\n",
    "    Args:\n",
    "        D: number of training example\n",
    "        k: The subset size.\n",
    "        objFL: submodular function for conditional gain calculation\n",
    "        ϵ: The error tolerance.\n",
    "        n: The number of subsets to sample.\n",
    "\n",
    "    Returns:\n",
    "        A list of n subsets.\n",
    "    \"\"\"\n",
    "    \n",
    "    # Initialize empty subsets\n",
    "    S = [set() for _ in range(n)]\n",
    "    # Set random subset size for the stochastic-greedy algorithm\n",
    "    s = int(D * math.log(1 / ϵ) / k)\n",
    "    for i in tqdm(range(n)):\n",
    "        for j in range(k):\n",
    "            # Sample a random subset by sampling s elements from D \\ Si\n",
    "            R = random.choices(list(set(range(D)) - S[i]), k=s)\n",
    "            # Use map to calculate marginal gains for all values in R with the custom set\n",
    "            marginal_gains = list(map(lambda r: objFL.marginalGain(S[i], r), R))\n",
    "            max_index = np.argmax(marginal_gains)\n",
    "            max_r = R[max_index]\n",
    "            S[i].add(max_r)\n",
    "            if test:\n",
    "                print(R)\n",
    "                print(marginal_gains)\n",
    "                print(max_index, max_r)\n",
    "                return S\n",
    "    return S"
   ]
  },
  {
   "cell_type": "code",
   "execution_count": 4,
   "id": "7a0192b1",
   "metadata": {},
   "outputs": [],
   "source": [
    "def SGE_optimised(D, k, objFL, ϵ=1e-2, n=10, test=False):\n",
    "    \"\"\"Samples n subsets using stochastic-greedy.\n",
    "    Args:\n",
    "        D: number of training example\n",
    "        k: The subset size.\n",
    "        objFL: submodular function for conditional gain calculation\n",
    "        ϵ: The error tolerance.\n",
    "        n: The number of subsets to sample.\n",
    "\n",
    "    Returns:\n",
    "        A list of n subsets.\n",
    "    \"\"\"\n",
    "    \n",
    "    # Initialize empty subsets\n",
    "    S = [set() for _ in range(n)]\n",
    "    # Set random subset size for the stochastic-greedy algorithm\n",
    "    s = int(D * math.log(1 / ϵ) / k)\n",
    "    for i in range(n):\n",
    "        for j in range(k):\n",
    "            # Sample a random subset by sampling s elements from D \\ Si\n",
    "            R = random.choices(list(set(range(D)) - S[i]), k=s)\n",
    "            # Use map to calculate marginal gains for all values in R with the custom set\n",
    "            marginal_gains = list(map(lambda r: objFL.marginalGainWithMemoization(S[i], r), R))\n",
    "            max_index = np.argmax(marginal_gains)\n",
    "            max_r = R[max_index]\n",
    "            objFL.updateMemoization(S[i], max_r)\n",
    "            S[i].add(max_r)\n",
    "            if test:\n",
    "                print(R)\n",
    "                print(marginal_gains)\n",
    "                print(max_index, max_r)\n",
    "                return S\n",
    "        objFL.clearMemoization()\n",
    "    return S\n"
   ]
  },
  {
   "cell_type": "code",
   "execution_count": 5,
   "id": "15d58329",
   "metadata": {},
   "outputs": [],
   "source": [
    "def WRE(D, k, obj, n=10):\n",
    "    \"\"\"Samples n subsets using weighted random exploration.\n",
    "    Args:\n",
    "        D: number of training example\n",
    "        k: The subset size.\n",
    "        objFL: submodular function for conditional gain calculation\n",
    "        n: The number of subsets to sample.\n",
    "    Returns:\n",
    "        A list of n subsets.\n",
    "    \"\"\"\n",
    "\n",
    "    A = set()\n",
    "    G = np.zeros(D)\n",
    "    for i in range(D):\n",
    "        R = list(set(range(D))-A)\n",
    "        marginal_gains = list(map(lambda r: obj.marginalGain(A, r), R))\n",
    "        max_index = np.argmax(marginal_gains)\n",
    "        max_r = R[max_index]\n",
    "        G[max_r] = marginal_gains[max_index]\n",
    "        A.add(max_r)\n",
    "    ts = 1+G+0.5*G**2\n",
    "    ts = ts/np.sum(ts)\n",
    "    S = [set() for _ in range(n)]\n",
    "    for i in range(n):\n",
    "        S[i] = np.random.choice(len(ts), size=k, p=ts, replace=False)\n",
    "    return S"
   ]
  },
  {
   "cell_type": "code",
   "execution_count": 6,
   "id": "c6c3981a",
   "metadata": {},
   "outputs": [],
   "source": [
    "def WRE_optimised(D, k, obj, n=10):\n",
    "    \"\"\"Samples n subsets using weighted random exploration.\n",
    "    Args:\n",
    "        D: number of training example\n",
    "        k: The subset size.\n",
    "        obj: submodular function for conditional gain calculation\n",
    "        n: The number of subsets to sample.\n",
    "    Returns:\n",
    "        A list of n subsets.\n",
    "    \"\"\"\n",
    "\n",
    "    A = set()\n",
    "    G = np.zeros(D)\n",
    "    for i in tqdm(range(D)):\n",
    "        R = list(set(range(D))-A)\n",
    "        # if i%100==99:\n",
    "            # print(len(R))\n",
    "        marginal_gains = list(map(lambda r: obj.marginalGainWithMemoization(A, r), R))\n",
    "        max_index = np.argmax(marginal_gains)\n",
    "        max_r = R[max_index]\n",
    "        G[max_r] = marginal_gains[max_index]\n",
    "        obj.updateMemoization(A, max_r)\n",
    "        A.add(max_r)\n",
    "    ts = 1+G+0.5*G**2\n",
    "    ts = ts/np.sum(ts)\n",
    "    S = [set() for _ in range(n)]\n",
    "    for i in tqdm(range(n)):\n",
    "        S[i] = np.random.choice(len(ts), size=k, p=ts, replace=False)\n",
    "    return S"
   ]
  },
  {
   "cell_type": "code",
   "execution_count": 7,
   "id": "91d73ab3",
   "metadata": {},
   "outputs": [],
   "source": [
    "def WRE_max(D, k, obj, n=10):\n",
    "    \"\"\"Samples n subsets using weighted random exploration.\n",
    "    Args:\n",
    "        D: number of training example\n",
    "        k: The subset size.\n",
    "        obj: submodular function for conditional gain calculation\n",
    "        n: The number of subsets to sample.\n",
    "    Returns:\n",
    "        A list of n subsets.\n",
    "    \"\"\"\n",
    "\n",
    "    A = set()\n",
    "    G = np.zeros(D)\n",
    "    for i in tqdm(range(D)):\n",
    "        R = list(set(range(D))-A)\n",
    "        marginal_gains = list(map(lambda r: obj.marginalGainWithMemoization(A, r), R))\n",
    "        max_index = np.argmax(marginal_gains)\n",
    "        max_r = R[max_index]\n",
    "        G[max_r] = marginal_gains[max_index]\n",
    "        obj.updateMemoization(A, max_r)\n",
    "        A.add(max_r)\n",
    "    \n",
    "    G = G -G.min()\n",
    "    \n",
    "    ts = 1+G+0.5*G**2\n",
    "    ts = ts/np.sum(ts)\n",
    "    S = [set() for _ in range(n)]\n",
    "    for i in tqdm(range(n)):\n",
    "        S[i] = np.random.choice(len(ts), size=k, p=ts, replace=False)\n",
    "    return S"
   ]
  },
  {
   "cell_type": "code",
   "execution_count": 8,
   "id": "3d5e0eac-cfa6-430f-b285-afb63112163e",
   "metadata": {},
   "outputs": [],
   "source": [
    "import numpy as np\n",
    "from concurrent.futures import ThreadPoolExecutor\n",
    "\n",
    "def euclidean_distance(data, i, j):\n",
    "    return np.linalg.norm(data[i] - data[j])\n",
    "\n",
    "def euclidean_kernel_threaded(data, n_threads=8):\n",
    "    n_samples = data.shape[0]\n",
    "    kernel = np.zeros((n_samples, n_samples))\n",
    "\n",
    "    with ThreadPoolExecutor(max_workers=n_threads) as executor:\n",
    "        tasks = []\n",
    "        for i in range(n_samples):\n",
    "            for j in range(i + 1, n_samples):\n",
    "                tasks.append(executor.submit(euclidean_distance, data, i, j))\n",
    "\n",
    "        for i, j, future in zip(*[iter(tasks)] * 3):\n",
    "            distance = future.result()\n",
    "            kernel[i, j] = 1 / (distance**2 + 1e-8)\n",
    "            kernel[j, i] = kernel[i, j]\n",
    "\n",
    "    return kernel"
   ]
  },
  {
   "cell_type": "code",
   "execution_count": 9,
   "id": "dbda4f3b-52db-4e2b-8f99-caffe78e2636",
   "metadata": {},
   "outputs": [],
   "source": [
    "# kernel = euclidean_kernel_threaded(data)\n",
    "# print(kernel.shape)"
   ]
  },
  {
   "cell_type": "code",
   "execution_count": 10,
   "id": "fdafbcb9",
   "metadata": {},
   "outputs": [],
   "source": [
    "subset_size_fraction = 0.3\n",
    "dataset = \"cifar10\"\n",
    "metric = \"euclidean\""
   ]
  },
  {
   "cell_type": "code",
   "execution_count": 11,
   "id": "deeb3cba",
   "metadata": {},
   "outputs": [],
   "source": [
    "with open(f\"{dataset}/dataframe.pkl\", \"rb\") as f:\n",
    "    df = pickle.load(f)"
   ]
  },
  {
   "cell_type": "code",
   "execution_count": 12,
   "id": "ef188525",
   "metadata": {},
   "outputs": [],
   "source": [
    "groups = df.groupby('Label')\n",
    "dataframes = [group for _, group in groups]"
   ]
  },
  {
   "cell_type": "markdown",
   "id": "64a6bc5a",
   "metadata": {},
   "source": [
    "# Generate milo subsets"
   ]
  },
  {
   "cell_type": "code",
   "execution_count": 13,
   "id": "ca86bbae",
   "metadata": {},
   "outputs": [
    {
     "name": "stdout",
     "output_type": "stream",
     "text": [
      "Submodlib funciton: facility-location, time:--- 676.7253537289798 seconds ---\n",
      "Submodlib funciton: facility-location, time:--- 1020.7416003867984 seconds ---\n"
     ]
    }
   ],
   "source": [
    "lambdaVal = 0.5\n",
    "\n",
    "funcs = [\"facility-location\", \"disparity-min\",  \"disparity-sum\", \"graph-cut\"]\n",
    "fracs = [0.05, 0.1, 0.15, 0.3, 0.5]\n",
    "\n",
    "run_time = {}\n",
    "for func in funcs:\n",
    "    run_time[func] = {}\n",
    "    for subset_size_fraction in fracs:\n",
    "        time_to_get_subsets = 0\n",
    "        num_sets = 20\n",
    "        for i, df in enumerate(dataframes):\n",
    "            features = df[\"Features\"].to_numpy()\n",
    "            \n",
    "            if func==\"facility-location\":\n",
    "                obj = FacilityLocationFunction(n=features.shape[0], data=features, separate_rep=False, mode=\"dense\", metric=\"cosine\")\n",
    "            elif func==\"disparity-min\":\n",
    "                obj = DisparityMinFunction(n=features.shape[0], data=features, mode=\"dense\", metric=\"cosine\")\n",
    "            elif func==\"disparity-sum\":\n",
    "                obj = DisparitySumFunction(n=features.shape[0], data=features, mode=\"dense\", metric=\"cosine\")\n",
    "            elif func==\"graph-cut\":\n",
    "                obj = GraphCutFunction(n=features.shape[0], data=features, mode=\"dense\", metric=\"cosine\", lambdaVal=lambdaVal)\n",
    "            else:\n",
    "                raise Exception(\"Sorry, no submodlib function defined\")\n",
    "\n",
    "            setup = \"\"\"\n",
    "subset_size_fraction = {}  # Pass the value into setup\n",
    "from __main__ import SGE_optimised, features, obj, num_sets\n",
    "\"\"\".format(subset_size_fraction)\n",
    "            \n",
    "            stmt = \"SGE_optimised(features.shape[0], int(features.shape[0] * subset_size_fraction), obj, n=num_sets)\"\n",
    "            time_to_get_subsets += timeit.timeit(stmt, setup, number=1)\n",
    "            \n",
    "            start_time = time.time()\n",
    "            S = SGE_optimised(features.shape[0], int(features.shape[0]*subset_size_fraction), obj, n=num_sets)\n",
    "            time_to_get_subsets += time.time() - start_time\n",
    "\n",
    "            set_indexes = []\n",
    "            for j in range(num_sets):\n",
    "                set_indexes.append(set(df.iloc[list(S[0])].Index.tolist()))\n",
    "            \n",
    "            path = f\"./{dataset}/SGE-{metric}/{func}/class-data-{subset_size_fraction}\"\n",
    "            if not os.path.exists(path):\n",
    "                os.makedirs(path)\n",
    "\n",
    "            with open(f\"{path}/class_{i}.pkl\", \"wb\") as f:\n",
    "                pickle.dump(set_indexes, f)\n",
    "                \n",
    "            # list_of_class_wise_subsets.append(set_indexes)\n",
    "\n",
    "        if func==\"graph-cut\":\n",
    "                run_time[func][f\"{fracs}-{lambdaVal}\"] = time_to_get_subsets \n",
    "        else:\n",
    "            run_time[func][f\"{fracs}\"] = time_to_get_subsets \n",
    "            \n",
    "        print(\"Submodlib funciton: %s, time:--- %s seconds ---\" % (func, time_to_get_subsets))"
   ]
  },
  {
   "cell_type": "code",
   "execution_count": 13,
   "id": "d03a5515",
   "metadata": {},
   "outputs": [
    {
     "ename": "KeyError",
     "evalue": "9",
     "output_type": "error",
     "traceback": [
      "\u001b[0;31m---------------------------------------------------------------------------\u001b[0m",
      "\u001b[0;31mKeyError\u001b[0m                                  Traceback (most recent call last)",
      "Cell \u001b[0;32mIn[13], line 53\u001b[0m\n\u001b[1;32m     51\u001b[0m         run_time[i][func][\u001b[38;5;124mf\u001b[39m\u001b[38;5;124m\"\u001b[39m\u001b[38;5;132;01m{\u001b[39;00mfracs\u001b[38;5;132;01m}\u001b[39;00m\u001b[38;5;124m-\u001b[39m\u001b[38;5;132;01m{\u001b[39;00mlambdaVal\u001b[38;5;132;01m}\u001b[39;00m\u001b[38;5;124m\"\u001b[39m] \u001b[38;5;241m=\u001b[39m time_to_get_subsets \n\u001b[1;32m     52\u001b[0m \u001b[38;5;28;01melse\u001b[39;00m:\n\u001b[0;32m---> 53\u001b[0m     \u001b[43mrun_time\u001b[49m\u001b[43m[\u001b[49m\u001b[43mi\u001b[49m\u001b[43m]\u001b[49m[func][\u001b[38;5;124mf\u001b[39m\u001b[38;5;124m\"\u001b[39m\u001b[38;5;132;01m{\u001b[39;00mfracs\u001b[38;5;132;01m}\u001b[39;00m\u001b[38;5;124m\"\u001b[39m] \u001b[38;5;241m=\u001b[39m time_to_get_subsets \n\u001b[1;32m     55\u001b[0m \u001b[38;5;28mprint\u001b[39m(\u001b[38;5;124m\"\u001b[39m\u001b[38;5;124mSubmodlib funciton: \u001b[39m\u001b[38;5;132;01m%s\u001b[39;00m\u001b[38;5;124m, time:--- \u001b[39m\u001b[38;5;132;01m%s\u001b[39;00m\u001b[38;5;124m seconds ---\u001b[39m\u001b[38;5;124m\"\u001b[39m \u001b[38;5;241m%\u001b[39m (func, time_to_get_subsets))\n",
      "\u001b[0;31mKeyError\u001b[0m: 9"
     ]
    }
   ],
   "source": [
    "# func = \"facility-location\"\n",
    "# func = \"disparity-min\"\n",
    "# func = \"disparity-sum\"\n",
    "# func = \"graph-cut\"\n",
    "lambdaVal = 0.5\n",
    "\n",
    "num_runs = 5\n",
    "funcs = [\"facility-location\", \"disparity-min\",  \"disparity-sum\", \"graph-cut\"]\n",
    "fracs = [0.05, 0.1, 0.15, 0.3, 0.5]\n",
    "\n",
    "run_time = {}\n",
    "for j in range(num_runs):\n",
    "    run_time[j] = {}\n",
    "    for func in funcs:\n",
    "        run_time[j][func] = {}\n",
    "        for subset_size_fraction in fracs:\n",
    "            time_to_get_subsets = 0\n",
    "            num_sets = 20\n",
    "            for i, df in enumerate(dataframes):\n",
    "                features = df[\"Features\"].to_numpy()\n",
    "                \n",
    "                if func==\"facility-location\":\n",
    "                    obj = FacilityLocationFunction(n=features.shape[0], data=features, separate_rep=False, mode=\"dense\", metric=\"cosine\")\n",
    "                elif func==\"disparity-min\":\n",
    "                    obj = DisparityMinFunction(n=features.shape[0], data=features, mode=\"dense\", metric=\"cosine\")\n",
    "                elif func==\"disparity-sum\":\n",
    "                    obj = DisparitySumFunction(n=features.shape[0], data=features, mode=\"dense\", metric=\"cosine\")\n",
    "                elif func==\"graph-cut\":\n",
    "                    obj = GraphCutFunction(n=features.shape[0], data=features, mode=\"dense\", metric=\"cosine\", lambdaVal=lambdaVal)\n",
    "                else:\n",
    "                    raise Exception(\"Sorry, no submodlib function defined\")\n",
    "\n",
    "                start_time = time.time()\n",
    "                S = SGE_optimised(features.shape[0], int(features.shape[0]*subset_size_fraction), obj, n=num_sets)\n",
    "                time_to_get_subsets += time.time() - start_time\n",
    "\n",
    "                set_indexes = []\n",
    "                for j in range(num_sets):\n",
    "                    set_indexes.append(set(df.iloc[list(S[0])].Index.tolist()))\n",
    "                \n",
    "                path = f\"./{dataset}/SGE-{metric}/{func}/class-data-{subset_size_fraction}\"\n",
    "                if not os.path.exists(path):\n",
    "                    os.makedirs(path)\n",
    "\n",
    "                with open(f\"{path}/class_{i}.pkl\", \"wb\") as f:\n",
    "                    pickle.dump(set_indexes, f)\n",
    "                    \n",
    "                # list_of_class_wise_subsets.append(set_indexes)\n",
    "\n",
    "            if func==\"graph-cut\":\n",
    "                    run_time[j][func][f\"{fracs}-{lambdaVal}\"] = time_to_get_subsets \n",
    "            else:\n",
    "                run_time[j][func][f\"{fracs}\"] = time_to_get_subsets \n",
    "                \n",
    "            print(\"Submodlib funciton: %s, time:--- %s seconds ---\" % (func, time_to_get_subsets))"
   ]
  },
  {
   "cell_type": "markdown",
   "id": "b79934f9",
   "metadata": {},
   "source": [
    "## Facility Location Function"
   ]
  },
  {
   "cell_type": "code",
   "execution_count": 14,
   "id": "a954678a",
   "metadata": {},
   "outputs": [
    {
     "name": "stderr",
     "output_type": "stream",
     "text": [
      "100%|██████████| 20/20 [17:57<00:00, 53.90s/it]\n",
      "100%|██████████| 20/20 [19:10<00:00, 57.51s/it]\n",
      "100%|██████████| 20/20 [15:41<00:00, 47.07s/it]\n",
      " 20%|██        | 4/20 [02:51<11:25, 42.86s/it]\n"
     ]
    },
    {
     "ename": "KeyboardInterrupt",
     "evalue": "",
     "output_type": "error",
     "traceback": [
      "\u001b[0;31m---------------------------------------------------------------------------\u001b[0m",
      "\u001b[0;31mKeyboardInterrupt\u001b[0m                         Traceback (most recent call last)",
      "Cell \u001b[0;32mIn[14], line 8\u001b[0m\n\u001b[1;32m      6\u001b[0m objFL \u001b[38;5;241m=\u001b[39m FacilityLocationFunction(n\u001b[38;5;241m=\u001b[39mfeatures\u001b[38;5;241m.\u001b[39mshape[\u001b[38;5;241m0\u001b[39m], data\u001b[38;5;241m=\u001b[39mfeatures, separate_rep\u001b[38;5;241m=\u001b[39m\u001b[38;5;28;01mFalse\u001b[39;00m, mode\u001b[38;5;241m=\u001b[39m\u001b[38;5;124m\"\u001b[39m\u001b[38;5;124mdense\u001b[39m\u001b[38;5;124m\"\u001b[39m, metric\u001b[38;5;241m=\u001b[39m\u001b[38;5;124m\"\u001b[39m\u001b[38;5;124mcosine\u001b[39m\u001b[38;5;124m\"\u001b[39m)\n\u001b[1;32m      7\u001b[0m start_time \u001b[38;5;241m=\u001b[39m time\u001b[38;5;241m.\u001b[39mtime()\n\u001b[0;32m----> 8\u001b[0m S \u001b[38;5;241m=\u001b[39m \u001b[43mSGE_optimised\u001b[49m\u001b[43m(\u001b[49m\u001b[43mfeatures\u001b[49m\u001b[38;5;241;43m.\u001b[39;49m\u001b[43mshape\u001b[49m\u001b[43m[\u001b[49m\u001b[38;5;241;43m0\u001b[39;49m\u001b[43m]\u001b[49m\u001b[43m,\u001b[49m\u001b[43m \u001b[49m\u001b[38;5;28;43mint\u001b[39;49m\u001b[43m(\u001b[49m\u001b[43mfeatures\u001b[49m\u001b[38;5;241;43m.\u001b[39;49m\u001b[43mshape\u001b[49m\u001b[43m[\u001b[49m\u001b[38;5;241;43m0\u001b[39;49m\u001b[43m]\u001b[49m\u001b[38;5;241;43m*\u001b[39;49m\u001b[43msubset_size_fraction\u001b[49m\u001b[43m)\u001b[49m\u001b[43m,\u001b[49m\u001b[43m \u001b[49m\u001b[43mobjFL\u001b[49m\u001b[43m,\u001b[49m\u001b[43m \u001b[49m\u001b[43mn\u001b[49m\u001b[38;5;241;43m=\u001b[39;49m\u001b[43mnum_sets\u001b[49m\u001b[43m)\u001b[49m\n\u001b[1;32m      9\u001b[0m time_to_get_subsets \u001b[38;5;241m=\u001b[39m time\u001b[38;5;241m.\u001b[39mtime() \u001b[38;5;241m-\u001b[39m start_time\n\u001b[1;32m     10\u001b[0m set_indexes \u001b[38;5;241m=\u001b[39m []\n",
      "Cell \u001b[0;32mIn[3], line 23\u001b[0m, in \u001b[0;36mSGE_optimised\u001b[0;34m(D, k, objFL, ε, n, test)\u001b[0m\n\u001b[1;32m     21\u001b[0m R \u001b[38;5;241m=\u001b[39m random\u001b[38;5;241m.\u001b[39mchoices(\u001b[38;5;28mlist\u001b[39m(\u001b[38;5;28mset\u001b[39m(\u001b[38;5;28mrange\u001b[39m(D)) \u001b[38;5;241m-\u001b[39m S[i]), k\u001b[38;5;241m=\u001b[39ms)\n\u001b[1;32m     22\u001b[0m \u001b[38;5;66;03m# Use map to calculate marginal gains for all values in R with the custom set\u001b[39;00m\n\u001b[0;32m---> 23\u001b[0m marginal_gains \u001b[38;5;241m=\u001b[39m \u001b[38;5;28;43mlist\u001b[39;49m\u001b[43m(\u001b[49m\u001b[38;5;28;43mmap\u001b[39;49m\u001b[43m(\u001b[49m\u001b[38;5;28;43;01mlambda\u001b[39;49;00m\u001b[43m \u001b[49m\u001b[43mr\u001b[49m\u001b[43m:\u001b[49m\u001b[43m \u001b[49m\u001b[43mobjFL\u001b[49m\u001b[38;5;241;43m.\u001b[39;49m\u001b[43mmarginalGainWithMemoization\u001b[49m\u001b[43m(\u001b[49m\u001b[43mS\u001b[49m\u001b[43m[\u001b[49m\u001b[43mi\u001b[49m\u001b[43m]\u001b[49m\u001b[43m,\u001b[49m\u001b[43m \u001b[49m\u001b[43mr\u001b[49m\u001b[43m)\u001b[49m\u001b[43m,\u001b[49m\u001b[43m \u001b[49m\u001b[43mR\u001b[49m\u001b[43m)\u001b[49m\u001b[43m)\u001b[49m\n\u001b[1;32m     24\u001b[0m max_index \u001b[38;5;241m=\u001b[39m np\u001b[38;5;241m.\u001b[39margmax(marginal_gains)\n\u001b[1;32m     25\u001b[0m max_r \u001b[38;5;241m=\u001b[39m R[max_index]\n",
      "Cell \u001b[0;32mIn[3], line 23\u001b[0m, in \u001b[0;36mSGE_optimised.<locals>.<lambda>\u001b[0;34m(r)\u001b[0m\n\u001b[1;32m     21\u001b[0m R \u001b[38;5;241m=\u001b[39m random\u001b[38;5;241m.\u001b[39mchoices(\u001b[38;5;28mlist\u001b[39m(\u001b[38;5;28mset\u001b[39m(\u001b[38;5;28mrange\u001b[39m(D)) \u001b[38;5;241m-\u001b[39m S[i]), k\u001b[38;5;241m=\u001b[39ms)\n\u001b[1;32m     22\u001b[0m \u001b[38;5;66;03m# Use map to calculate marginal gains for all values in R with the custom set\u001b[39;00m\n\u001b[0;32m---> 23\u001b[0m marginal_gains \u001b[38;5;241m=\u001b[39m \u001b[38;5;28mlist\u001b[39m(\u001b[38;5;28mmap\u001b[39m(\u001b[38;5;28;01mlambda\u001b[39;00m r: \u001b[43mobjFL\u001b[49m\u001b[38;5;241;43m.\u001b[39;49m\u001b[43mmarginalGainWithMemoization\u001b[49m\u001b[43m(\u001b[49m\u001b[43mS\u001b[49m\u001b[43m[\u001b[49m\u001b[43mi\u001b[49m\u001b[43m]\u001b[49m\u001b[43m,\u001b[49m\u001b[43m \u001b[49m\u001b[43mr\u001b[49m\u001b[43m)\u001b[49m, R))\n\u001b[1;32m     24\u001b[0m max_index \u001b[38;5;241m=\u001b[39m np\u001b[38;5;241m.\u001b[39margmax(marginal_gains)\n\u001b[1;32m     25\u001b[0m max_r \u001b[38;5;241m=\u001b[39m R[max_index]\n",
      "File \u001b[0;32m~/miniconda3/envs/submodlib-env/lib/python3.9/site-packages/submodlib/functions/setFunction.py:143\u001b[0m, in \u001b[0;36mSetFunction.marginalGainWithMemoization\u001b[0;34m(self, X, element)\u001b[0m\n\u001b[1;32m    140\u001b[0m \u001b[38;5;28;01mif\u001b[39;00m element \u001b[38;5;129;01min\u001b[39;00m X:\n\u001b[1;32m    141\u001b[0m \t\u001b[38;5;28;01mreturn\u001b[39;00m \u001b[38;5;241m0\u001b[39m\n\u001b[0;32m--> 143\u001b[0m \u001b[38;5;28;01mreturn\u001b[39;00m \u001b[38;5;28;43mself\u001b[39;49m\u001b[38;5;241;43m.\u001b[39;49m\u001b[43mcpp_obj\u001b[49m\u001b[38;5;241;43m.\u001b[39;49m\u001b[43mmarginalGainWithMemoization\u001b[49m\u001b[43m(\u001b[49m\u001b[43mX\u001b[49m\u001b[43m,\u001b[49m\u001b[43m \u001b[49m\u001b[43melement\u001b[49m\u001b[43m,\u001b[49m\u001b[43m \u001b[49m\u001b[38;5;28;43;01mTrue\u001b[39;49;00m\u001b[43m)\u001b[49m\n",
      "\u001b[0;31mKeyboardInterrupt\u001b[0m: "
     ]
    }
   ],
   "source": [
    "time_to_get_subsets = 0\n",
    "list_of_class_wise_subsets = []\n",
    "num_sets = 20\n",
    "for i, df in enumerate(dataframes):\n",
    "    features = df[\"Features\"].to_numpy()\n",
    "    objFL = FacilityLocationFunction(n=features.shape[0], data=features, separate_rep=False, mode=\"dense\", metric=\"cosine\")\n",
    "    start_time = time.time()\n",
    "    S = SGE_optimised(features.shape[0], int(features.shape[0]*subset_size_fraction), objFL, n=num_sets)\n",
    "    time_to_get_subsets += time.time() - start_time\n",
    "    set_indexes = []\n",
    "    for j in range(num_sets):\n",
    "        set_indexes.append(set(df.iloc[list(S[0])].Index.tolist()))\n",
    "    path = f\"./{dataset}/SGE/facility-location/class-data-{subset_size_fraction}\"\n",
    "    if not os.path.exists(path):\n",
    "        os.makedirs(path)\n",
    "    with open(f\"{path}/class_{i}.pkl\", \"wb\") as f:\n",
    "        pickle.dump(set_indexes, f)\n",
    "    list_of_class_wise_subsets.append(set_indexes)\n",
    "print(\"--- %s seconds ---\" % (time_to_get_subsets))"
   ]
  },
  {
   "cell_type": "markdown",
   "id": "4c1652c0",
   "metadata": {},
   "source": [
    "## Disparity-Min Fucntion"
   ]
  },
  {
   "cell_type": "code",
   "execution_count": null,
   "id": "04b1c47c",
   "metadata": {},
   "outputs": [],
   "source": [
    "time_to_get_subsets = 0\n",
    "list_of_class_wise_subsets = []\n",
    "num_sets = 20\n",
    "for i, df in enumerate(dataframes):\n",
    "    features = df[\"Features\"].to_numpy()\n",
    "    objDM = DisparityMinFunction(n=features.shape[0], data=features, mode=\"dense\", metric=\"cosine\")\n",
    "    start_time = time.time()\n",
    "    S = SGE_optimised(features.shape[0], int(features.shape[0]*subset_size_fraction), objDM, n=num_sets)\n",
    "    time_to_get_subsets += time.time() - start_time\n",
    "    set_indexes = []\n",
    "    for j in range(num_sets):\n",
    "        set_indexes.append(set(df.iloc[list(S[0])].Index.tolist()))\n",
    "        \n",
    "    with open(f\"./{dataset}/SGE/disparity-min/class-data-{subset_size_fraction}/class_{i}.pkl\", \"wb\") as f:\n",
    "        pickle.dump(set_indexes, f)\n",
    "    list_of_class_wise_subsets.append(set_indexes)\n",
    "print(\"--- %s seconds ---\" % (time_to_get_subsets))"
   ]
  },
  {
   "cell_type": "markdown",
   "id": "0d9866b9",
   "metadata": {},
   "source": [
    "## Graph Cut Function"
   ]
  },
  {
   "cell_type": "code",
   "execution_count": 23,
   "id": "6117805d",
   "metadata": {},
   "outputs": [],
   "source": [
    "lambdaVal = 0.5\n",
    "objGC = GraphCutFunction(n=features.shape[0], data=features, mode=\"dense\", metric=\"cosine\", lambdaVal=lambdaVal)"
   ]
  },
  {
   "cell_type": "code",
   "execution_count": null,
   "id": "0bcb7e2c",
   "metadata": {},
   "outputs": [],
   "source": [
    "time_to_get_subsets = 0\n",
    "list_of_class_wise_subsets = []\n",
    "num_sets = 20\n",
    "for i, df in enumerate(dataframes):\n",
    "    features = df[\"Features\"].to_numpy()\n",
    "    objGC = GraphCutFunction(n=features.shape[0], data=features, mode=\"dense\", metric=\"cosine\", lambdaVal=lambdaVal)\n",
    "    start_time = time.time()\n",
    "    S = SGE_optimised(features.shape[0], int(features.shape[0]*subset_size_fraction), objGC, n=num_sets)\n",
    "    time_to_get_subsets += time.time() - start_time\n",
    "    set_indexes = []\n",
    "    for j in range(num_sets):\n",
    "        set_indexes.append(set(df.iloc[list(S[0])].Index.tolist()))\n",
    "    with open(f\"./{dataset}/SGE/graph-cut/class-data-{subset_size_fraction}/class_{i}.pkl\", \"wb\") as f:\n",
    "        pickle.dump(set_indexes, f)\n",
    "    list_of_class_wise_subsets.append(set_indexes)\n",
    "print(\"--- %s seconds ---\" % (time_to_get_subsets))"
   ]
  },
  {
   "cell_type": "markdown",
   "id": "aa08e0e2",
   "metadata": {},
   "source": [
    "## Disparity Sum Function"
   ]
  },
  {
   "cell_type": "code",
   "execution_count": 24,
   "id": "2f65f5bd",
   "metadata": {},
   "outputs": [],
   "source": [
    "objDS = DisparitySumFunction(n=features.shape[0], data=features, mode=\"dense\", metric=\"cosine\")"
   ]
  },
  {
   "cell_type": "code",
   "execution_count": null,
   "id": "4ccb7747",
   "metadata": {},
   "outputs": [],
   "source": [
    "time_to_get_subsets = 0\n",
    "list_of_class_wise_subsets = []\n",
    "num_sets = 20\n",
    "for i, df in enumerate(dataframes):\n",
    "    features = df[\"Features\"].to_numpy()\n",
    "    objDS = DisparitySumFunction(n=features.shape[0], data=features, mode=\"dense\", metric=\"cosine\")\n",
    "    start_time = time.time()\n",
    "    S = SGE_optimised(features.shape[0], int(features.shape[0]*subset_size_fraction), objDS, n=num_sets)\n",
    "    time_to_get_subsets += time.time() - start_time\n",
    "    set_indexes = []\n",
    "    for j in range(num_sets):\n",
    "        set_indexes.append(set(df.iloc[list(S[0])].Index.tolist()))\n",
    "    with open(f\"./{dataset}/SGE/disparity-sum/class-data-{subset_size_fraction}/class_{i}.pkl\", \"wb\") as f:\n",
    "        pickle.dump(set_indexes, f)\n",
    "    list_of_class_wise_subsets.append(set_indexes)\n",
    "print(\"--- %s seconds ---\" % (time_to_get_subsets))"
   ]
  },
  {
   "cell_type": "code",
   "execution_count": null,
   "id": "70046b9b",
   "metadata": {},
   "outputs": [],
   "source": [
    "with open(\"./class-data/class_0.pkl\", \"rb\") as f:\n",
    "    data = pickle.load(f)"
   ]
  },
  {
   "cell_type": "code",
   "execution_count": 15,
   "id": "75156bbe",
   "metadata": {},
   "outputs": [],
   "source": [
    "features = dataframes[0][\"Features\"].to_numpy()"
   ]
  },
  {
   "cell_type": "code",
   "execution_count": 16,
   "id": "77a48481",
   "metadata": {},
   "outputs": [
    {
     "name": "stdout",
     "output_type": "stream",
     "text": [
      "<class 'numpy.ndarray'>\n"
     ]
    }
   ],
   "source": [
    "print(type(features[0]))"
   ]
  },
  {
   "cell_type": "code",
   "execution_count": 20,
   "id": "cccff871",
   "metadata": {},
   "outputs": [],
   "source": [
    "objDM = DisparityMinFunction(n=features.shape[0], data=features, mode=\"dense\", metric=\"cosine\")"
   ]
  },
  {
   "cell_type": "code",
   "execution_count": 12,
   "id": "1d49c3ee",
   "metadata": {},
   "outputs": [
    {
     "name": "stderr",
     "output_type": "stream",
     "text": [
      "100%|██████████| 10/10 [00:23<00:00,  2.39s/it]\n"
     ]
    }
   ],
   "source": [
    "S = SGE_optimised(features.shape[0], features.shape[0]//10, objFL)"
   ]
  },
  {
   "cell_type": "code",
   "execution_count": 16,
   "id": "584e6f29",
   "metadata": {},
   "outputs": [
    {
     "name": "stdout",
     "output_type": "stream",
     "text": [
      "<class 'pandas.core.series.Series'>\n",
      "{2056, 2063, 2068, 2076, 2081, 4130, 4131, 4132, 41, 4137, 2092, 46, 2095, 51, 53, 4151, 58, 2112, 2115, 2121, 74, 4171, 80, 83, 4181, 2134, 2133, 4186, 2142, 96, 4194, 108, 4205, 2157, 4208, 2162, 2163, 2169, 4219, 2171, 4221, 4223, 2177, 4227, 4229, 137, 4246, 2200, 153, 2206, 4255, 4257, 2215, 2216, 4266, 2220, 2222, 182, 2241, 2242, 2251, 4302, 206, 209, 215, 2267, 231, 2281, 234, 4336, 242, 246, 249, 4349, 2305, 4354, 2316, 2318, 4367, 4375, 281, 2330, 2339, 2347, 2351, 307, 4414, 4419, 4422, 329, 2382, 334, 4432, 2383, 337, 2387, 4436, 2408, 4458, 364, 365, 2420, 2422, 2423, 376, 4475, 2428, 386, 391, 2440, 4491, 405, 4506, 4507, 4509, 420, 4522, 2477, 2479, 433, 4540, 4545, 2505, 457, 2508, 2519, 4572, 481, 2534, 487, 4589, 4590, 506, 4611, 2565, 4618, 523, 2576, 4625, 2578, 4629, 538, 4635, 4642, 4643, 552, 4649, 4656, 2609, 4657, 564, 2612, 4663, 4671, 589, 591, 4688, 592, 2639, 2644, 597, 4693, 4695, 2646, 2652, 4702, 2660, 614, 616, 2668, 639, 643, 2692, 648, 651, 4747, 655, 4760, 2714, 666, 668, 2717, 2716, 2723, 2724, 4779, 2731, 4783, 4786, 2740, 695, 698, 2752, 704, 709, 4815, 4819, 727, 733, 4833, 2792, 2794, 747, 4846, 753, 754, 2803, 2806, 759, 760, 4860, 2812, 2820, 774, 2822, 2826, 4877, 2835, 787, 4888, 796, 4894, 4897, 4898, 2851, 4904, 813, 4915, 4916, 2871, 4920, 825, 827, 2875, 2882, 2884, 841, 844, 4942, 2910, 2912, 2913, 866, 4963, 2918, 875, 2925, 878, 879, 4976, 2933, 2934, 4983, 890, 4991, 898, 4998, 2950, 907, 2956, 911, 913, 915, 916, 2966, 919, 2970, 2975, 2990, 2994, 3000, 953, 957, 3005, 977, 3027, 3033, 987, 988, 989, 995, 3053, 1015, 1016, 3065, 1023, 3076, 1035, 3087, 1051, 1053, 1060, 3109, 3110, 1066, 3117, 3120, 1078, 1092, 3140, 1100, 1101, 3151, 3152, 1107, 3163, 1117, 3166, 3168, 3174, 3175, 3176, 3177, 1131, 3184, 1137, 1139, 1143, 3196, 1162, 3212, 3217, 3223, 1180, 1182, 1185, 1192, 3245, 1209, 3261, 1220, 1223, 1225, 3280, 3287, 3288, 1251, 3301, 1256, 1257, 1258, 1263, 3313, 1266, 1272, 3333, 3343, 1324, 3374, 3375, 1328, 3383, 3385, 1339, 1340, 3390, 1343, 3392, 3397, 3399, 1368, 3418, 3429, 1389, 1393, 1401, 1404, 1412, 1413, 3461, 3465, 1424, 1427, 1432, 3481, 3483, 1446, 1447, 1449, 3507, 3513, 1482, 1483, 1490, 3541, 1499, 1511, 3559, 1514, 3565, 3566, 3570, 1523, 3579, 1533, 3589, 1547, 1552, 3601, 3603, 1556, 3608, 1565, 3627, 3631, 1593, 3642, 3645, 1601, 3656, 3657, 3668, 3679, 3683, 1640, 3702, 1659, 1666, 1667, 3728, 3729, 1686, 3734, 1689, 1692, 1694, 3748, 1701, 1704, 3755, 3760, 1715, 1723, 1724, 3780, 1739, 1740, 1742, 1747, 3797, 3799, 3803, 3811, 3815, 1774, 3836, 1792, 3842, 3858, 3865, 1818, 3872, 1826, 3875, 3874, 3890, 1843, 3909, 1868, 1876, 1888, 1889, 1893, 1895, 3943, 1896, 1901, 1905, 1911, 3969, 1925, 3974, 3975, 3984, 3987, 3988, 1948, 1949, 3997, 1958, 4012, 1969, 1971, 4022, 4025, 1983, 4038, 4039, 1995, 4044, 1999, 4050, 2007, 2013, 2022, 4071, 4076, 2030, 2033, 2044}\n"
     ]
    }
   ],
   "source": [
    "print(type(dataframes[0][\"Index\"]))\n",
    "print(S[0])"
   ]
  },
  {
   "cell_type": "code",
   "execution_count": 19,
   "id": "0f703b24",
   "metadata": {},
   "outputs": [
    {
     "name": "stdout",
     "output_type": "stream",
     "text": [
      "<class 'pandas.core.series.Series'>\n"
     ]
    }
   ],
   "source": [
    "index_values = dataframes[0].iloc[list(S[0])].Index\n",
    "print(type(index_values))\n"
   ]
  },
  {
   "cell_type": "code",
   "execution_count": 22,
   "id": "b29e99de",
   "metadata": {},
   "outputs": [
    {
     "ename": "TypeError",
     "evalue": "__init__() missing 1 required positional argument: 'lambdaVal'",
     "output_type": "error",
     "traceback": [
      "\u001b[0;31m---------------------------------------------------------------------------\u001b[0m",
      "\u001b[0;31mTypeError\u001b[0m                                 Traceback (most recent call last)",
      "Cell \u001b[0;32mIn[22], line 1\u001b[0m\n\u001b[0;32m----> 1\u001b[0m objGC \u001b[38;5;241m=\u001b[39m \u001b[43mGraphCutFunction\u001b[49m\u001b[43m(\u001b[49m\u001b[43mn\u001b[49m\u001b[38;5;241;43m=\u001b[39;49m\u001b[43mfeatures\u001b[49m\u001b[38;5;241;43m.\u001b[39;49m\u001b[43mshape\u001b[49m\u001b[43m[\u001b[49m\u001b[38;5;241;43m0\u001b[39;49m\u001b[43m]\u001b[49m\u001b[43m,\u001b[49m\u001b[43m \u001b[49m\u001b[43mdata\u001b[49m\u001b[38;5;241;43m=\u001b[39;49m\u001b[43mfeatures\u001b[49m\u001b[43m,\u001b[49m\u001b[43m \u001b[49m\u001b[43mmode\u001b[49m\u001b[38;5;241;43m=\u001b[39;49m\u001b[38;5;124;43m\"\u001b[39;49m\u001b[38;5;124;43mdense\u001b[39;49m\u001b[38;5;124;43m\"\u001b[39;49m\u001b[43m,\u001b[49m\u001b[43m \u001b[49m\u001b[43mmetric\u001b[49m\u001b[38;5;241;43m=\u001b[39;49m\u001b[38;5;124;43m\"\u001b[39;49m\u001b[38;5;124;43mcosine\u001b[39;49m\u001b[38;5;124;43m\"\u001b[39;49m\u001b[43m)\u001b[49m\n",
      "\u001b[0;31mTypeError\u001b[0m: __init__() missing 1 required positional argument: 'lambdaVal'"
     ]
    }
   ],
   "source": []
  },
  {
   "cell_type": "code",
   "execution_count": null,
   "id": "5d08d36c",
   "metadata": {},
   "outputs": [],
   "source": [
    "import time\n",
    "start_time = time.time()\n",
    "S = objFL.maximize(features.shape[0]-1, optimizer='NaiveGreedy', stopIfZeroGain=False, stopIfNegativeGain=False, epsilon=0.1, verbose=False, show_progress=True, costs=None, costSensitiveGreedy=False)\n",
    "print(\"--- %s seconds ---\" % (time.time() - start_time))"
   ]
  },
  {
   "cell_type": "code",
   "execution_count": null,
   "id": "a3d7913d",
   "metadata": {},
   "outputs": [],
   "source": [
    "S = objFL.maximize(features.shape[0]-1, show_progress=True)"
   ]
  },
  {
   "cell_type": "code",
   "execution_count": null,
   "id": "fb3c1a04",
   "metadata": {},
   "outputs": [],
   "source": [
    "print(\"Why is this running slow\")"
   ]
  },
  {
   "cell_type": "code",
   "execution_count": null,
   "id": "d5e73c9a",
   "metadata": {},
   "outputs": [],
   "source": [
    "S = WRE_optimised(features.shape[0], features.shape[0]//10, objFL, n=20)"
   ]
  },
  {
   "cell_type": "code",
   "execution_count": null,
   "id": "a9ff0483",
   "metadata": {},
   "outputs": [],
   "source": [
    "S = stochastic_greedy(features.shape[0], features.shape[0]//10, objFL)"
   ]
  },
  {
   "cell_type": "code",
   "execution_count": null,
   "id": "cd9c548b",
   "metadata": {},
   "outputs": [],
   "source": [
    "S1 = stochastic_greedy(features.shape[0], features.shape[0]//10, objFL, test=True)"
   ]
  },
  {
   "cell_type": "code",
   "execution_count": null,
   "id": "547c0d38",
   "metadata": {},
   "outputs": [],
   "source": [
    "features2 = dataframes[1][\"Features\"].to_numpy()\n",
    "objFL2 = FacilityLocationFunction(n=features2.shape[0], data=features2, separate_rep=False, mode=\"dense\", metric=\"cosine\")"
   ]
  },
  {
   "cell_type": "code",
   "execution_count": null,
   "id": "eddd0bf3",
   "metadata": {},
   "outputs": [],
   "source": [
    "S2 = SGE_optimised(features2.shape[0], features2.shape[0]//10, objFL2)"
   ]
  },
  {
   "cell_type": "code",
   "execution_count": null,
   "id": "4047f733",
   "metadata": {},
   "outputs": [],
   "source": [
    "S3 = WRE_optimised(features2.shape[0], features2.shape[0]//10, objFL2)"
   ]
  },
  {
   "cell_type": "code",
   "execution_count": null,
   "id": "36cb091c",
   "metadata": {},
   "outputs": [],
   "source": [
    "import itertools\n",
    "import numpy as np\n",
    "\n",
    "def calculate_iou(set1, set2):\n",
    "    intersection = set1.intersection(set2)\n",
    "    union = set1.union(set2)\n",
    "    iou = len(intersection) / len(union)\n",
    "    return iou\n",
    "\n",
    "\n",
    "def calculate_iou_matrix(sets_of_integers):\n",
    "    num_sets = len(sets_of_integers)\n",
    "    iou_matrix = np.zeros((num_sets, num_sets))\n",
    "\n",
    "    for i, j in itertools.combinations(range(num_sets), 2):\n",
    "        set1 = sets_of_integers[i]\n",
    "        set2 = sets_of_integers[j]\n",
    "        iou = calculate_iou(set1, set2)\n",
    "        iou_matrix[i, j] = iou\n",
    "        iou_matrix[j, i] = iou  # Fill the symmetric part\n",
    "\n",
    "    return iou_matrix\n"
   ]
  },
  {
   "cell_type": "code",
   "execution_count": null,
   "id": "dad87f34",
   "metadata": {},
   "outputs": [],
   "source": [
    "calculate_iou(S2[0], S2[0])"
   ]
  },
  {
   "cell_type": "code",
   "execution_count": null,
   "id": "97aadfba",
   "metadata": {},
   "outputs": [],
   "source": [
    "iou_matrix = calculate_iou_matrix(S2)"
   ]
  },
  {
   "cell_type": "code",
   "execution_count": null,
   "id": "3c326146",
   "metadata": {},
   "outputs": [],
   "source": [
    "print(iou_matrix)"
   ]
  },
  {
   "cell_type": "code",
   "execution_count": null,
   "id": "ec945516",
   "metadata": {},
   "outputs": [],
   "source": []
  }
 ],
 "metadata": {
  "kernelspec": {
   "display_name": "submodlib-env",
   "language": "python",
   "name": "python3"
  },
  "language_info": {
   "codemirror_mode": {
    "name": "ipython",
    "version": 3
   },
   "file_extension": ".py",
   "mimetype": "text/x-python",
   "name": "python",
   "nbconvert_exporter": "python",
   "pygments_lexer": "ipython3",
   "version": "3.9.18"
  }
 },
 "nbformat": 4,
 "nbformat_minor": 5
}
