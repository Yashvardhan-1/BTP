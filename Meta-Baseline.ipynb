{
 "cells": [
  {
   "cell_type": "code",
   "execution_count": 1,
   "id": "77904680",
   "metadata": {},
   "outputs": [],
   "source": [
    "from torchvision.models import resnet18\n",
    "import torch\n",
    "import torch.nn as nn\n",
    "import torchvision\n",
    "import torch.optim as optim\n",
    "from tqdm import tqdm\n",
    "import torchvision.transforms as transforms\n",
    "from torchvision import datasets, transforms\n",
    "from tqdm import tqdm \n",
    "import time\n",
    "from torch.utils.data import random_split, Dataset, DataLoader\n",
    "from torchvision.models.resnet import ResNet18_Weights\n",
    "import torchviz\n",
    "import pickle\n",
    "import random\n",
    "\n",
    "seed = 42\n",
    "torch.manual_seed(seed)"
   ]
  },
  {
   "cell_type": "code",
   "execution_count": 13,
   "id": "68173d7c",
   "metadata": {},
   "outputs": [],
   "source": [
    "if torch.backends.mps.is_available():\n",
    "    device = \"mps\"\n",
    "elif torch.cuda.is_available():\n",
    "    device = \"cuda\"\n",
    "else:\n",
    "    device = \"cpu\""
   ]
  },
  {
   "cell_type": "markdown",
   "id": "be25f166",
   "metadata": {},
   "source": [
    "### Load Resent Model "
   ]
  },
  {
   "cell_type": "code",
   "execution_count": 3,
   "id": "867a90b2",
   "metadata": {},
   "outputs": [],
   "source": [
    "def get_cifar10_model():\n",
    "    model = torchvision.models.resnet18(weights=ResNet18_Weights.IMAGENET1K_V1)  # Use 'weights' for pretrained models\n",
    "    num_features = model.fc.in_features\n",
    "    model.fc = nn.Linear(num_features, 10)\n",
    "    return model"
   ]
  },
  {
   "cell_type": "code",
   "execution_count": 4,
   "id": "59ee8f3d",
   "metadata": {},
   "outputs": [
    {
     "name": "stdout",
     "output_type": "stream",
     "text": [
      "<class 'torchvision.models.resnet.ResNet'>\n"
     ]
    }
   ],
   "source": [
    "model = get_cifar10_model()\n",
    "print(type(model))"
   ]
  },
  {
   "cell_type": "code",
   "execution_count": 8,
   "id": "ebf2a8aa",
   "metadata": {},
   "outputs": [],
   "source": [
    "# Freeze pre-trained layers\n",
    "for param in model.parameters():\n",
    "    param.requires_grad = False\n",
    "\n",
    "# Unfreeze some layers for fine-tuning\n",
    "for param in model.layer4.parameters():\n",
    "    param.requires_grad = True"
   ]
  },
  {
   "cell_type": "code",
   "execution_count": 8,
   "id": "61a27be9",
   "metadata": {},
   "outputs": [],
   "source": [
    "# Define optimizer and loss function\n",
    "optimizer = torch.optim.Adam(model.parameters())\n",
    "loss_fn = nn.CrossEntropyLoss()"
   ]
  },
  {
   "cell_type": "code",
   "execution_count": 3,
   "id": "9245b7ec",
   "metadata": {},
   "outputs": [],
   "source": [
    "# Define data transforms\n",
    "transform_train = transforms.Compose([\n",
    "    transforms.RandomCrop(32, padding=4),\n",
    "    transforms.RandomHorizontalFlip(),\n",
    "    transforms.ToTensor(),\n",
    "    transforms.Normalize((0.4914, 0.4822, 0.4465), (0.2023, 0.1994, 0.2010))\n",
    "])\n",
    "\n",
    "transform_test = transforms.Compose([\n",
    "    transforms.ToTensor(),\n",
    "    transforms.Normalize((0.4914, 0.4822, 0.4465), (0.2023, 0.1994, 0.2010))\n",
    "])"
   ]
  },
  {
   "cell_type": "code",
   "execution_count": 7,
   "id": "5f7d6e55",
   "metadata": {},
   "outputs": [
    {
     "name": "stdout",
     "output_type": "stream",
     "text": [
      "Files already downloaded and verified\n",
      "Files already downloaded and verified\n"
     ]
    }
   ],
   "source": [
    "# Load CIFAR10 datasets\n",
    "train_dataset = datasets.CIFAR10(root=\"./data\", train=True, download=True, transform=transform_train)\n",
    "test_dataset = datasets.CIFAR10(root=\"./data\", train=False, download=True, transform=transform_test)\n",
    "\n",
    "# Create dataloaders\n",
    "train_dataloader = DataLoader(train_dataset, batch_size=64, shuffle=True, num_workers=2)\n",
    "test_dataloader = DataLoader(test_dataset, batch_size=64, shuffle=False, num_workers=2)"
   ]
  },
  {
   "cell_type": "markdown",
   "id": "c7660594",
   "metadata": {},
   "source": [
    "## LeNet Model Definition"
   ]
  },
  {
   "cell_type": "code",
   "execution_count": 4,
   "id": "3640cfdb",
   "metadata": {},
   "outputs": [],
   "source": [
    "class LeNet(nn.Module):    \n",
    "    def __init__(self):\n",
    "        super(LeNet, self).__init__()\n",
    "        self.feature_extractor = nn.Sequential(\n",
    "            nn.Conv2d(in_channels=3, out_channels=6, kernel_size=5, stride=1, padding=0),\n",
    "            nn.ReLU(),\n",
    "            nn.AvgPool2d(kernel_size=2, stride=2),\n",
    "\n",
    "            nn.Conv2d(in_channels=6, out_channels=16, kernel_size=5, stride=1, padding=0),\n",
    "            nn.ReLU(),\n",
    "            nn.AvgPool2d(kernel_size=2, stride=2),\n",
    "        )\n",
    "\n",
    "        self.classifier = nn.Sequential(\n",
    "            nn.Linear(400,120),  #in_features = 16 x5x5 \n",
    "            nn.ReLU(),\n",
    "            nn.Linear(120,84),\n",
    "            nn.ReLU(),\n",
    "            nn.Linear(84,10),\n",
    "            nn.Softmax(dim=1)\n",
    "\n",
    "        )\n",
    "        \n",
    "    def forward(self,x): \n",
    "        a1=self.feature_extractor(x)\n",
    "        # print(a1.shape)\n",
    "        a1 = torch.flatten(a1,1)\n",
    "        a2=self.classifier(a1)\n",
    "        return a2"
   ]
  },
  {
   "cell_type": "markdown",
   "id": "7473020d",
   "metadata": {},
   "source": [
    "# Baseline Model Training"
   ]
  },
  {
   "cell_type": "markdown",
   "id": "9629936b",
   "metadata": {},
   "source": [
    "### Basic Train Loop"
   ]
  },
  {
   "cell_type": "code",
   "execution_count": 9,
   "id": "4805ce89",
   "metadata": {},
   "outputs": [
    {
     "name": "stderr",
     "output_type": "stream",
     "text": [
      "100%|██████████| 782/782 [00:24<00:00, 32.11it/s] \n",
      "100%|██████████| 157/157 [00:13<00:00, 11.22it/s] \n",
      "  5%|▌         | 1/20 [00:38<12:08, 38.35s/it]"
     ]
    },
    {
     "name": "stdout",
     "output_type": "stream",
     "text": [
      "Epoch: [1/20], Accuracy: 0.3563\n"
     ]
    },
    {
     "name": "stderr",
     "output_type": "stream",
     "text": [
      "100%|██████████| 782/782 [00:20<00:00, 37.63it/s] \n",
      "100%|██████████| 157/157 [00:13<00:00, 11.45it/s] \n",
      " 10%|█         | 2/20 [01:12<10:49, 36.09s/it]"
     ]
    },
    {
     "name": "stdout",
     "output_type": "stream",
     "text": [
      "Epoch: [2/20], Accuracy: 0.4079\n"
     ]
    },
    {
     "name": "stderr",
     "output_type": "stream",
     "text": [
      "100%|██████████| 782/782 [00:20<00:00, 38.52it/s]\n",
      "100%|██████████| 157/157 [00:13<00:00, 11.52it/s] \n",
      " 15%|█▌        | 3/20 [01:46<09:56, 35.10s/it]"
     ]
    },
    {
     "name": "stdout",
     "output_type": "stream",
     "text": [
      "Epoch: [3/20], Accuracy: 0.4171\n"
     ]
    },
    {
     "name": "stderr",
     "output_type": "stream",
     "text": [
      "100%|██████████| 782/782 [00:20<00:00, 38.89it/s] \n",
      "100%|██████████| 157/157 [00:13<00:00, 11.66it/s] \n",
      " 20%|██        | 4/20 [02:20<09:12, 34.50s/it]"
     ]
    },
    {
     "name": "stdout",
     "output_type": "stream",
     "text": [
      "Epoch: [4/20], Accuracy: 0.4544\n"
     ]
    },
    {
     "name": "stderr",
     "output_type": "stream",
     "text": [
      "100%|██████████| 782/782 [00:21<00:00, 35.74it/s] \n",
      "100%|██████████| 157/157 [00:13<00:00, 11.31it/s] \n",
      " 25%|██▌       | 5/20 [02:56<08:44, 34.96s/it]"
     ]
    },
    {
     "name": "stdout",
     "output_type": "stream",
     "text": [
      "Epoch: [5/20], Accuracy: 0.4802\n"
     ]
    },
    {
     "name": "stderr",
     "output_type": "stream",
     "text": [
      "100%|██████████| 782/782 [00:20<00:00, 38.42it/s] \n",
      "100%|██████████| 157/157 [00:13<00:00, 11.23it/s] \n",
      " 30%|███       | 6/20 [03:30<08:06, 34.75s/it]"
     ]
    },
    {
     "name": "stdout",
     "output_type": "stream",
     "text": [
      "Epoch: [6/20], Accuracy: 0.4861\n"
     ]
    },
    {
     "name": "stderr",
     "output_type": "stream",
     "text": [
      "100%|██████████| 782/782 [00:18<00:00, 41.48it/s] \n",
      "100%|██████████| 157/157 [00:12<00:00, 12.33it/s] \n",
      " 35%|███▌      | 7/20 [04:02<07:18, 33.72s/it]"
     ]
    },
    {
     "name": "stdout",
     "output_type": "stream",
     "text": [
      "Epoch: [7/20], Accuracy: 0.4993\n"
     ]
    },
    {
     "name": "stderr",
     "output_type": "stream",
     "text": [
      "100%|██████████| 782/782 [00:17<00:00, 43.64it/s] \n",
      "100%|██████████| 157/157 [00:12<00:00, 12.49it/s]\n",
      " 40%|████      | 8/20 [04:32<06:32, 32.70s/it]"
     ]
    },
    {
     "name": "stdout",
     "output_type": "stream",
     "text": [
      "Epoch: [8/20], Accuracy: 0.5031\n"
     ]
    },
    {
     "name": "stderr",
     "output_type": "stream",
     "text": [
      "100%|██████████| 782/782 [00:18<00:00, 43.18it/s] \n",
      "100%|██████████| 157/157 [00:12<00:00, 12.20it/s]\n",
      " 45%|████▌     | 9/20 [05:03<05:53, 32.17s/it]"
     ]
    },
    {
     "name": "stdout",
     "output_type": "stream",
     "text": [
      "Epoch: [9/20], Accuracy: 0.5115\n"
     ]
    },
    {
     "name": "stderr",
     "output_type": "stream",
     "text": [
      "100%|██████████| 782/782 [00:17<00:00, 43.72it/s] \n",
      "100%|██████████| 157/157 [00:13<00:00, 12.00it/s] \n",
      " 50%|█████     | 10/20 [05:34<05:18, 31.81s/it]"
     ]
    },
    {
     "name": "stdout",
     "output_type": "stream",
     "text": [
      "Epoch: [10/20], Accuracy: 0.5257\n"
     ]
    },
    {
     "name": "stderr",
     "output_type": "stream",
     "text": [
      "100%|██████████| 782/782 [00:17<00:00, 44.35it/s] \n",
      "100%|██████████| 157/157 [00:12<00:00, 12.40it/s] \n",
      " 55%|█████▌    | 11/20 [06:04<04:42, 31.36s/it]"
     ]
    },
    {
     "name": "stdout",
     "output_type": "stream",
     "text": [
      "Epoch: [11/20], Accuracy: 0.5230\n"
     ]
    },
    {
     "name": "stderr",
     "output_type": "stream",
     "text": [
      "100%|██████████| 782/782 [00:17<00:00, 43.74it/s] \n",
      "100%|██████████| 157/157 [00:12<00:00, 12.21it/s]\n",
      " 60%|██████    | 12/20 [06:35<04:09, 31.17s/it]"
     ]
    },
    {
     "name": "stdout",
     "output_type": "stream",
     "text": [
      "Epoch: [12/20], Accuracy: 0.5164\n"
     ]
    },
    {
     "name": "stderr",
     "output_type": "stream",
     "text": [
      "100%|██████████| 782/782 [00:17<00:00, 43.81it/s] \n",
      "100%|██████████| 157/157 [00:12<00:00, 12.45it/s]\n",
      " 65%|██████▌   | 13/20 [07:06<03:36, 30.96s/it]"
     ]
    },
    {
     "name": "stdout",
     "output_type": "stream",
     "text": [
      "Epoch: [13/20], Accuracy: 0.5334\n"
     ]
    },
    {
     "name": "stderr",
     "output_type": "stream",
     "text": [
      "100%|██████████| 782/782 [00:17<00:00, 44.39it/s] \n",
      "100%|██████████| 157/157 [00:12<00:00, 12.41it/s]\n",
      " 70%|███████   | 14/20 [07:36<03:04, 30.76s/it]"
     ]
    },
    {
     "name": "stdout",
     "output_type": "stream",
     "text": [
      "Epoch: [14/20], Accuracy: 0.5277\n"
     ]
    },
    {
     "name": "stderr",
     "output_type": "stream",
     "text": [
      "100%|██████████| 782/782 [00:17<00:00, 43.86it/s] \n",
      "100%|██████████| 157/157 [00:12<00:00, 12.34it/s]\n",
      " 75%|███████▌  | 15/20 [08:07<02:33, 30.70s/it]"
     ]
    },
    {
     "name": "stdout",
     "output_type": "stream",
     "text": [
      "Epoch: [15/20], Accuracy: 0.5364\n"
     ]
    },
    {
     "name": "stderr",
     "output_type": "stream",
     "text": [
      "100%|██████████| 782/782 [00:18<00:00, 43.37it/s] \n",
      "100%|██████████| 157/157 [00:12<00:00, 12.23it/s] \n",
      " 80%|████████  | 16/20 [08:37<02:03, 30.76s/it]"
     ]
    },
    {
     "name": "stdout",
     "output_type": "stream",
     "text": [
      "Epoch: [16/20], Accuracy: 0.5463\n"
     ]
    },
    {
     "name": "stderr",
     "output_type": "stream",
     "text": [
      "100%|██████████| 782/782 [00:17<00:00, 44.64it/s] \n",
      "100%|██████████| 157/157 [00:12<00:00, 12.42it/s]\n",
      " 85%|████████▌ | 17/20 [09:08<01:31, 30.58s/it]"
     ]
    },
    {
     "name": "stdout",
     "output_type": "stream",
     "text": [
      "Epoch: [17/20], Accuracy: 0.5497\n"
     ]
    },
    {
     "name": "stderr",
     "output_type": "stream",
     "text": [
      "100%|██████████| 782/782 [00:17<00:00, 44.33it/s] \n",
      "100%|██████████| 157/157 [00:12<00:00, 12.53it/s]\n",
      " 90%|█████████ | 18/20 [09:38<01:00, 30.46s/it]"
     ]
    },
    {
     "name": "stdout",
     "output_type": "stream",
     "text": [
      "Epoch: [18/20], Accuracy: 0.5386\n"
     ]
    },
    {
     "name": "stderr",
     "output_type": "stream",
     "text": [
      "100%|██████████| 782/782 [00:17<00:00, 44.56it/s] \n",
      "100%|██████████| 157/157 [00:12<00:00, 12.45it/s]\n",
      " 95%|█████████▌| 19/20 [10:08<00:30, 30.38s/it]"
     ]
    },
    {
     "name": "stdout",
     "output_type": "stream",
     "text": [
      "Epoch: [19/20], Accuracy: 0.5402\n"
     ]
    },
    {
     "name": "stderr",
     "output_type": "stream",
     "text": [
      "100%|██████████| 782/782 [00:18<00:00, 43.27it/s] \n",
      "100%|██████████| 157/157 [00:12<00:00, 12.51it/s]\n",
      "100%|██████████| 20/20 [10:39<00:00, 31.95s/it]"
     ]
    },
    {
     "name": "stdout",
     "output_type": "stream",
     "text": [
      "Epoch: [20/20], Accuracy: 0.5476\n",
      "--- 639.0781149864197 seconds ---\n"
     ]
    },
    {
     "name": "stderr",
     "output_type": "stream",
     "text": [
      "\n"
     ]
    }
   ],
   "source": [
    "# Define the Model\n",
    "# model = get_cifar10_model()\n",
    "model = LeNet()\n",
    "model = model.to(device)\n",
    "\n",
    "# Define optimizer and loss function\n",
    "optimizer = torch.optim.Adam(model.parameters())\n",
    "loss_fn = nn.CrossEntropyLoss()\n",
    "\n",
    "# Train the model\n",
    "epochs = 20\n",
    "model.train()\n",
    "start_time = time.time()\n",
    "for epoch in tqdm(range(epochs)):\n",
    "    # Train loop\n",
    "    for images, labels in tqdm(train_dataloader):\n",
    "\n",
    "        images = images.to(device)\n",
    "        labels = labels.to(device)\n",
    "\n",
    "        # Forward pass\n",
    "        outputs = model(images)\n",
    "        loss = loss_fn(outputs, labels)\n",
    "        \n",
    "        # Backward pass and update weights\n",
    "        optimizer.zero_grad()\n",
    "        loss.backward()\n",
    "        optimizer.step()\n",
    "\n",
    "    # Evaluate on test set\n",
    "    correct = 0\n",
    "    total = 0\n",
    "    with torch.no_grad():\n",
    "        for images, labels in tqdm(test_dataloader):\n",
    "            images = images.to(device)\n",
    "            labels = labels.to(device)\n",
    "\n",
    "            outputs = model(images)\n",
    "            predictions = torch.argmax(outputs, dim=1)\n",
    "            correct += (predictions == labels).sum().item()\n",
    "            total += labels.size(0)\n",
    "\n",
    "    accuracy = correct / total\n",
    "    print(f\"Epoch: [{epoch+1}/{epochs}], Accuracy: {accuracy:.4f}\")\n",
    "\n",
    "print(\"--- %s seconds ---\" % (time.time() - start_time))"
   ]
  },
  {
   "cell_type": "markdown",
   "id": "7d32917e",
   "metadata": {},
   "source": [
    "# Reweight Model Training"
   ]
  },
  {
   "cell_type": "code",
   "execution_count": 6,
   "id": "57482d0e",
   "metadata": {},
   "outputs": [
    {
     "name": "stdout",
     "output_type": "stream",
     "text": [
      "Files already downloaded and verified\n",
      "Files already downloaded and verified\n"
     ]
    }
   ],
   "source": [
    "# Load CIFAR10 datasets\n",
    "train_dataset = datasets.CIFAR10(root=\"./data\", train=True, download=True, transform=transform_train)\n",
    "test_dataset = datasets.CIFAR10(root=\"./data\", train=False, download=True, transform=transform_test)\n",
    "\n",
    "split_ratio = 0.95 # 80% for test, 20% for validation\n",
    "n_samples = len(test_dataset)\n",
    "n_test = int(n_samples * split_ratio)\n",
    "n_val = n_samples - n_test\n",
    "test_dataset, val_dataset = random_split(test_dataset, [n_test, n_val])\n",
    "\n",
    "\n",
    "# Create dataloaders\n",
    "train_dataloader = DataLoader(train_dataset, batch_size=64, shuffle=True, num_workers=2)\n",
    "test_dataloader = DataLoader(test_dataset, batch_size=64, shuffle=False, num_workers=2)\n",
    "val_dataloader = DataLoader(val_dataset, batch_size=64, shuffle=False, num_workers=2)"
   ]
  },
  {
   "cell_type": "markdown",
   "id": "d43b2442",
   "metadata": {},
   "source": [
    "### Random Sampler for Sampling Validation Data"
   ]
  },
  {
   "cell_type": "code",
   "execution_count": 23,
   "id": "dba4ae6e",
   "metadata": {},
   "outputs": [
    {
     "ename": "NameError",
     "evalue": "name 'val_dataset' is not defined",
     "output_type": "error",
     "traceback": [
      "\u001b[0;31m---------------------------------------------------------------------------\u001b[0m",
      "\u001b[0;31mNameError\u001b[0m                                 Traceback (most recent call last)",
      "Cell \u001b[0;32mIn[23], line 13\u001b[0m\n\u001b[1;32m     10\u001b[0m     \u001b[38;5;28;01mdef\u001b[39;00m \u001b[38;5;21m__len__\u001b[39m(\u001b[38;5;28mself\u001b[39m):\n\u001b[1;32m     11\u001b[0m         \u001b[38;5;28;01mreturn\u001b[39;00m \u001b[38;5;28mself\u001b[39m\u001b[38;5;241m.\u001b[39msubset_size\n\u001b[0;32m---> 13\u001b[0m subset_sampler \u001b[38;5;241m=\u001b[39m RandomSubsetSampler(\u001b[43mval_dataset\u001b[49m, \u001b[38;5;241m64\u001b[39m)\n\u001b[1;32m     14\u001b[0m subset_dataloader \u001b[38;5;241m=\u001b[39m DataLoader(val_dataset, sampler\u001b[38;5;241m=\u001b[39msubset_sampler)\n",
      "\u001b[0;31mNameError\u001b[0m: name 'val_dataset' is not defined"
     ]
    }
   ],
   "source": [
    "class RandomSubsetSampler(torch.utils.data.Sampler):\n",
    "    def __init__(self, dataset, subset_size):\n",
    "        self.dataset = dataset\n",
    "        self.subset_size = subset_size\n",
    "\n",
    "    def __iter__(self):\n",
    "        indices = random.sample(range(len(self.dataset)), self.subset_size)\n",
    "        return iter(indices)\n",
    "\n",
    "    def __len__(self):\n",
    "        return self.subset_size\n",
    "\n",
    "subset_sampler = RandomSubsetSampler(val_dataset, 64)\n",
    "subset_dataloader = DataLoader(val_dataset, sampler=subset_sampler)"
   ]
  },
  {
   "cell_type": "markdown",
   "id": "06798432",
   "metadata": {},
   "source": [
    "### Meta Baseline Trainloop"
   ]
  },
  {
   "cell_type": "code",
   "execution_count": 39,
   "id": "541021a9",
   "metadata": {},
   "outputs": [
    {
     "name": "stderr",
     "output_type": "stream",
     "text": [
      "100%|██████████| 782/782 [00:38<00:00, 20.54it/s]\n",
      "100%|██████████| 149/149 [00:12<00:00, 11.65it/s] \n",
      "  5%|▌         | 1/20 [00:50<16:06, 50.86s/it]"
     ]
    },
    {
     "name": "stdout",
     "output_type": "stream",
     "text": [
      "Epoch: [1/20], Accuracy: 0.3925\n"
     ]
    },
    {
     "name": "stderr",
     "output_type": "stream",
     "text": [
      "100%|██████████| 782/782 [00:37<00:00, 20.92it/s]\n",
      "100%|██████████| 149/149 [00:12<00:00, 11.79it/s] \n",
      " 10%|█         | 2/20 [01:40<15:06, 50.37s/it]"
     ]
    },
    {
     "name": "stdout",
     "output_type": "stream",
     "text": [
      "Epoch: [2/20], Accuracy: 0.4705\n"
     ]
    },
    {
     "name": "stderr",
     "output_type": "stream",
     "text": [
      "100%|██████████| 782/782 [00:37<00:00, 20.74it/s]\n",
      "100%|██████████| 149/149 [00:12<00:00, 11.61it/s] \n",
      " 15%|█▌        | 3/20 [02:31<14:17, 50.45s/it]"
     ]
    },
    {
     "name": "stdout",
     "output_type": "stream",
     "text": [
      "Epoch: [3/20], Accuracy: 0.4973\n"
     ]
    },
    {
     "name": "stderr",
     "output_type": "stream",
     "text": [
      "100%|██████████| 782/782 [00:38<00:00, 20.46it/s]\n",
      "100%|██████████| 149/149 [00:12<00:00, 11.67it/s] \n",
      " 20%|██        | 4/20 [03:22<13:30, 50.67s/it]"
     ]
    },
    {
     "name": "stdout",
     "output_type": "stream",
     "text": [
      "Epoch: [4/20], Accuracy: 0.5048\n"
     ]
    },
    {
     "name": "stderr",
     "output_type": "stream",
     "text": [
      "100%|██████████| 782/782 [00:38<00:00, 20.40it/s]\n",
      "100%|██████████| 149/149 [00:12<00:00, 11.72it/s] \n",
      " 25%|██▌       | 5/20 [04:13<12:42, 50.80s/it]"
     ]
    },
    {
     "name": "stdout",
     "output_type": "stream",
     "text": [
      "Epoch: [5/20], Accuracy: 0.5098\n"
     ]
    },
    {
     "name": "stderr",
     "output_type": "stream",
     "text": [
      "100%|██████████| 782/782 [00:37<00:00, 20.67it/s]\n",
      "100%|██████████| 149/149 [00:12<00:00, 11.74it/s] \n",
      " 30%|███       | 6/20 [05:04<11:49, 50.71s/it]"
     ]
    },
    {
     "name": "stdout",
     "output_type": "stream",
     "text": [
      "Epoch: [6/20], Accuracy: 0.5087\n"
     ]
    },
    {
     "name": "stderr",
     "output_type": "stream",
     "text": [
      "100%|██████████| 782/782 [00:37<00:00, 20.87it/s]\n",
      "100%|██████████| 149/149 [00:12<00:00, 11.64it/s] \n",
      " 35%|███▌      | 7/20 [05:54<10:57, 50.57s/it]"
     ]
    },
    {
     "name": "stdout",
     "output_type": "stream",
     "text": [
      "Epoch: [7/20], Accuracy: 0.5324\n"
     ]
    },
    {
     "name": "stderr",
     "output_type": "stream",
     "text": [
      "100%|██████████| 782/782 [00:37<00:00, 20.86it/s]\n",
      "100%|██████████| 149/149 [01:07<00:00,  2.20it/s] \n",
      " 40%|████      | 8/20 [07:39<13:35, 67.97s/it]"
     ]
    },
    {
     "name": "stdout",
     "output_type": "stream",
     "text": [
      "Epoch: [8/20], Accuracy: 0.5362\n"
     ]
    },
    {
     "name": "stderr",
     "output_type": "stream",
     "text": [
      "100%|██████████| 782/782 [00:38<00:00, 20.45it/s]\n",
      "100%|██████████| 149/149 [00:12<00:00, 11.63it/s]\n",
      " 45%|████▌     | 9/20 [08:30<11:29, 62.69s/it]"
     ]
    },
    {
     "name": "stdout",
     "output_type": "stream",
     "text": [
      "Epoch: [9/20], Accuracy: 0.5518\n"
     ]
    },
    {
     "name": "stderr",
     "output_type": "stream",
     "text": [
      "100%|██████████| 782/782 [00:37<00:00, 20.60it/s]\n",
      "100%|██████████| 149/149 [00:12<00:00, 11.52it/s]\n",
      " 50%|█████     | 10/20 [09:21<09:50, 59.05s/it]"
     ]
    },
    {
     "name": "stdout",
     "output_type": "stream",
     "text": [
      "Epoch: [10/20], Accuracy: 0.5537\n"
     ]
    },
    {
     "name": "stderr",
     "output_type": "stream",
     "text": [
      "100%|██████████| 782/782 [00:38<00:00, 20.37it/s]\n",
      "100%|██████████| 149/149 [00:12<00:00, 11.64it/s] \n",
      " 55%|█████▌    | 11/20 [10:12<08:29, 56.64s/it]"
     ]
    },
    {
     "name": "stdout",
     "output_type": "stream",
     "text": [
      "Epoch: [11/20], Accuracy: 0.5647\n"
     ]
    },
    {
     "name": "stderr",
     "output_type": "stream",
     "text": [
      "100%|██████████| 782/782 [00:38<00:00, 20.19it/s]\n",
      "100%|██████████| 149/149 [00:12<00:00, 11.50it/s]\n",
      " 60%|██████    | 12/20 [11:04<07:21, 55.14s/it]"
     ]
    },
    {
     "name": "stdout",
     "output_type": "stream",
     "text": [
      "Epoch: [12/20], Accuracy: 0.5621\n"
     ]
    },
    {
     "name": "stderr",
     "output_type": "stream",
     "text": [
      "100%|██████████| 782/782 [00:38<00:00, 20.35it/s]\n",
      "100%|██████████| 149/149 [00:12<00:00, 11.64it/s] \n",
      " 65%|██████▌   | 13/20 [11:55<06:17, 53.96s/it]"
     ]
    },
    {
     "name": "stdout",
     "output_type": "stream",
     "text": [
      "Epoch: [13/20], Accuracy: 0.5765\n"
     ]
    },
    {
     "name": "stderr",
     "output_type": "stream",
     "text": [
      "100%|██████████| 782/782 [00:38<00:00, 20.47it/s]\n",
      "100%|██████████| 149/149 [00:12<00:00, 11.53it/s]\n",
      " 70%|███████   | 14/20 [12:46<05:18, 53.10s/it]"
     ]
    },
    {
     "name": "stdout",
     "output_type": "stream",
     "text": [
      "Epoch: [14/20], Accuracy: 0.5733\n"
     ]
    },
    {
     "name": "stderr",
     "output_type": "stream",
     "text": [
      "100%|██████████| 782/782 [00:38<00:00, 20.42it/s]\n",
      "100%|██████████| 149/149 [00:12<00:00, 11.64it/s] \n",
      " 75%|███████▌  | 15/20 [13:37<04:22, 52.50s/it]"
     ]
    },
    {
     "name": "stdout",
     "output_type": "stream",
     "text": [
      "Epoch: [15/20], Accuracy: 0.5783\n"
     ]
    },
    {
     "name": "stderr",
     "output_type": "stream",
     "text": [
      "100%|██████████| 782/782 [00:38<00:00, 20.25it/s]\n",
      "100%|██████████| 149/149 [00:13<00:00, 11.30it/s]\n",
      " 80%|████████  | 16/20 [14:29<03:29, 52.29s/it]"
     ]
    },
    {
     "name": "stdout",
     "output_type": "stream",
     "text": [
      "Epoch: [16/20], Accuracy: 0.5848\n"
     ]
    },
    {
     "name": "stderr",
     "output_type": "stream",
     "text": [
      "100%|██████████| 782/782 [00:38<00:00, 20.25it/s]\n",
      "100%|██████████| 149/149 [00:12<00:00, 11.51it/s]\n",
      " 85%|████████▌ | 17/20 [15:21<02:36, 52.07s/it]"
     ]
    },
    {
     "name": "stdout",
     "output_type": "stream",
     "text": [
      "Epoch: [17/20], Accuracy: 0.5947\n"
     ]
    },
    {
     "name": "stderr",
     "output_type": "stream",
     "text": [
      "100%|██████████| 782/782 [00:38<00:00, 20.36it/s]\n",
      "100%|██████████| 149/149 [00:12<00:00, 11.62it/s] \n",
      " 90%|█████████ | 18/20 [16:12<01:43, 51.82s/it]"
     ]
    },
    {
     "name": "stdout",
     "output_type": "stream",
     "text": [
      "Epoch: [18/20], Accuracy: 0.5984\n"
     ]
    },
    {
     "name": "stderr",
     "output_type": "stream",
     "text": [
      "100%|██████████| 782/782 [00:37<00:00, 20.98it/s]\n",
      "100%|██████████| 149/149 [00:12<00:00, 11.61it/s] \n",
      " 95%|█████████▌| 19/20 [17:02<00:51, 51.32s/it]"
     ]
    },
    {
     "name": "stdout",
     "output_type": "stream",
     "text": [
      "Epoch: [19/20], Accuracy: 0.5919\n"
     ]
    },
    {
     "name": "stderr",
     "output_type": "stream",
     "text": [
      "100%|██████████| 782/782 [00:37<00:00, 21.02it/s]\n",
      "100%|██████████| 149/149 [00:12<00:00, 11.77it/s] \n",
      "100%|██████████| 20/20 [17:52<00:00, 53.62s/it]"
     ]
    },
    {
     "name": "stdout",
     "output_type": "stream",
     "text": [
      "Epoch: [20/20], Accuracy: 0.6049\n",
      "--- 1072.4640719890594 seconds ---\n"
     ]
    },
    {
     "name": "stderr",
     "output_type": "stream",
     "text": [
      "\n"
     ]
    }
   ],
   "source": [
    "# Define the Model\n",
    "# model = get_cifar10_model()\n",
    "model = LeNet()\n",
    "model = model.to(device)\n",
    "\n",
    "# Define optimizer and loss function\n",
    "optimizer = torch.optim.Adam(model.parameters())\n",
    "loss_fn = nn.CrossEntropyLoss()\n",
    "loss_fn_meta = nn.CrossEntropyLoss(reduction='none')\n",
    "\n",
    "# Train the model\n",
    "epochs = 20\n",
    "lr = 0.001\n",
    "model.train()\n",
    "start_time = time.time()\n",
    "for epoch in tqdm(range(epochs)):\n",
    "    # Train loop\n",
    "    for images, labels in tqdm(train_dataloader):\n",
    "        \n",
    "        images = images.to(device)\n",
    "        labels = labels.to(device)\n",
    "\n",
    "        # meta_net = get_cifar10_model()\n",
    "        meta_net = LeNet()\n",
    "        meta_net.load_state_dict(model.state_dict())\n",
    "\n",
    "        meta_net = meta_net.to(device)\n",
    "\n",
    "        optimizer_meta = torch.optim.Adam(meta_net.parameters())\n",
    "\n",
    "        meta_net.train()\n",
    "        \n",
    "        y_f_hat = meta_net(images)\n",
    "        cost = loss_fn_meta(y_f_hat, labels)\n",
    "        eps = torch.zeros(cost.size(), requires_grad=True).to(device)\n",
    "        l_f_meta = torch.sum(cost*eps)\n",
    "\n",
    "        # meta_net.zero_grad()\n",
    "        optimizer_meta.zero_grad()\n",
    "        eps.retain_grad()\n",
    "        l_f_meta.backward()\n",
    "        optimizer_meta.step()\n",
    "\n",
    "        meta_net.eval()\n",
    "\n",
    "        # grads = torch.autograd.grad(l_f_meta, (meta_net.parameters()), create_graph=True)\n",
    "        # meta_net.update_params(lr, source_params=grads)\n",
    "        \n",
    "        val_images, val_labels = next(iter(subset_dataloader))\n",
    "        # val_images, val_labels = next(iter(val_dataloader))\n",
    "        val_images = val_images.to(device)\n",
    "        val_labels = val_labels.to(device)\n",
    "\n",
    "        y_g_hat = meta_net(val_images)\n",
    "        l_g_meta = loss_fn(y_g_hat, val_labels)\n",
    "\n",
    "        # grad_eps = torch.autograd.grad(l_g_meta, eps, only_inputs=True)[0]\n",
    "        # grad_eps = torch.autograd.grad(l_g_meta, eps, only_inputs=True, allow_unused=True)[0]\n",
    "        # print(grad_eps)\n",
    "\n",
    "        with torch.no_grad():\n",
    "            optimizer_meta.zero_grad()\n",
    "            l_g_meta.backward()\n",
    "            grad_eps = eps.grad\n",
    "        \n",
    "        # print(grad_eps)\n",
    "        w_tilde = torch.clamp(grad_eps,min=0)\n",
    "        # w_tilde = torch.clamp(-grad_eps,min=0)\n",
    "        norm_c = torch.sum(w_tilde)\n",
    "\n",
    "        if norm_c != 0:\n",
    "            w = w_tilde / norm_c\n",
    "        else:\n",
    "            w = w_tilde\n",
    "        \n",
    "        # print(w)\n",
    "        # break\n",
    "        # Forward Pass\n",
    "        outputs = model(images)\n",
    "        loss = loss_fn_meta(outputs, labels)\n",
    "        loss = torch.sum(loss*w)\n",
    "        \n",
    "        # Backward pass and update weights\n",
    "        optimizer.zero_grad()\n",
    "        loss.backward()\n",
    "        optimizer.step()\n",
    "\n",
    "    # Evaluate on test set\n",
    "    correct = 0\n",
    "    total = 0\n",
    "    with torch.no_grad():\n",
    "        for images, labels in tqdm(test_dataloader):\n",
    "            images = images.to(device)\n",
    "            labels = labels.to(device)\n",
    "            outputs = model(images)\n",
    "            predictions = torch.argmax(outputs, dim=1)\n",
    "            correct += (predictions == labels).sum().item()\n",
    "            total += labels.size(0)\n",
    "\n",
    "    accuracy = correct / total\n",
    "    print(f\"Epoch: [{epoch+1}/{epochs}], Accuracy: {accuracy:.4f}\")\n",
    "\n",
    "print(\"--- %s seconds ---\" % (time.time() - start_time))"
   ]
  },
  {
   "cell_type": "markdown",
   "id": "49cd3ecc",
   "metadata": {},
   "source": [
    "# Milo Setup"
   ]
  },
  {
   "cell_type": "markdown",
   "id": "acc91f2e",
   "metadata": {},
   "source": [
    "### Load Data"
   ]
  },
  {
   "cell_type": "code",
   "execution_count": 17,
   "id": "2c56cb8a",
   "metadata": {},
   "outputs": [],
   "source": [
    "num_classes = 10\n",
    "class_data = []\n",
    "for i in range(num_classes):\n",
    "    with open(f\"milo-base/class-data/class_{i}.pkl\", \"rb\") as f:\n",
    "        S = pickle.load(f)\n",
    "        class_data.append(S)"
   ]
  },
  {
   "cell_type": "code",
   "execution_count": 16,
   "id": "489f5f7e",
   "metadata": {},
   "outputs": [],
   "source": [
    "num_sets = len(class_data[0])\n",
    "data = []\n",
    "for i in range(num_sets):\n",
    "    S = []\n",
    "    for j in range(num_classes):\n",
    "        S.extend(class_data[j][i])\n",
    "    data.append(S)"
   ]
  },
  {
   "cell_type": "markdown",
   "id": "437bd49c",
   "metadata": {},
   "source": [
    "### Define Dataloader"
   ]
  },
  {
   "cell_type": "code",
   "execution_count": 15,
   "id": "22252b55",
   "metadata": {},
   "outputs": [],
   "source": [
    "class SubDataset(Dataset):\n",
    "    def __init__(self, indices, dataset):\n",
    "        self.indices = indices\n",
    "        self.dataset = dataset\n",
    "\n",
    "    def __len__(self):\n",
    "        return len(self.indices)\n",
    "\n",
    "    def __getitem__(self, idx):\n",
    "        index = self.indices[idx]\n",
    "        data_point = self.dataset[index]\n",
    "        return data_point"
   ]
  },
  {
   "cell_type": "markdown",
   "id": "a3198ce4",
   "metadata": {},
   "source": [
    "## Milo Training Loop"
   ]
  },
  {
   "cell_type": "code",
   "execution_count": 21,
   "id": "8a3717bd",
   "metadata": {},
   "outputs": [
    {
     "name": "stderr",
     "output_type": "stream",
     "text": [
      "100%|██████████| 79/79 [00:00<00:00, 82.93it/s]\n",
      "100%|██████████| 157/157 [00:13<00:00, 12.06it/s] \n",
      "  5%|▌         | 1/20 [00:13<04:25, 13.98s/it]"
     ]
    },
    {
     "name": "stdout",
     "output_type": "stream",
     "text": [
      "Epoch: [1/20], Accuracy: 0.2393\n"
     ]
    },
    {
     "name": "stderr",
     "output_type": "stream",
     "text": [
      "100%|██████████| 79/79 [00:00<00:00, 87.33it/s]\n",
      "100%|██████████| 157/157 [00:12<00:00, 12.45it/s] \n",
      " 10%|█         | 2/20 [00:27<04:06, 13.71s/it]"
     ]
    },
    {
     "name": "stdout",
     "output_type": "stream",
     "text": [
      "Epoch: [2/20], Accuracy: 0.2537\n"
     ]
    },
    {
     "name": "stderr",
     "output_type": "stream",
     "text": [
      "100%|██████████| 79/79 [00:00<00:00, 87.85it/s]\n",
      "100%|██████████| 157/157 [00:12<00:00, 12.42it/s] \n",
      " 15%|█▌        | 3/20 [00:41<03:51, 13.63s/it]"
     ]
    },
    {
     "name": "stdout",
     "output_type": "stream",
     "text": [
      "Epoch: [3/20], Accuracy: 0.2867\n"
     ]
    },
    {
     "name": "stderr",
     "output_type": "stream",
     "text": [
      "100%|██████████| 79/79 [00:00<00:00, 84.29it/s]\n",
      "100%|██████████| 157/157 [00:12<00:00, 12.15it/s]\n",
      " 20%|██        | 4/20 [00:54<03:39, 13.72s/it]"
     ]
    },
    {
     "name": "stdout",
     "output_type": "stream",
     "text": [
      "Epoch: [4/20], Accuracy: 0.2939\n"
     ]
    },
    {
     "name": "stderr",
     "output_type": "stream",
     "text": [
      "100%|██████████| 79/79 [00:00<00:00, 86.68it/s]\n",
      "100%|██████████| 157/157 [00:12<00:00, 12.33it/s] \n",
      " 25%|██▌       | 5/20 [01:08<03:25, 13.70s/it]"
     ]
    },
    {
     "name": "stdout",
     "output_type": "stream",
     "text": [
      "Epoch: [5/20], Accuracy: 0.3160\n"
     ]
    },
    {
     "name": "stderr",
     "output_type": "stream",
     "text": [
      "100%|██████████| 79/79 [00:00<00:00, 84.82it/s]\n",
      "100%|██████████| 157/157 [00:12<00:00, 12.35it/s] \n",
      " 30%|███       | 6/20 [01:22<03:11, 13.68s/it]"
     ]
    },
    {
     "name": "stdout",
     "output_type": "stream",
     "text": [
      "Epoch: [6/20], Accuracy: 0.3397\n"
     ]
    },
    {
     "name": "stderr",
     "output_type": "stream",
     "text": [
      "100%|██████████| 79/79 [00:00<00:00, 80.12it/s]\n",
      "100%|██████████| 157/157 [00:13<00:00, 12.01it/s] \n",
      " 35%|███▌      | 7/20 [01:36<02:59, 13.80s/it]"
     ]
    },
    {
     "name": "stdout",
     "output_type": "stream",
     "text": [
      "Epoch: [7/20], Accuracy: 0.3366\n"
     ]
    },
    {
     "name": "stderr",
     "output_type": "stream",
     "text": [
      "100%|██████████| 79/79 [00:00<00:00, 80.35it/s]\n",
      "100%|██████████| 157/157 [00:12<00:00, 12.11it/s] \n",
      " 40%|████      | 8/20 [01:50<02:46, 13.85s/it]"
     ]
    },
    {
     "name": "stdout",
     "output_type": "stream",
     "text": [
      "Epoch: [8/20], Accuracy: 0.3557\n"
     ]
    },
    {
     "name": "stderr",
     "output_type": "stream",
     "text": [
      "100%|██████████| 79/79 [00:00<00:00, 87.21it/s]\n",
      "100%|██████████| 157/157 [00:12<00:00, 12.42it/s] \n",
      " 45%|████▌     | 9/20 [02:03<02:31, 13.76s/it]"
     ]
    },
    {
     "name": "stdout",
     "output_type": "stream",
     "text": [
      "Epoch: [9/20], Accuracy: 0.3709\n"
     ]
    },
    {
     "name": "stderr",
     "output_type": "stream",
     "text": [
      "100%|██████████| 79/79 [00:00<00:00, 88.80it/s]\n",
      "100%|██████████| 157/157 [00:12<00:00, 12.45it/s] \n",
      " 50%|█████     | 10/20 [02:17<02:16, 13.68s/it]"
     ]
    },
    {
     "name": "stdout",
     "output_type": "stream",
     "text": [
      "Epoch: [10/20], Accuracy: 0.3620\n"
     ]
    },
    {
     "name": "stderr",
     "output_type": "stream",
     "text": [
      "100%|██████████| 79/79 [00:00<00:00, 88.00it/s]\n",
      "100%|██████████| 157/157 [00:12<00:00, 12.43it/s] \n",
      " 55%|█████▌    | 11/20 [02:30<02:02, 13.64s/it]"
     ]
    },
    {
     "name": "stdout",
     "output_type": "stream",
     "text": [
      "Epoch: [11/20], Accuracy: 0.3781\n"
     ]
    },
    {
     "name": "stderr",
     "output_type": "stream",
     "text": [
      "100%|██████████| 79/79 [00:00<00:00, 84.63it/s]\n",
      "100%|██████████| 157/157 [00:12<00:00, 12.15it/s] \n",
      " 60%|██████    | 12/20 [02:44<01:49, 13.70s/it]"
     ]
    },
    {
     "name": "stdout",
     "output_type": "stream",
     "text": [
      "Epoch: [12/20], Accuracy: 0.3872\n"
     ]
    },
    {
     "name": "stderr",
     "output_type": "stream",
     "text": [
      "100%|██████████| 79/79 [00:00<00:00, 83.30it/s]\n",
      "100%|██████████| 157/157 [00:12<00:00, 12.22it/s] \n",
      " 65%|██████▌   | 13/20 [02:58<01:36, 13.73s/it]"
     ]
    },
    {
     "name": "stdout",
     "output_type": "stream",
     "text": [
      "Epoch: [13/20], Accuracy: 0.3881\n"
     ]
    },
    {
     "name": "stderr",
     "output_type": "stream",
     "text": [
      "100%|██████████| 79/79 [00:01<00:00, 78.85it/s]\n",
      "100%|██████████| 157/157 [00:12<00:00, 12.36it/s]\n",
      " 70%|███████   | 14/20 [03:12<01:22, 13.73s/it]"
     ]
    },
    {
     "name": "stdout",
     "output_type": "stream",
     "text": [
      "Epoch: [14/20], Accuracy: 0.3881\n"
     ]
    },
    {
     "name": "stderr",
     "output_type": "stream",
     "text": [
      "100%|██████████| 79/79 [00:01<00:00, 78.81it/s]\n",
      "100%|██████████| 157/157 [00:12<00:00, 12.36it/s]\n",
      " 75%|███████▌  | 15/20 [03:25<01:08, 13.72s/it]"
     ]
    },
    {
     "name": "stdout",
     "output_type": "stream",
     "text": [
      "Epoch: [15/20], Accuracy: 0.3705\n"
     ]
    },
    {
     "name": "stderr",
     "output_type": "stream",
     "text": [
      "100%|██████████| 79/79 [00:00<00:00, 80.62it/s]\n",
      "100%|██████████| 157/157 [00:12<00:00, 12.37it/s] \n",
      " 80%|████████  | 16/20 [03:39<00:54, 13.71s/it]"
     ]
    },
    {
     "name": "stdout",
     "output_type": "stream",
     "text": [
      "Epoch: [16/20], Accuracy: 0.3971\n"
     ]
    },
    {
     "name": "stderr",
     "output_type": "stream",
     "text": [
      "100%|██████████| 79/79 [00:00<00:00, 81.52it/s]\n",
      "100%|██████████| 157/157 [00:12<00:00, 12.23it/s] \n",
      " 85%|████████▌ | 17/20 [03:53<00:41, 13.74s/it]"
     ]
    },
    {
     "name": "stdout",
     "output_type": "stream",
     "text": [
      "Epoch: [17/20], Accuracy: 0.3985\n"
     ]
    },
    {
     "name": "stderr",
     "output_type": "stream",
     "text": [
      "100%|██████████| 79/79 [00:00<00:00, 86.42it/s]\n",
      "100%|██████████| 157/157 [00:12<00:00, 12.45it/s]\n",
      " 90%|█████████ | 18/20 [04:06<00:27, 13.68s/it]"
     ]
    },
    {
     "name": "stdout",
     "output_type": "stream",
     "text": [
      "Epoch: [18/20], Accuracy: 0.4113\n"
     ]
    },
    {
     "name": "stderr",
     "output_type": "stream",
     "text": [
      "100%|██████████| 79/79 [00:00<00:00, 80.38it/s]\n",
      "100%|██████████| 157/157 [00:12<00:00, 12.38it/s]\n",
      " 95%|█████████▌| 19/20 [04:20<00:13, 13.68s/it]"
     ]
    },
    {
     "name": "stdout",
     "output_type": "stream",
     "text": [
      "Epoch: [19/20], Accuracy: 0.4032\n"
     ]
    },
    {
     "name": "stderr",
     "output_type": "stream",
     "text": [
      "100%|██████████| 79/79 [00:00<00:00, 88.00it/s]\n",
      "100%|██████████| 157/157 [00:12<00:00, 12.40it/s]\n",
      "100%|██████████| 20/20 [04:34<00:00, 13.71s/it]"
     ]
    },
    {
     "name": "stdout",
     "output_type": "stream",
     "text": [
      "Epoch: [20/20], Accuracy: 0.4157\n",
      "--- 274.18256092071533 seconds ---\n"
     ]
    },
    {
     "name": "stderr",
     "output_type": "stream",
     "text": [
      "\n"
     ]
    }
   ],
   "source": [
    "# Define Model\n",
    "model = LeNet()\n",
    "model = model.to(device)\n",
    "\n",
    "# Define optimizer and loss function\n",
    "optimizer = torch.optim.Adam(model.parameters())\n",
    "loss_fn = nn.CrossEntropyLoss()\n",
    "\n",
    "# Train the model\n",
    "epochs = 20\n",
    "model.train()\n",
    "start_time = time.time()\n",
    "for epoch in tqdm(range(epochs)):\n",
    "    # Train loop\n",
    "\n",
    "    sub_dataset = SubDataset(indices=data[epoch], dataset=train_dataset)\n",
    "    subset_train_dataloader = DataLoader(sub_dataset, batch_size=64, shuffle=True)\n",
    "    \n",
    "    for images, labels in tqdm(subset_train_dataloader):\n",
    "\n",
    "        images = images.to(device)\n",
    "        labels = labels.to(device)\n",
    "\n",
    "        # Forward pass\n",
    "        outputs = model(images)\n",
    "        loss = loss_fn(outputs, labels)\n",
    "        \n",
    "        # Backward pass and update weights\n",
    "        optimizer.zero_grad()\n",
    "        loss.backward()\n",
    "        optimizer.step()\n",
    "\n",
    "    # Evaluate on test set\n",
    "    correct = 0\n",
    "    total = 0\n",
    "    with torch.no_grad():\n",
    "        for images, labels in tqdm(test_dataloader):\n",
    "            images = images.to(device)\n",
    "            labels = labels.to(device)\n",
    "\n",
    "            outputs = model(images)\n",
    "            predictions = torch.argmax(outputs, dim=1)\n",
    "            correct += (predictions == labels).sum().item()\n",
    "            total += labels.size(0)\n",
    "\n",
    "    accuracy = correct / total\n",
    "    print(f\"Epoch: [{epoch+1}/{epochs}], Accuracy: {accuracy:.4f}\")\n",
    "\n",
    "print(\"--- %s seconds ---\" % (time.time() - start_time))"
   ]
  },
  {
   "cell_type": "code",
   "execution_count": 25,
   "id": "73b0531b",
   "metadata": {},
   "outputs": [
    {
     "name": "stdout",
     "output_type": "stream",
     "text": [
      "Files already downloaded and verified\n",
      "Files already downloaded and verified\n"
     ]
    }
   ],
   "source": [
    "# Load CIFAR10 datasets\n",
    "train_dataset = datasets.CIFAR10(root=\"./data\", train=True, download=True, transform=transform_train)\n",
    "test_dataset = datasets.CIFAR10(root=\"./data\", train=False, download=True, transform=transform_test)\n",
    "\n",
    "split_ratio = 0.95 # 80% for test, 20% for validation\n",
    "n_samples = len(test_dataset)\n",
    "n_test = int(n_samples * split_ratio)\n",
    "n_val = n_samples - n_test\n",
    "test_dataset, val_dataset = random_split(test_dataset, [n_test, n_val])\n",
    "\n",
    "\n",
    "# Create dataloaders\n",
    "train_dataloader = DataLoader(train_dataset, batch_size=64, shuffle=True)\n",
    "test_dataloader = DataLoader(test_dataset, batch_size=64, shuffle=False)\n",
    "val_dataloader = DataLoader(val_dataset, batch_size=64, shuffle=False)"
   ]
  },
  {
   "cell_type": "code",
   "execution_count": 26,
   "id": "95851238",
   "metadata": {},
   "outputs": [],
   "source": [
    "subset_sampler = RandomSubsetSampler(val_dataset, 64)\n",
    "subset_dataloader = DataLoader(val_dataset, sampler=subset_sampler)"
   ]
  },
  {
   "cell_type": "markdown",
   "id": "9146446a",
   "metadata": {},
   "source": [
    "### Meta-Milo Training loop"
   ]
  },
  {
   "cell_type": "code",
   "execution_count": 27,
   "id": "532c9fa2",
   "metadata": {},
   "outputs": [
    {
     "name": "stderr",
     "output_type": "stream",
     "text": [
      "100%|██████████| 79/79 [00:03<00:00, 19.99it/s]\n",
      "100%|██████████| 149/149 [00:00<00:00, 159.63it/s]\n",
      "  5%|▌         | 1/20 [00:04<01:32,  4.89s/it]"
     ]
    },
    {
     "name": "stdout",
     "output_type": "stream",
     "text": [
      "Epoch: [1/20], Accuracy: 0.2315\n"
     ]
    },
    {
     "name": "stderr",
     "output_type": "stream",
     "text": [
      "100%|██████████| 79/79 [00:02<00:00, 36.78it/s]\n",
      "100%|██████████| 149/149 [00:00<00:00, 163.74it/s]\n",
      " 10%|█         | 2/20 [00:07<01:08,  3.81s/it]"
     ]
    },
    {
     "name": "stdout",
     "output_type": "stream",
     "text": [
      "Epoch: [2/20], Accuracy: 0.2860\n"
     ]
    },
    {
     "name": "stderr",
     "output_type": "stream",
     "text": [
      "100%|██████████| 79/79 [00:02<00:00, 37.44it/s]\n",
      "100%|██████████| 149/149 [00:00<00:00, 163.85it/s]\n",
      " 15%|█▌        | 3/20 [00:10<00:58,  3.45s/it]"
     ]
    },
    {
     "name": "stdout",
     "output_type": "stream",
     "text": [
      "Epoch: [3/20], Accuracy: 0.3108\n"
     ]
    },
    {
     "name": "stderr",
     "output_type": "stream",
     "text": [
      "100%|██████████| 79/79 [00:02<00:00, 37.50it/s]\n",
      "100%|██████████| 149/149 [00:00<00:00, 164.38it/s]\n",
      " 20%|██        | 4/20 [00:13<00:52,  3.28s/it]"
     ]
    },
    {
     "name": "stdout",
     "output_type": "stream",
     "text": [
      "Epoch: [4/20], Accuracy: 0.3161\n"
     ]
    },
    {
     "name": "stderr",
     "output_type": "stream",
     "text": [
      "100%|██████████| 79/79 [00:02<00:00, 36.86it/s]\n",
      "100%|██████████| 149/149 [00:00<00:00, 163.74it/s]\n",
      " 25%|██▌       | 5/20 [00:17<00:47,  3.20s/it]"
     ]
    },
    {
     "name": "stdout",
     "output_type": "stream",
     "text": [
      "Epoch: [5/20], Accuracy: 0.3356\n"
     ]
    },
    {
     "name": "stderr",
     "output_type": "stream",
     "text": [
      "100%|██████████| 79/79 [00:02<00:00, 36.86it/s]\n",
      "100%|██████████| 149/149 [00:00<00:00, 157.10it/s]\n",
      " 30%|███       | 6/20 [00:20<00:44,  3.16s/it]"
     ]
    },
    {
     "name": "stdout",
     "output_type": "stream",
     "text": [
      "Epoch: [6/20], Accuracy: 0.3442\n"
     ]
    },
    {
     "name": "stderr",
     "output_type": "stream",
     "text": [
      "100%|██████████| 79/79 [00:02<00:00, 37.46it/s]\n",
      "100%|██████████| 149/149 [00:00<00:00, 165.97it/s]\n",
      " 35%|███▌      | 7/20 [00:23<00:40,  3.11s/it]"
     ]
    },
    {
     "name": "stdout",
     "output_type": "stream",
     "text": [
      "Epoch: [7/20], Accuracy: 0.3377\n"
     ]
    },
    {
     "name": "stderr",
     "output_type": "stream",
     "text": [
      "100%|██████████| 79/79 [00:02<00:00, 37.70it/s]\n",
      "100%|██████████| 149/149 [00:00<00:00, 164.50it/s]\n",
      " 40%|████      | 8/20 [00:26<00:36,  3.08s/it]"
     ]
    },
    {
     "name": "stdout",
     "output_type": "stream",
     "text": [
      "Epoch: [8/20], Accuracy: 0.3669\n"
     ]
    },
    {
     "name": "stderr",
     "output_type": "stream",
     "text": [
      "100%|██████████| 79/79 [00:02<00:00, 36.51it/s]\n",
      "100%|██████████| 149/149 [00:00<00:00, 164.98it/s]\n",
      " 45%|████▌     | 9/20 [00:29<00:33,  3.08s/it]"
     ]
    },
    {
     "name": "stdout",
     "output_type": "stream",
     "text": [
      "Epoch: [9/20], Accuracy: 0.3692\n"
     ]
    },
    {
     "name": "stderr",
     "output_type": "stream",
     "text": [
      "100%|██████████| 79/79 [00:02<00:00, 37.62it/s]\n",
      "100%|██████████| 149/149 [00:00<00:00, 163.58it/s]\n",
      " 50%|█████     | 10/20 [00:32<00:30,  3.06s/it]"
     ]
    },
    {
     "name": "stdout",
     "output_type": "stream",
     "text": [
      "Epoch: [10/20], Accuracy: 0.3881\n"
     ]
    },
    {
     "name": "stderr",
     "output_type": "stream",
     "text": [
      "100%|██████████| 79/79 [00:02<00:00, 37.72it/s]\n",
      "100%|██████████| 149/149 [00:00<00:00, 163.88it/s]\n",
      " 55%|█████▌    | 11/20 [00:35<00:27,  3.04s/it]"
     ]
    },
    {
     "name": "stdout",
     "output_type": "stream",
     "text": [
      "Epoch: [11/20], Accuracy: 0.3820\n"
     ]
    },
    {
     "name": "stderr",
     "output_type": "stream",
     "text": [
      "100%|██████████| 79/79 [00:02<00:00, 37.05it/s]\n",
      "100%|██████████| 149/149 [00:00<00:00, 154.87it/s]\n",
      " 60%|██████    | 12/20 [00:38<00:24,  3.06s/it]"
     ]
    },
    {
     "name": "stdout",
     "output_type": "stream",
     "text": [
      "Epoch: [12/20], Accuracy: 0.4081\n"
     ]
    },
    {
     "name": "stderr",
     "output_type": "stream",
     "text": [
      "100%|██████████| 79/79 [00:02<00:00, 37.63it/s]\n",
      "100%|██████████| 149/149 [00:00<00:00, 163.85it/s]\n",
      " 65%|██████▌   | 13/20 [00:41<00:21,  3.04s/it]"
     ]
    },
    {
     "name": "stdout",
     "output_type": "stream",
     "text": [
      "Epoch: [13/20], Accuracy: 0.3860\n"
     ]
    },
    {
     "name": "stderr",
     "output_type": "stream",
     "text": [
      "100%|██████████| 79/79 [00:02<00:00, 36.98it/s]\n",
      "100%|██████████| 149/149 [00:00<00:00, 164.52it/s]\n",
      " 70%|███████   | 14/20 [00:44<00:18,  3.04s/it]"
     ]
    },
    {
     "name": "stdout",
     "output_type": "stream",
     "text": [
      "Epoch: [14/20], Accuracy: 0.4075\n"
     ]
    },
    {
     "name": "stderr",
     "output_type": "stream",
     "text": [
      "100%|██████████| 79/79 [00:02<00:00, 37.72it/s]\n",
      "100%|██████████| 149/149 [00:00<00:00, 164.81it/s]\n",
      " 75%|███████▌  | 15/20 [00:47<00:15,  3.03s/it]"
     ]
    },
    {
     "name": "stdout",
     "output_type": "stream",
     "text": [
      "Epoch: [15/20], Accuracy: 0.4094\n"
     ]
    },
    {
     "name": "stderr",
     "output_type": "stream",
     "text": [
      "100%|██████████| 79/79 [00:02<00:00, 37.98it/s]\n",
      "100%|██████████| 149/149 [00:00<00:00, 163.79it/s]\n",
      " 80%|████████  | 16/20 [00:50<00:12,  3.02s/it]"
     ]
    },
    {
     "name": "stdout",
     "output_type": "stream",
     "text": [
      "Epoch: [16/20], Accuracy: 0.4195\n"
     ]
    },
    {
     "name": "stderr",
     "output_type": "stream",
     "text": [
      "100%|██████████| 79/79 [00:02<00:00, 36.08it/s]\n",
      "100%|██████████| 149/149 [00:00<00:00, 162.64it/s]\n",
      " 85%|████████▌ | 17/20 [00:53<00:09,  3.05s/it]"
     ]
    },
    {
     "name": "stdout",
     "output_type": "stream",
     "text": [
      "Epoch: [17/20], Accuracy: 0.4220\n"
     ]
    },
    {
     "name": "stderr",
     "output_type": "stream",
     "text": [
      "100%|██████████| 79/79 [00:02<00:00, 37.38it/s]\n",
      "100%|██████████| 149/149 [00:00<00:00, 164.87it/s]\n",
      " 90%|█████████ | 18/20 [00:56<00:06,  3.04s/it]"
     ]
    },
    {
     "name": "stdout",
     "output_type": "stream",
     "text": [
      "Epoch: [18/20], Accuracy: 0.4200\n"
     ]
    },
    {
     "name": "stderr",
     "output_type": "stream",
     "text": [
      "100%|██████████| 79/79 [00:02<00:00, 37.61it/s]\n",
      "100%|██████████| 149/149 [00:00<00:00, 164.66it/s]\n",
      " 95%|█████████▌| 19/20 [00:59<00:03,  3.03s/it]"
     ]
    },
    {
     "name": "stdout",
     "output_type": "stream",
     "text": [
      "Epoch: [19/20], Accuracy: 0.4281\n"
     ]
    },
    {
     "name": "stderr",
     "output_type": "stream",
     "text": [
      "100%|██████████| 79/79 [00:02<00:00, 36.94it/s]\n",
      "100%|██████████| 149/149 [00:00<00:00, 163.73it/s]\n",
      "100%|██████████| 20/20 [01:02<00:00,  3.13s/it]"
     ]
    },
    {
     "name": "stdout",
     "output_type": "stream",
     "text": [
      "Epoch: [20/20], Accuracy: 0.4261\n",
      "--- 62.580097913742065 seconds ---\n"
     ]
    },
    {
     "name": "stderr",
     "output_type": "stream",
     "text": [
      "\n"
     ]
    }
   ],
   "source": [
    "# Define Model\n",
    "model = LeNet()\n",
    "model = model.to(device)\n",
    "\n",
    "# Define optimizer and loss function\n",
    "optimizer = torch.optim.Adam(model.parameters())\n",
    "loss_fn = nn.CrossEntropyLoss()\n",
    "loss_fn_meta = nn.CrossEntropyLoss(reduction='none')\n",
    "\n",
    "# Train the model\n",
    "epochs = 20\n",
    "lr = 0.001\n",
    "model.train()\n",
    "start_time = time.time()\n",
    "for epoch in tqdm(range(epochs)):\n",
    "    # Train loop\n",
    "    sub_dataset = SubDataset(indices=data[epoch], dataset=train_dataset)\n",
    "    # train_dataloader = DataLoader(sub_dataset, batch_size=64, shuffle=True, num_workers=2)\n",
    "    train_dataloader = DataLoader(sub_dataset, batch_size=64, shuffle=True)\n",
    "    \n",
    "    for images, labels in tqdm(train_dataloader):\n",
    "        \n",
    "        images = images.to(device)\n",
    "        labels = labels.to(device)\n",
    "\n",
    "        # meta_net = get_cifar10_model()\n",
    "        meta_net = LeNet()\n",
    "        meta_net.load_state_dict(model.state_dict())\n",
    "\n",
    "        meta_net = meta_net.to(device)\n",
    "\n",
    "        optimizer_meta = torch.optim.Adam(meta_net.parameters())\n",
    "\n",
    "        meta_net.train()\n",
    "        \n",
    "        y_f_hat = meta_net(images)\n",
    "        cost = loss_fn_meta(y_f_hat, labels)\n",
    "        eps = torch.zeros(cost.size(), requires_grad=True).to(device)\n",
    "        l_f_meta = torch.sum(cost*eps)\n",
    "\n",
    "        # meta_net.zero_grad()\n",
    "        optimizer_meta.zero_grad()\n",
    "        eps.retain_grad()\n",
    "        l_f_meta.backward()\n",
    "        optimizer_meta.step()\n",
    "\n",
    "        meta_net.eval()\n",
    "\n",
    "        # grads = torch.autograd.grad(l_f_meta, (meta_net.parameters()), create_graph=True)\n",
    "        # meta_net.update_params(lr, source_params=grads)\n",
    "        \n",
    "        val_images, val_labels = next(iter(subset_dataloader))\n",
    "        # val_images, val_labels = next(iter(val_dataloader))\n",
    "        val_images = val_images.to(device)\n",
    "        val_labels = val_labels.to(device)\n",
    "\n",
    "        y_g_hat = meta_net(val_images)\n",
    "        l_g_meta = loss_fn(y_g_hat, val_labels)\n",
    "\n",
    "        # grad_eps = torch.autograd.grad(l_g_meta, eps, only_inputs=True)[0]\n",
    "        # grad_eps = torch.autograd.grad(l_g_meta, eps, only_inputs=True, allow_unused=True)[0]\n",
    "        # print(grad_eps)\n",
    "\n",
    "        with torch.no_grad():\n",
    "            optimizer_meta.zero_grad()\n",
    "            l_g_meta.backward()\n",
    "            grad_eps = eps.grad\n",
    "        \n",
    "        # print(grad_eps)\n",
    "        w_tilde = torch.clamp(grad_eps,min=0)\n",
    "        # w_tilde = torch.clamp(-grad_eps,min=0)\n",
    "        norm_c = torch.sum(w_tilde)\n",
    "\n",
    "        if norm_c != 0:\n",
    "            w = w_tilde / norm_c\n",
    "        else:\n",
    "            w = w_tilde\n",
    "        \n",
    "        # print(w)\n",
    "        # break\n",
    "        # Forward Pass\n",
    "        outputs = model(images)\n",
    "        loss = loss_fn_meta(outputs, labels)\n",
    "        loss = torch.sum(loss*w)\n",
    "        \n",
    "        # Backward pass and update weights\n",
    "        optimizer.zero_grad()\n",
    "        loss.backward()\n",
    "        optimizer.step()\n",
    "\n",
    "    # Evaluate on test set\n",
    "    correct = 0\n",
    "    total = 0\n",
    "    with torch.no_grad():\n",
    "        for images, labels in tqdm(test_dataloader):\n",
    "            images = images.to(device)\n",
    "            labels = labels.to(device)\n",
    "            outputs = model(images)\n",
    "            predictions = torch.argmax(outputs, dim=1)\n",
    "            correct += (predictions == labels).sum().item()\n",
    "            total += labels.size(0)\n",
    "\n",
    "    accuracy = correct / total\n",
    "    print(f\"Epoch: [{epoch+1}/{epochs}], Accuracy: {accuracy:.4f}\")\n",
    "\n",
    "print(\"--- %s seconds ---\" % (time.time() - start_time))"
   ]
  }
 ],
 "metadata": {
  "kernelspec": {
   "display_name": "feature-env",
   "language": "python",
   "name": "feature-env"
  },
  "language_info": {
   "codemirror_mode": {
    "name": "ipython",
    "version": 3
   },
   "file_extension": ".py",
   "mimetype": "text/x-python",
   "name": "python",
   "nbconvert_exporter": "python",
   "pygments_lexer": "ipython3",
   "version": "3.9.18"
  }
 },
 "nbformat": 4,
 "nbformat_minor": 5
}
