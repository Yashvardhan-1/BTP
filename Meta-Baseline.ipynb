{
 "cells": [
  {
   "cell_type": "code",
   "execution_count": 41,
   "id": "77904680",
   "metadata": {},
   "outputs": [],
   "source": [
    "from torchvision.models import resnet18\n",
    "import torch\n",
    "import torch.nn as nn\n",
    "import torchvision\n",
    "import torch.optim as optim\n",
    "from tqdm import tqdm\n",
    "import torchvision.transforms as transforms\n",
    "from torchvision import datasets, transforms\n",
    "from tqdm import tqdm \n",
    "import time\n",
    "from torch.utils.data import random_split, Dataset, DataLoader\n",
    "from torchvision.models.resnet import ResNet18_Weights\n",
    "import torchviz\n",
    "import pickle\n",
    "import random"
   ]
  },
  {
   "cell_type": "code",
   "execution_count": 2,
   "id": "68173d7c",
   "metadata": {},
   "outputs": [],
   "source": [
    "device = \"mps\" if torch.backends.mps.is_available() else \"cpu\"\n",
    "device = \"cuda\" if torch.cuda.is_available() else \"cpu\""
   ]
  },
  {
   "cell_type": "markdown",
   "id": "be25f166",
   "metadata": {},
   "source": [
    "### Load Resent Model "
   ]
  },
  {
   "cell_type": "code",
   "execution_count": 3,
   "id": "867a90b2",
   "metadata": {},
   "outputs": [],
   "source": [
    "def get_cifar10_model():\n",
    "    model = torchvision.models.resnet18(weights=ResNet18_Weights.IMAGENET1K_V1)  # Use 'weights' for pretrained models\n",
    "    num_features = model.fc.in_features\n",
    "    model.fc = nn.Linear(num_features, 10)\n",
    "    return model"
   ]
  },
  {
   "cell_type": "code",
   "execution_count": 4,
   "id": "59ee8f3d",
   "metadata": {},
   "outputs": [
    {
     "name": "stdout",
     "output_type": "stream",
     "text": [
      "<class 'torchvision.models.resnet.ResNet'>\n"
     ]
    }
   ],
   "source": [
    "model = get_cifar10_model()\n",
    "print(type(model))"
   ]
  },
  {
   "cell_type": "code",
   "execution_count": 8,
   "id": "ebf2a8aa",
   "metadata": {},
   "outputs": [],
   "source": [
    "# Freeze pre-trained layers\n",
    "for param in model.parameters():\n",
    "    param.requires_grad = False\n",
    "\n",
    "# Unfreeze some layers for fine-tuning\n",
    "for param in model.layer4.parameters():\n",
    "    param.requires_grad = True"
   ]
  },
  {
   "cell_type": "code",
   "execution_count": 5,
   "id": "61a27be9",
   "metadata": {},
   "outputs": [],
   "source": [
    "# Define optimizer and loss function\n",
    "optimizer = torch.optim.Adam(model.parameters())\n",
    "loss_fn = nn.CrossEntropyLoss()"
   ]
  },
  {
   "cell_type": "code",
   "execution_count": 5,
   "id": "9245b7ec",
   "metadata": {},
   "outputs": [],
   "source": [
    "# Define data transforms\n",
    "transform_train = transforms.Compose([\n",
    "    transforms.RandomCrop(32, padding=4),\n",
    "    transforms.RandomHorizontalFlip(),\n",
    "    transforms.ToTensor(),\n",
    "    transforms.Normalize((0.4914, 0.4822, 0.4465), (0.2023, 0.1994, 0.2010))\n",
    "])\n",
    "\n",
    "transform_test = transforms.Compose([\n",
    "    transforms.ToTensor(),\n",
    "    transforms.Normalize((0.4914, 0.4822, 0.4465), (0.2023, 0.1994, 0.2010))\n",
    "])"
   ]
  },
  {
   "cell_type": "code",
   "execution_count": 7,
   "id": "5f7d6e55",
   "metadata": {},
   "outputs": [
    {
     "name": "stdout",
     "output_type": "stream",
     "text": [
      "Downloading https://www.cs.toronto.edu/~kriz/cifar-10-python.tar.gz to ./data/cifar-10-python.tar.gz\n"
     ]
    },
    {
     "name": "stderr",
     "output_type": "stream",
     "text": [
      "100%|██████████| 170498071/170498071 [03:33<00:00, 798661.74it/s] \n"
     ]
    },
    {
     "name": "stdout",
     "output_type": "stream",
     "text": [
      "Extracting ./data/cifar-10-python.tar.gz to ./data\n",
      "Files already downloaded and verified\n"
     ]
    }
   ],
   "source": [
    "# Load CIFAR10 datasets\n",
    "train_dataset = datasets.CIFAR10(root=\"./data\", train=True, download=True, transform=transform_train)\n",
    "test_dataset = datasets.CIFAR10(root=\"./data\", train=False, download=True, transform=transform_test)\n",
    "\n",
    "# Create dataloaders\n",
    "train_dataloader = DataLoader(train_dataset, batch_size=64, shuffle=True, num_workers=2)\n",
    "test_dataloader = DataLoader(test_dataset, batch_size=64, shuffle=False, num_workers=2)"
   ]
  },
  {
   "cell_type": "markdown",
   "id": "c7660594",
   "metadata": {},
   "source": [
    "## LeNet Model Definition"
   ]
  },
  {
   "cell_type": "code",
   "execution_count": 3,
   "id": "3640cfdb",
   "metadata": {},
   "outputs": [],
   "source": [
    "class LeNet(nn.Module):    \n",
    "    def __init__(self):\n",
    "        super(LeNet, self).__init__()\n",
    "        self.feature_extractor = nn.Sequential(\n",
    "            nn.Conv2d(in_channels=3, out_channels=6, kernel_size=5, stride=1, padding=0),\n",
    "            nn.ReLU(),\n",
    "            nn.AvgPool2d(kernel_size=2, stride=2),\n",
    "\n",
    "            nn.Conv2d(in_channels=6, out_channels=16, kernel_size=5, stride=1, padding=0),\n",
    "            nn.ReLU(),\n",
    "            nn.AvgPool2d(kernel_size=2, stride=2),\n",
    "        )\n",
    "\n",
    "        self.classifier = nn.Sequential(\n",
    "            nn.Linear(400,120),  #in_features = 16 x5x5 \n",
    "            nn.ReLU(),\n",
    "            nn.Linear(120,84),\n",
    "            nn.ReLU(),\n",
    "            nn.Linear(84,10),\n",
    "            nn.Softmax(dim=1)\n",
    "\n",
    "        )\n",
    "        \n",
    "    def forward(self,x): \n",
    "        a1=self.feature_extractor(x)\n",
    "        # print(a1.shape)\n",
    "        a1 = torch.flatten(a1,1)\n",
    "        a2=self.classifier(a1)\n",
    "        return a2"
   ]
  },
  {
   "cell_type": "markdown",
   "id": "7473020d",
   "metadata": {},
   "source": [
    "# Baseline Model Training"
   ]
  },
  {
   "cell_type": "code",
   "execution_count": 64,
   "id": "b5e95e9f",
   "metadata": {},
   "outputs": [],
   "source": [
    "model = LeNet()\n",
    "model = model.to(device)"
   ]
  },
  {
   "cell_type": "markdown",
   "id": "9629936b",
   "metadata": {},
   "source": [
    "### Basic Train Loop"
   ]
  },
  {
   "cell_type": "code",
   "execution_count": 68,
   "id": "4805ce89",
   "metadata": {},
   "outputs": [
    {
     "name": "stderr",
     "output_type": "stream",
     "text": [
      "100%|██████████| 782/782 [00:19<00:00, 39.53it/s] \n",
      "100%|██████████| 157/157 [00:12<00:00, 12.51it/s]\n",
      "  5%|▌         | 1/20 [00:32<10:14, 32.34s/it]"
     ]
    },
    {
     "name": "stdout",
     "output_type": "stream",
     "text": [
      "Epoch: [1/20], Accuracy: 0.3640\n"
     ]
    },
    {
     "name": "stderr",
     "output_type": "stream",
     "text": [
      "100%|██████████| 782/782 [00:18<00:00, 41.80it/s] \n",
      "100%|██████████| 157/157 [00:12<00:00, 12.56it/s]\n",
      " 10%|█         | 2/20 [01:03<09:30, 31.68s/it]"
     ]
    },
    {
     "name": "stdout",
     "output_type": "stream",
     "text": [
      "Epoch: [2/20], Accuracy: 0.3962\n"
     ]
    },
    {
     "name": "stderr",
     "output_type": "stream",
     "text": [
      "100%|██████████| 782/782 [00:18<00:00, 42.51it/s] \n",
      "100%|██████████| 157/157 [00:12<00:00, 12.45it/s]\n",
      " 15%|█▌        | 3/20 [01:34<08:53, 31.37s/it]"
     ]
    },
    {
     "name": "stdout",
     "output_type": "stream",
     "text": [
      "Epoch: [3/20], Accuracy: 0.4343\n"
     ]
    },
    {
     "name": "stderr",
     "output_type": "stream",
     "text": [
      "100%|██████████| 782/782 [00:18<00:00, 42.18it/s] \n",
      "100%|██████████| 157/157 [00:12<00:00, 12.58it/s]\n",
      " 20%|██        | 4/20 [02:05<08:19, 31.24s/it]"
     ]
    },
    {
     "name": "stdout",
     "output_type": "stream",
     "text": [
      "Epoch: [4/20], Accuracy: 0.4395\n"
     ]
    },
    {
     "name": "stderr",
     "output_type": "stream",
     "text": [
      "100%|██████████| 782/782 [00:18<00:00, 42.73it/s] \n",
      "100%|██████████| 157/157 [00:12<00:00, 12.53it/s]\n",
      " 25%|██▌       | 5/20 [02:36<07:46, 31.09s/it]"
     ]
    },
    {
     "name": "stdout",
     "output_type": "stream",
     "text": [
      "Epoch: [5/20], Accuracy: 0.4738\n"
     ]
    },
    {
     "name": "stderr",
     "output_type": "stream",
     "text": [
      "100%|██████████| 782/782 [00:18<00:00, 42.62it/s] \n",
      "100%|██████████| 157/157 [00:12<00:00, 12.51it/s]\n",
      " 30%|███       | 6/20 [03:07<07:14, 31.03s/it]"
     ]
    },
    {
     "name": "stdout",
     "output_type": "stream",
     "text": [
      "Epoch: [6/20], Accuracy: 0.4839\n"
     ]
    },
    {
     "name": "stderr",
     "output_type": "stream",
     "text": [
      "100%|██████████| 782/782 [00:18<00:00, 41.32it/s] \n",
      "100%|██████████| 157/157 [00:12<00:00, 12.42it/s]\n",
      " 35%|███▌      | 7/20 [03:38<06:45, 31.21s/it]"
     ]
    },
    {
     "name": "stdout",
     "output_type": "stream",
     "text": [
      "Epoch: [7/20], Accuracy: 0.4826\n"
     ]
    },
    {
     "name": "stderr",
     "output_type": "stream",
     "text": [
      "100%|██████████| 782/782 [00:18<00:00, 42.34it/s] \n",
      "100%|██████████| 157/157 [00:12<00:00, 12.52it/s]\n",
      " 40%|████      | 8/20 [04:09<06:13, 31.15s/it]"
     ]
    },
    {
     "name": "stdout",
     "output_type": "stream",
     "text": [
      "Epoch: [8/20], Accuracy: 0.4939\n"
     ]
    },
    {
     "name": "stderr",
     "output_type": "stream",
     "text": [
      "100%|██████████| 782/782 [00:18<00:00, 42.67it/s] \n",
      "100%|██████████| 157/157 [00:12<00:00, 12.55it/s]\n",
      " 45%|████▌     | 9/20 [04:40<05:41, 31.05s/it]"
     ]
    },
    {
     "name": "stdout",
     "output_type": "stream",
     "text": [
      "Epoch: [9/20], Accuracy: 0.5017\n"
     ]
    },
    {
     "name": "stderr",
     "output_type": "stream",
     "text": [
      "100%|██████████| 782/782 [00:18<00:00, 42.82it/s] \n",
      "100%|██████████| 157/157 [00:12<00:00, 12.56it/s]\n",
      " 50%|█████     | 10/20 [05:11<05:09, 30.97s/it]"
     ]
    },
    {
     "name": "stdout",
     "output_type": "stream",
     "text": [
      "Epoch: [10/20], Accuracy: 0.5002\n"
     ]
    },
    {
     "name": "stderr",
     "output_type": "stream",
     "text": [
      "100%|██████████| 782/782 [00:18<00:00, 42.77it/s] \n",
      "100%|██████████| 157/157 [00:12<00:00, 12.61it/s]\n",
      " 55%|█████▌    | 11/20 [05:42<04:38, 30.90s/it]"
     ]
    },
    {
     "name": "stdout",
     "output_type": "stream",
     "text": [
      "Epoch: [11/20], Accuracy: 0.5049\n"
     ]
    },
    {
     "name": "stderr",
     "output_type": "stream",
     "text": [
      "100%|██████████| 782/782 [00:18<00:00, 42.81it/s] \n",
      "100%|██████████| 157/157 [01:22<00:00,  1.89it/s]\n",
      " 60%|██████    | 12/20 [07:23<06:58, 52.29s/it]"
     ]
    },
    {
     "name": "stdout",
     "output_type": "stream",
     "text": [
      "Epoch: [12/20], Accuracy: 0.5297\n"
     ]
    },
    {
     "name": "stderr",
     "output_type": "stream",
     "text": [
      "100%|██████████| 782/782 [00:24<00:00, 32.26it/s] \n",
      "100%|██████████| 157/157 [01:56<00:00,  1.35it/s]\n",
      " 65%|██████▌   | 13/20 [09:44<09:13, 79.11s/it]"
     ]
    },
    {
     "name": "stdout",
     "output_type": "stream",
     "text": [
      "Epoch: [13/20], Accuracy: 0.5336\n"
     ]
    },
    {
     "name": "stderr",
     "output_type": "stream",
     "text": [
      "100%|██████████| 782/782 [14:00<00:00,  1.07s/it]\n",
      "100%|██████████| 157/157 [00:13<00:00, 11.67it/s]\n",
      " 70%|███████   | 14/20 [23:58<31:19, 313.19s/it]"
     ]
    },
    {
     "name": "stdout",
     "output_type": "stream",
     "text": [
      "Epoch: [14/20], Accuracy: 0.5354\n"
     ]
    },
    {
     "name": "stderr",
     "output_type": "stream",
     "text": [
      "100%|██████████| 782/782 [00:18<00:00, 42.32it/s] \n",
      "100%|██████████| 157/157 [00:12<00:00, 12.37it/s] \n",
      " 75%|███████▌  | 15/20 [24:29<19:00, 228.18s/it]"
     ]
    },
    {
     "name": "stdout",
     "output_type": "stream",
     "text": [
      "Epoch: [15/20], Accuracy: 0.5335\n"
     ]
    },
    {
     "name": "stderr",
     "output_type": "stream",
     "text": [
      "100%|██████████| 782/782 [00:18<00:00, 41.98it/s] \n",
      "100%|██████████| 157/157 [00:12<00:00, 12.57it/s]\n",
      " 80%|████████  | 16/20 [25:00<11:15, 168.87s/it]"
     ]
    },
    {
     "name": "stdout",
     "output_type": "stream",
     "text": [
      "Epoch: [16/20], Accuracy: 0.5439\n"
     ]
    },
    {
     "name": "stderr",
     "output_type": "stream",
     "text": [
      "100%|██████████| 782/782 [00:18<00:00, 42.59it/s] \n",
      "100%|██████████| 157/157 [00:12<00:00, 12.50it/s]\n",
      " 85%|████████▌ | 17/20 [25:31<06:22, 127.39s/it]"
     ]
    },
    {
     "name": "stdout",
     "output_type": "stream",
     "text": [
      "Epoch: [17/20], Accuracy: 0.5424\n"
     ]
    },
    {
     "name": "stderr",
     "output_type": "stream",
     "text": [
      "100%|██████████| 782/782 [00:18<00:00, 42.21it/s] \n",
      "100%|██████████| 157/157 [00:12<00:00, 12.42it/s] \n",
      " 90%|█████████ | 18/20 [26:02<03:16, 98.48s/it] "
     ]
    },
    {
     "name": "stdout",
     "output_type": "stream",
     "text": [
      "Epoch: [18/20], Accuracy: 0.5410\n"
     ]
    },
    {
     "name": "stderr",
     "output_type": "stream",
     "text": [
      "100%|██████████| 782/782 [00:18<00:00, 42.66it/s] \n",
      "100%|██████████| 157/157 [00:12<00:00, 12.46it/s]\n",
      " 95%|█████████▌| 19/20 [26:33<01:18, 78.20s/it]"
     ]
    },
    {
     "name": "stdout",
     "output_type": "stream",
     "text": [
      "Epoch: [19/20], Accuracy: 0.5327\n"
     ]
    },
    {
     "name": "stderr",
     "output_type": "stream",
     "text": [
      "100%|██████████| 782/782 [00:18<00:00, 41.43it/s] \n",
      "100%|██████████| 157/157 [00:12<00:00, 12.45it/s]\n",
      "100%|██████████| 20/20 [27:05<00:00, 81.26s/it]"
     ]
    },
    {
     "name": "stdout",
     "output_type": "stream",
     "text": [
      "Epoch: [20/20], Accuracy: 0.5475\n",
      "--- 1625.2944419384003 seconds ---\n"
     ]
    },
    {
     "name": "stderr",
     "output_type": "stream",
     "text": [
      "\n"
     ]
    }
   ],
   "source": [
    "# Define optimizer and loss function\n",
    "optimizer = torch.optim.Adam(model.parameters())\n",
    "loss_fn = nn.CrossEntropyLoss()\n",
    "\n",
    "# Train the model\n",
    "epochs = 20\n",
    "model.train()\n",
    "start_time = time.time()\n",
    "for epoch in tqdm(range(epochs)):\n",
    "    # Train loop\n",
    "    for images, labels in tqdm(train_dataloader):\n",
    "\n",
    "        images = images.to(device)\n",
    "        labels = labels.to(device)\n",
    "\n",
    "        # Forward pass\n",
    "        outputs = model(images)\n",
    "        loss = loss_fn(outputs, labels)\n",
    "        \n",
    "        # Backward pass and update weights\n",
    "        optimizer.zero_grad()\n",
    "        loss.backward()\n",
    "        optimizer.step()\n",
    "\n",
    "    # Evaluate on test set\n",
    "    correct = 0\n",
    "    total = 0\n",
    "    with torch.no_grad():\n",
    "        for images, labels in tqdm(test_dataloader):\n",
    "            images = images.to(device)\n",
    "            labels = labels.to(device)\n",
    "\n",
    "            outputs = model(images)\n",
    "            predictions = torch.argmax(outputs, dim=1)\n",
    "            correct += (predictions == labels).sum().item()\n",
    "            total += labels.size(0)\n",
    "\n",
    "    accuracy = correct / total\n",
    "    print(f\"Epoch: [{epoch+1}/{epochs}], Accuracy: {accuracy:.4f}\")\n",
    "\n",
    "print(\"--- %s seconds ---\" % (time.time() - start_time))"
   ]
  },
  {
   "cell_type": "markdown",
   "id": "7d32917e",
   "metadata": {},
   "source": [
    "# Reweight Model Training"
   ]
  },
  {
   "cell_type": "code",
   "execution_count": 34,
   "id": "60e639a3",
   "metadata": {},
   "outputs": [],
   "source": [
    "# model = get_cifar10_model()\n",
    "model = LeNet()\n",
    "model = model.to(device)"
   ]
  },
  {
   "cell_type": "code",
   "execution_count": 6,
   "id": "57482d0e",
   "metadata": {},
   "outputs": [
    {
     "name": "stdout",
     "output_type": "stream",
     "text": [
      "Files already downloaded and verified\n",
      "Files already downloaded and verified\n"
     ]
    }
   ],
   "source": [
    "# Load CIFAR10 datasets\n",
    "train_dataset = datasets.CIFAR10(root=\"./data\", train=True, download=True, transform=transform_train)\n",
    "test_dataset = datasets.CIFAR10(root=\"./data\", train=False, download=True, transform=transform_test)\n",
    "\n",
    "split_ratio = 0.95 # 80% for test, 20% for validation\n",
    "n_samples = len(test_dataset)\n",
    "n_test = int(n_samples * split_ratio)\n",
    "n_val = n_samples - n_test\n",
    "test_dataset, val_dataset = random_split(test_dataset, [n_test, n_val])\n",
    "\n",
    "\n",
    "# Create dataloaders\n",
    "train_dataloader = DataLoader(train_dataset, batch_size=64, shuffle=True, num_workers=2)\n",
    "test_dataloader = DataLoader(test_dataset, batch_size=64, shuffle=False, num_workers=2)\n",
    "val_dataloader = DataLoader(val_dataset, batch_size=64, shuffle=False, num_workers=2)"
   ]
  },
  {
   "cell_type": "markdown",
   "id": "d43b2442",
   "metadata": {},
   "source": [
    "### Random Sampler for Sampling Validation Data"
   ]
  },
  {
   "cell_type": "code",
   "execution_count": 16,
   "id": "dba4ae6e",
   "metadata": {},
   "outputs": [
    {
     "name": "stdout",
     "output_type": "stream",
     "text": [
      "500\n"
     ]
    }
   ],
   "source": [
    "class RandomSubsetSampler(torch.utils.data.Sampler):\n",
    "    def __init__(self, dataset, subset_size):\n",
    "        self.dataset = dataset\n",
    "        self.subset_size = subset_size\n",
    "\n",
    "    def __iter__(self):\n",
    "        indices = random.sample(range(len(self.dataset)), self.subset_size)\n",
    "        return iter(indices)\n",
    "\n",
    "    def __len__(self):\n",
    "        return self.subset_size\n",
    "\n",
    "subset_sampler = RandomSubsetSampler(val_dataset, 64)\n",
    "subset_dataloader = DataLoader(val_dataset, sampler=subset_sampler)"
   ]
  },
  {
   "cell_type": "markdown",
   "id": "06798432",
   "metadata": {},
   "source": [
    "### Meta Baseline Trainloop"
   ]
  },
  {
   "cell_type": "code",
   "execution_count": 39,
   "id": "541021a9",
   "metadata": {},
   "outputs": [
    {
     "name": "stderr",
     "output_type": "stream",
     "text": [
      "100%|██████████| 782/782 [00:38<00:00, 20.54it/s]\n",
      "100%|██████████| 149/149 [00:12<00:00, 11.65it/s] \n",
      "  5%|▌         | 1/20 [00:50<16:06, 50.86s/it]"
     ]
    },
    {
     "name": "stdout",
     "output_type": "stream",
     "text": [
      "Epoch: [1/20], Accuracy: 0.3925\n"
     ]
    },
    {
     "name": "stderr",
     "output_type": "stream",
     "text": [
      "100%|██████████| 782/782 [00:37<00:00, 20.92it/s]\n",
      "100%|██████████| 149/149 [00:12<00:00, 11.79it/s] \n",
      " 10%|█         | 2/20 [01:40<15:06, 50.37s/it]"
     ]
    },
    {
     "name": "stdout",
     "output_type": "stream",
     "text": [
      "Epoch: [2/20], Accuracy: 0.4705\n"
     ]
    },
    {
     "name": "stderr",
     "output_type": "stream",
     "text": [
      "100%|██████████| 782/782 [00:37<00:00, 20.74it/s]\n",
      "100%|██████████| 149/149 [00:12<00:00, 11.61it/s] \n",
      " 15%|█▌        | 3/20 [02:31<14:17, 50.45s/it]"
     ]
    },
    {
     "name": "stdout",
     "output_type": "stream",
     "text": [
      "Epoch: [3/20], Accuracy: 0.4973\n"
     ]
    },
    {
     "name": "stderr",
     "output_type": "stream",
     "text": [
      "100%|██████████| 782/782 [00:38<00:00, 20.46it/s]\n",
      "100%|██████████| 149/149 [00:12<00:00, 11.67it/s] \n",
      " 20%|██        | 4/20 [03:22<13:30, 50.67s/it]"
     ]
    },
    {
     "name": "stdout",
     "output_type": "stream",
     "text": [
      "Epoch: [4/20], Accuracy: 0.5048\n"
     ]
    },
    {
     "name": "stderr",
     "output_type": "stream",
     "text": [
      "100%|██████████| 782/782 [00:38<00:00, 20.40it/s]\n",
      "100%|██████████| 149/149 [00:12<00:00, 11.72it/s] \n",
      " 25%|██▌       | 5/20 [04:13<12:42, 50.80s/it]"
     ]
    },
    {
     "name": "stdout",
     "output_type": "stream",
     "text": [
      "Epoch: [5/20], Accuracy: 0.5098\n"
     ]
    },
    {
     "name": "stderr",
     "output_type": "stream",
     "text": [
      "100%|██████████| 782/782 [00:37<00:00, 20.67it/s]\n",
      "100%|██████████| 149/149 [00:12<00:00, 11.74it/s] \n",
      " 30%|███       | 6/20 [05:04<11:49, 50.71s/it]"
     ]
    },
    {
     "name": "stdout",
     "output_type": "stream",
     "text": [
      "Epoch: [6/20], Accuracy: 0.5087\n"
     ]
    },
    {
     "name": "stderr",
     "output_type": "stream",
     "text": [
      "100%|██████████| 782/782 [00:37<00:00, 20.87it/s]\n",
      "100%|██████████| 149/149 [00:12<00:00, 11.64it/s] \n",
      " 35%|███▌      | 7/20 [05:54<10:57, 50.57s/it]"
     ]
    },
    {
     "name": "stdout",
     "output_type": "stream",
     "text": [
      "Epoch: [7/20], Accuracy: 0.5324\n"
     ]
    },
    {
     "name": "stderr",
     "output_type": "stream",
     "text": [
      "100%|██████████| 782/782 [00:37<00:00, 20.86it/s]\n",
      "100%|██████████| 149/149 [01:07<00:00,  2.20it/s] \n",
      " 40%|████      | 8/20 [07:39<13:35, 67.97s/it]"
     ]
    },
    {
     "name": "stdout",
     "output_type": "stream",
     "text": [
      "Epoch: [8/20], Accuracy: 0.5362\n"
     ]
    },
    {
     "name": "stderr",
     "output_type": "stream",
     "text": [
      "100%|██████████| 782/782 [00:38<00:00, 20.45it/s]\n",
      "100%|██████████| 149/149 [00:12<00:00, 11.63it/s]\n",
      " 45%|████▌     | 9/20 [08:30<11:29, 62.69s/it]"
     ]
    },
    {
     "name": "stdout",
     "output_type": "stream",
     "text": [
      "Epoch: [9/20], Accuracy: 0.5518\n"
     ]
    },
    {
     "name": "stderr",
     "output_type": "stream",
     "text": [
      "100%|██████████| 782/782 [00:37<00:00, 20.60it/s]\n",
      "100%|██████████| 149/149 [00:12<00:00, 11.52it/s]\n",
      " 50%|█████     | 10/20 [09:21<09:50, 59.05s/it]"
     ]
    },
    {
     "name": "stdout",
     "output_type": "stream",
     "text": [
      "Epoch: [10/20], Accuracy: 0.5537\n"
     ]
    },
    {
     "name": "stderr",
     "output_type": "stream",
     "text": [
      "100%|██████████| 782/782 [00:38<00:00, 20.37it/s]\n",
      "100%|██████████| 149/149 [00:12<00:00, 11.64it/s] \n",
      " 55%|█████▌    | 11/20 [10:12<08:29, 56.64s/it]"
     ]
    },
    {
     "name": "stdout",
     "output_type": "stream",
     "text": [
      "Epoch: [11/20], Accuracy: 0.5647\n"
     ]
    },
    {
     "name": "stderr",
     "output_type": "stream",
     "text": [
      "100%|██████████| 782/782 [00:38<00:00, 20.19it/s]\n",
      "100%|██████████| 149/149 [00:12<00:00, 11.50it/s]\n",
      " 60%|██████    | 12/20 [11:04<07:21, 55.14s/it]"
     ]
    },
    {
     "name": "stdout",
     "output_type": "stream",
     "text": [
      "Epoch: [12/20], Accuracy: 0.5621\n"
     ]
    },
    {
     "name": "stderr",
     "output_type": "stream",
     "text": [
      "100%|██████████| 782/782 [00:38<00:00, 20.35it/s]\n",
      "100%|██████████| 149/149 [00:12<00:00, 11.64it/s] \n",
      " 65%|██████▌   | 13/20 [11:55<06:17, 53.96s/it]"
     ]
    },
    {
     "name": "stdout",
     "output_type": "stream",
     "text": [
      "Epoch: [13/20], Accuracy: 0.5765\n"
     ]
    },
    {
     "name": "stderr",
     "output_type": "stream",
     "text": [
      "100%|██████████| 782/782 [00:38<00:00, 20.47it/s]\n",
      "100%|██████████| 149/149 [00:12<00:00, 11.53it/s]\n",
      " 70%|███████   | 14/20 [12:46<05:18, 53.10s/it]"
     ]
    },
    {
     "name": "stdout",
     "output_type": "stream",
     "text": [
      "Epoch: [14/20], Accuracy: 0.5733\n"
     ]
    },
    {
     "name": "stderr",
     "output_type": "stream",
     "text": [
      "100%|██████████| 782/782 [00:38<00:00, 20.42it/s]\n",
      "100%|██████████| 149/149 [00:12<00:00, 11.64it/s] \n",
      " 75%|███████▌  | 15/20 [13:37<04:22, 52.50s/it]"
     ]
    },
    {
     "name": "stdout",
     "output_type": "stream",
     "text": [
      "Epoch: [15/20], Accuracy: 0.5783\n"
     ]
    },
    {
     "name": "stderr",
     "output_type": "stream",
     "text": [
      "100%|██████████| 782/782 [00:38<00:00, 20.25it/s]\n",
      "100%|██████████| 149/149 [00:13<00:00, 11.30it/s]\n",
      " 80%|████████  | 16/20 [14:29<03:29, 52.29s/it]"
     ]
    },
    {
     "name": "stdout",
     "output_type": "stream",
     "text": [
      "Epoch: [16/20], Accuracy: 0.5848\n"
     ]
    },
    {
     "name": "stderr",
     "output_type": "stream",
     "text": [
      "100%|██████████| 782/782 [00:38<00:00, 20.25it/s]\n",
      "100%|██████████| 149/149 [00:12<00:00, 11.51it/s]\n",
      " 85%|████████▌ | 17/20 [15:21<02:36, 52.07s/it]"
     ]
    },
    {
     "name": "stdout",
     "output_type": "stream",
     "text": [
      "Epoch: [17/20], Accuracy: 0.5947\n"
     ]
    },
    {
     "name": "stderr",
     "output_type": "stream",
     "text": [
      "100%|██████████| 782/782 [00:38<00:00, 20.36it/s]\n",
      "100%|██████████| 149/149 [00:12<00:00, 11.62it/s] \n",
      " 90%|█████████ | 18/20 [16:12<01:43, 51.82s/it]"
     ]
    },
    {
     "name": "stdout",
     "output_type": "stream",
     "text": [
      "Epoch: [18/20], Accuracy: 0.5984\n"
     ]
    },
    {
     "name": "stderr",
     "output_type": "stream",
     "text": [
      "100%|██████████| 782/782 [00:37<00:00, 20.98it/s]\n",
      "100%|██████████| 149/149 [00:12<00:00, 11.61it/s] \n",
      " 95%|█████████▌| 19/20 [17:02<00:51, 51.32s/it]"
     ]
    },
    {
     "name": "stdout",
     "output_type": "stream",
     "text": [
      "Epoch: [19/20], Accuracy: 0.5919\n"
     ]
    },
    {
     "name": "stderr",
     "output_type": "stream",
     "text": [
      "100%|██████████| 782/782 [00:37<00:00, 21.02it/s]\n",
      "100%|██████████| 149/149 [00:12<00:00, 11.77it/s] \n",
      "100%|██████████| 20/20 [17:52<00:00, 53.62s/it]"
     ]
    },
    {
     "name": "stdout",
     "output_type": "stream",
     "text": [
      "Epoch: [20/20], Accuracy: 0.6049\n",
      "--- 1072.4640719890594 seconds ---\n"
     ]
    },
    {
     "name": "stderr",
     "output_type": "stream",
     "text": [
      "\n"
     ]
    }
   ],
   "source": [
    "# Define optimizer and loss function\n",
    "optimizer = torch.optim.Adam(model.parameters())\n",
    "loss_fn = nn.CrossEntropyLoss()\n",
    "loss_fn_meta = nn.CrossEntropyLoss(reduction='none')\n",
    "\n",
    "# Train the model\n",
    "epochs = 20\n",
    "lr = 0.001\n",
    "model.train()\n",
    "start_time = time.time()\n",
    "for epoch in tqdm(range(epochs)):\n",
    "    # Train loop\n",
    "    for images, labels in tqdm(train_dataloader):\n",
    "        \n",
    "        images = images.to(device)\n",
    "        labels = labels.to(device)\n",
    "\n",
    "        # meta_net = get_cifar10_model()\n",
    "        meta_net = LeNet()\n",
    "        meta_net.load_state_dict(model.state_dict())\n",
    "\n",
    "        meta_net = meta_net.to(device)\n",
    "\n",
    "        optimizer_meta = torch.optim.Adam(meta_net.parameters())\n",
    "\n",
    "        meta_net.train()\n",
    "        \n",
    "        y_f_hat = meta_net(images)\n",
    "        cost = loss_fn_meta(y_f_hat, labels)\n",
    "        eps = torch.zeros(cost.size(), requires_grad=True).to(device)\n",
    "        l_f_meta = torch.sum(cost*eps)\n",
    "\n",
    "        # meta_net.zero_grad()\n",
    "        optimizer_meta.zero_grad()\n",
    "        eps.retain_grad()\n",
    "        l_f_meta.backward()\n",
    "        optimizer_meta.step()\n",
    "\n",
    "        meta_net.eval()\n",
    "\n",
    "        # grads = torch.autograd.grad(l_f_meta, (meta_net.parameters()), create_graph=True)\n",
    "        # meta_net.update_params(lr, source_params=grads)\n",
    "        \n",
    "        val_images, val_labels = next(iter(subset_dataloader))\n",
    "        # val_images, val_labels = next(iter(val_dataloader))\n",
    "        val_images = val_images.to(device)\n",
    "        val_labels = val_labels.to(device)\n",
    "\n",
    "        y_g_hat = meta_net(val_images)\n",
    "        l_g_meta = loss_fn(y_g_hat, val_labels)\n",
    "\n",
    "        # grad_eps = torch.autograd.grad(l_g_meta, eps, only_inputs=True)[0]\n",
    "        # grad_eps = torch.autograd.grad(l_g_meta, eps, only_inputs=True, allow_unused=True)[0]\n",
    "        # print(grad_eps)\n",
    "\n",
    "        with torch.no_grad():\n",
    "            optimizer_meta.zero_grad()\n",
    "            l_g_meta.backward()\n",
    "            grad_eps = eps.grad\n",
    "        \n",
    "        # print(grad_eps)\n",
    "        w_tilde = torch.clamp(grad_eps,min=0)\n",
    "        # w_tilde = torch.clamp(-grad_eps,min=0)\n",
    "        norm_c = torch.sum(w_tilde)\n",
    "\n",
    "        if norm_c != 0:\n",
    "            w = w_tilde / norm_c\n",
    "        else:\n",
    "            w = w_tilde\n",
    "        \n",
    "        # print(w)\n",
    "        # break\n",
    "        # Forward Pass\n",
    "        outputs = model(images)\n",
    "        loss = loss_fn_meta(outputs, labels)\n",
    "        loss = torch.sum(loss*w)\n",
    "        \n",
    "        # Backward pass and update weights\n",
    "        optimizer.zero_grad()\n",
    "        loss.backward()\n",
    "        optimizer.step()\n",
    "\n",
    "    # Evaluate on test set\n",
    "    correct = 0\n",
    "    total = 0\n",
    "    with torch.no_grad():\n",
    "        for images, labels in tqdm(test_dataloader):\n",
    "            images = images.to(device)\n",
    "            labels = labels.to(device)\n",
    "            outputs = model(images)\n",
    "            predictions = torch.argmax(outputs, dim=1)\n",
    "            correct += (predictions == labels).sum().item()\n",
    "            total += labels.size(0)\n",
    "\n",
    "    accuracy = correct / total\n",
    "    print(f\"Epoch: [{epoch+1}/{epochs}], Accuracy: {accuracy:.4f}\")\n",
    "\n",
    "print(\"--- %s seconds ---\" % (time.time() - start_time))"
   ]
  },
  {
   "cell_type": "markdown",
   "id": "49cd3ecc",
   "metadata": {},
   "source": [
    "# Meta-Milo Setup"
   ]
  },
  {
   "cell_type": "markdown",
   "id": "acc91f2e",
   "metadata": {},
   "source": [
    "### Load Data"
   ]
  },
  {
   "cell_type": "code",
   "execution_count": 44,
   "id": "2c56cb8a",
   "metadata": {},
   "outputs": [],
   "source": [
    "num_classes = 10\n",
    "class_data = []\n",
    "for i in range(num_classes):\n",
    "    with open(f\"milo-base/class-data/class_{i}.pkl\", \"rb\") as f:\n",
    "        S = pickle.load(f)\n",
    "        class_data.append(S)"
   ]
  },
  {
   "cell_type": "code",
   "execution_count": 45,
   "id": "489f5f7e",
   "metadata": {},
   "outputs": [],
   "source": [
    "num_sets = len(class_data[0])\n",
    "data = []\n",
    "for i in range(num_sets):\n",
    "    S = []\n",
    "    for j in range(num_classes):\n",
    "        S.extend(class_data[j][i])\n",
    "    data.append(S)"
   ]
  },
  {
   "cell_type": "markdown",
   "id": "437bd49c",
   "metadata": {},
   "source": [
    "### Define Dataloader"
   ]
  },
  {
   "cell_type": "code",
   "execution_count": 42,
   "id": "22252b55",
   "metadata": {},
   "outputs": [],
   "source": [
    "class SubDataset(Dataset):\n",
    "    def __init__(self, indices, dataset):\n",
    "        self.indices = indices\n",
    "        self.dataset = dataset\n",
    "\n",
    "    def __len__(self):\n",
    "        return len(self.indices)\n",
    "\n",
    "    def __getitem__(self, idx):\n",
    "        index = self.indices[idx]\n",
    "        data_point = self.dataset[index]\n",
    "        return data_point"
   ]
  },
  {
   "cell_type": "markdown",
   "id": "9146446a",
   "metadata": {},
   "source": [
    "### Model Training loop"
   ]
  },
  {
   "cell_type": "code",
   "execution_count": 46,
   "id": "532c9fa2",
   "metadata": {},
   "outputs": [
    {
     "name": "stderr",
     "output_type": "stream",
     "text": [
      "  0%|          | 0/20 [00:00<?, ?it/s]Traceback (most recent call last):\n",
      "  File \"<string>\", line 1, in <module>\n",
      "  File \"/Users/yuktabagdi/miniconda3/envs/feature-env/lib/python3.9/multiprocessing/spawn.py\", line 116, in spawn_main\n",
      "    exitcode = _main(fd, parent_sentinel)\n",
      "  File \"/Users/yuktabagdi/miniconda3/envs/feature-env/lib/python3.9/multiprocessing/spawn.py\", line 126, in _main\n",
      "    self = reduction.pickle.load(from_parent)\n",
      "AttributeError: Can't get attribute 'SubDataset' on <module '__main__' (built-in)>\n",
      "  0%|          | 0/79 [00:21<?, ?it/s]\n",
      "  0%|          | 0/20 [00:21<?, ?it/s]\n"
     ]
    },
    {
     "ename": "KeyboardInterrupt",
     "evalue": "",
     "output_type": "error",
     "traceback": [
      "\u001b[0;31m---------------------------------------------------------------------------\u001b[0m",
      "\u001b[0;31mKeyboardInterrupt\u001b[0m                         Traceback (most recent call last)",
      "Cell \u001b[0;32mIn[46], line 16\u001b[0m\n\u001b[1;32m     13\u001b[0m sub_dataset \u001b[38;5;241m=\u001b[39m SubDataset(indices\u001b[38;5;241m=\u001b[39mdata[epoch], dataset\u001b[38;5;241m=\u001b[39mtrain_dataset)\n\u001b[1;32m     14\u001b[0m train_dataloader \u001b[38;5;241m=\u001b[39m DataLoader(sub_dataset, batch_size\u001b[38;5;241m=\u001b[39m\u001b[38;5;241m64\u001b[39m, shuffle\u001b[38;5;241m=\u001b[39m\u001b[38;5;28;01mTrue\u001b[39;00m, num_workers\u001b[38;5;241m=\u001b[39m\u001b[38;5;241m2\u001b[39m)\n\u001b[0;32m---> 16\u001b[0m \u001b[38;5;28;01mfor\u001b[39;00m images, labels \u001b[38;5;129;01min\u001b[39;00m tqdm(train_dataloader):\n\u001b[1;32m     18\u001b[0m     images \u001b[38;5;241m=\u001b[39m images\u001b[38;5;241m.\u001b[39mto(device)\n\u001b[1;32m     19\u001b[0m     labels \u001b[38;5;241m=\u001b[39m labels\u001b[38;5;241m.\u001b[39mto(device)\n",
      "File \u001b[0;32m~/miniconda3/envs/feature-env/lib/python3.9/site-packages/tqdm/std.py:1178\u001b[0m, in \u001b[0;36mtqdm.__iter__\u001b[0;34m(self)\u001b[0m\n\u001b[1;32m   1175\u001b[0m time \u001b[38;5;241m=\u001b[39m \u001b[38;5;28mself\u001b[39m\u001b[38;5;241m.\u001b[39m_time\n\u001b[1;32m   1177\u001b[0m \u001b[38;5;28;01mtry\u001b[39;00m:\n\u001b[0;32m-> 1178\u001b[0m     \u001b[38;5;28;01mfor\u001b[39;00m obj \u001b[38;5;129;01min\u001b[39;00m iterable:\n\u001b[1;32m   1179\u001b[0m         \u001b[38;5;28;01myield\u001b[39;00m obj\n\u001b[1;32m   1180\u001b[0m         \u001b[38;5;66;03m# Update and possibly print the progressbar.\u001b[39;00m\n\u001b[1;32m   1181\u001b[0m         \u001b[38;5;66;03m# Note: does not call self.update(1) for speed optimisation.\u001b[39;00m\n",
      "File \u001b[0;32m~/miniconda3/envs/feature-env/lib/python3.9/site-packages/torch/utils/data/dataloader.py:438\u001b[0m, in \u001b[0;36mDataLoader.__iter__\u001b[0;34m(self)\u001b[0m\n\u001b[1;32m    436\u001b[0m     \u001b[38;5;28;01mreturn\u001b[39;00m \u001b[38;5;28mself\u001b[39m\u001b[38;5;241m.\u001b[39m_iterator\n\u001b[1;32m    437\u001b[0m \u001b[38;5;28;01melse\u001b[39;00m:\n\u001b[0;32m--> 438\u001b[0m     \u001b[38;5;28;01mreturn\u001b[39;00m \u001b[38;5;28;43mself\u001b[39;49m\u001b[38;5;241;43m.\u001b[39;49m\u001b[43m_get_iterator\u001b[49m\u001b[43m(\u001b[49m\u001b[43m)\u001b[49m\n",
      "File \u001b[0;32m~/miniconda3/envs/feature-env/lib/python3.9/site-packages/torch/utils/data/dataloader.py:386\u001b[0m, in \u001b[0;36mDataLoader._get_iterator\u001b[0;34m(self)\u001b[0m\n\u001b[1;32m    384\u001b[0m \u001b[38;5;28;01melse\u001b[39;00m:\n\u001b[1;32m    385\u001b[0m     \u001b[38;5;28mself\u001b[39m\u001b[38;5;241m.\u001b[39mcheck_worker_number_rationality()\n\u001b[0;32m--> 386\u001b[0m     \u001b[38;5;28;01mreturn\u001b[39;00m \u001b[43m_MultiProcessingDataLoaderIter\u001b[49m\u001b[43m(\u001b[49m\u001b[38;5;28;43mself\u001b[39;49m\u001b[43m)\u001b[49m\n",
      "File \u001b[0;32m~/miniconda3/envs/feature-env/lib/python3.9/site-packages/torch/utils/data/dataloader.py:1039\u001b[0m, in \u001b[0;36m_MultiProcessingDataLoaderIter.__init__\u001b[0;34m(self, loader)\u001b[0m\n\u001b[1;32m   1032\u001b[0m w\u001b[38;5;241m.\u001b[39mdaemon \u001b[38;5;241m=\u001b[39m \u001b[38;5;28;01mTrue\u001b[39;00m\n\u001b[1;32m   1033\u001b[0m \u001b[38;5;66;03m# NB: Process.start() actually take some time as it needs to\u001b[39;00m\n\u001b[1;32m   1034\u001b[0m \u001b[38;5;66;03m#     start a process and pass the arguments over via a pipe.\u001b[39;00m\n\u001b[1;32m   1035\u001b[0m \u001b[38;5;66;03m#     Therefore, we only add a worker to self._workers list after\u001b[39;00m\n\u001b[1;32m   1036\u001b[0m \u001b[38;5;66;03m#     it started, so that we do not call .join() if program dies\u001b[39;00m\n\u001b[1;32m   1037\u001b[0m \u001b[38;5;66;03m#     before it starts, and __del__ tries to join but will get:\u001b[39;00m\n\u001b[1;32m   1038\u001b[0m \u001b[38;5;66;03m#     AssertionError: can only join a started process.\u001b[39;00m\n\u001b[0;32m-> 1039\u001b[0m \u001b[43mw\u001b[49m\u001b[38;5;241;43m.\u001b[39;49m\u001b[43mstart\u001b[49m\u001b[43m(\u001b[49m\u001b[43m)\u001b[49m\n\u001b[1;32m   1040\u001b[0m \u001b[38;5;28mself\u001b[39m\u001b[38;5;241m.\u001b[39m_index_queues\u001b[38;5;241m.\u001b[39mappend(index_queue)\n\u001b[1;32m   1041\u001b[0m \u001b[38;5;28mself\u001b[39m\u001b[38;5;241m.\u001b[39m_workers\u001b[38;5;241m.\u001b[39mappend(w)\n",
      "File \u001b[0;32m~/miniconda3/envs/feature-env/lib/python3.9/multiprocessing/process.py:121\u001b[0m, in \u001b[0;36mBaseProcess.start\u001b[0;34m(self)\u001b[0m\n\u001b[1;32m    118\u001b[0m \u001b[38;5;28;01massert\u001b[39;00m \u001b[38;5;129;01mnot\u001b[39;00m _current_process\u001b[38;5;241m.\u001b[39m_config\u001b[38;5;241m.\u001b[39mget(\u001b[38;5;124m'\u001b[39m\u001b[38;5;124mdaemon\u001b[39m\u001b[38;5;124m'\u001b[39m), \\\n\u001b[1;32m    119\u001b[0m        \u001b[38;5;124m'\u001b[39m\u001b[38;5;124mdaemonic processes are not allowed to have children\u001b[39m\u001b[38;5;124m'\u001b[39m\n\u001b[1;32m    120\u001b[0m _cleanup()\n\u001b[0;32m--> 121\u001b[0m \u001b[38;5;28mself\u001b[39m\u001b[38;5;241m.\u001b[39m_popen \u001b[38;5;241m=\u001b[39m \u001b[38;5;28;43mself\u001b[39;49m\u001b[38;5;241;43m.\u001b[39;49m\u001b[43m_Popen\u001b[49m\u001b[43m(\u001b[49m\u001b[38;5;28;43mself\u001b[39;49m\u001b[43m)\u001b[49m\n\u001b[1;32m    122\u001b[0m \u001b[38;5;28mself\u001b[39m\u001b[38;5;241m.\u001b[39m_sentinel \u001b[38;5;241m=\u001b[39m \u001b[38;5;28mself\u001b[39m\u001b[38;5;241m.\u001b[39m_popen\u001b[38;5;241m.\u001b[39msentinel\n\u001b[1;32m    123\u001b[0m \u001b[38;5;66;03m# Avoid a refcycle if the target function holds an indirect\u001b[39;00m\n\u001b[1;32m    124\u001b[0m \u001b[38;5;66;03m# reference to the process object (see bpo-30775)\u001b[39;00m\n",
      "File \u001b[0;32m~/miniconda3/envs/feature-env/lib/python3.9/multiprocessing/context.py:224\u001b[0m, in \u001b[0;36mProcess._Popen\u001b[0;34m(process_obj)\u001b[0m\n\u001b[1;32m    222\u001b[0m \u001b[38;5;129m@staticmethod\u001b[39m\n\u001b[1;32m    223\u001b[0m \u001b[38;5;28;01mdef\u001b[39;00m \u001b[38;5;21m_Popen\u001b[39m(process_obj):\n\u001b[0;32m--> 224\u001b[0m     \u001b[38;5;28;01mreturn\u001b[39;00m \u001b[43m_default_context\u001b[49m\u001b[38;5;241;43m.\u001b[39;49m\u001b[43mget_context\u001b[49m\u001b[43m(\u001b[49m\u001b[43m)\u001b[49m\u001b[38;5;241;43m.\u001b[39;49m\u001b[43mProcess\u001b[49m\u001b[38;5;241;43m.\u001b[39;49m\u001b[43m_Popen\u001b[49m\u001b[43m(\u001b[49m\u001b[43mprocess_obj\u001b[49m\u001b[43m)\u001b[49m\n",
      "File \u001b[0;32m~/miniconda3/envs/feature-env/lib/python3.9/multiprocessing/context.py:284\u001b[0m, in \u001b[0;36mSpawnProcess._Popen\u001b[0;34m(process_obj)\u001b[0m\n\u001b[1;32m    281\u001b[0m \u001b[38;5;129m@staticmethod\u001b[39m\n\u001b[1;32m    282\u001b[0m \u001b[38;5;28;01mdef\u001b[39;00m \u001b[38;5;21m_Popen\u001b[39m(process_obj):\n\u001b[1;32m    283\u001b[0m     \u001b[38;5;28;01mfrom\u001b[39;00m \u001b[38;5;21;01m.\u001b[39;00m\u001b[38;5;21;01mpopen_spawn_posix\u001b[39;00m \u001b[38;5;28;01mimport\u001b[39;00m Popen\n\u001b[0;32m--> 284\u001b[0m     \u001b[38;5;28;01mreturn\u001b[39;00m \u001b[43mPopen\u001b[49m\u001b[43m(\u001b[49m\u001b[43mprocess_obj\u001b[49m\u001b[43m)\u001b[49m\n",
      "File \u001b[0;32m~/miniconda3/envs/feature-env/lib/python3.9/multiprocessing/popen_spawn_posix.py:32\u001b[0m, in \u001b[0;36mPopen.__init__\u001b[0;34m(self, process_obj)\u001b[0m\n\u001b[1;32m     30\u001b[0m \u001b[38;5;28;01mdef\u001b[39;00m \u001b[38;5;21m__init__\u001b[39m(\u001b[38;5;28mself\u001b[39m, process_obj):\n\u001b[1;32m     31\u001b[0m     \u001b[38;5;28mself\u001b[39m\u001b[38;5;241m.\u001b[39m_fds \u001b[38;5;241m=\u001b[39m []\n\u001b[0;32m---> 32\u001b[0m     \u001b[38;5;28;43msuper\u001b[39;49m\u001b[43m(\u001b[49m\u001b[43m)\u001b[49m\u001b[38;5;241;43m.\u001b[39;49m\u001b[38;5;21;43m__init__\u001b[39;49m\u001b[43m(\u001b[49m\u001b[43mprocess_obj\u001b[49m\u001b[43m)\u001b[49m\n",
      "File \u001b[0;32m~/miniconda3/envs/feature-env/lib/python3.9/multiprocessing/popen_fork.py:19\u001b[0m, in \u001b[0;36mPopen.__init__\u001b[0;34m(self, process_obj)\u001b[0m\n\u001b[1;32m     17\u001b[0m \u001b[38;5;28mself\u001b[39m\u001b[38;5;241m.\u001b[39mreturncode \u001b[38;5;241m=\u001b[39m \u001b[38;5;28;01mNone\u001b[39;00m\n\u001b[1;32m     18\u001b[0m \u001b[38;5;28mself\u001b[39m\u001b[38;5;241m.\u001b[39mfinalizer \u001b[38;5;241m=\u001b[39m \u001b[38;5;28;01mNone\u001b[39;00m\n\u001b[0;32m---> 19\u001b[0m \u001b[38;5;28;43mself\u001b[39;49m\u001b[38;5;241;43m.\u001b[39;49m\u001b[43m_launch\u001b[49m\u001b[43m(\u001b[49m\u001b[43mprocess_obj\u001b[49m\u001b[43m)\u001b[49m\n",
      "File \u001b[0;32m~/miniconda3/envs/feature-env/lib/python3.9/multiprocessing/popen_spawn_posix.py:62\u001b[0m, in \u001b[0;36mPopen._launch\u001b[0;34m(self, process_obj)\u001b[0m\n\u001b[1;32m     60\u001b[0m     \u001b[38;5;28mself\u001b[39m\u001b[38;5;241m.\u001b[39msentinel \u001b[38;5;241m=\u001b[39m parent_r\n\u001b[1;32m     61\u001b[0m     \u001b[38;5;28;01mwith\u001b[39;00m \u001b[38;5;28mopen\u001b[39m(parent_w, \u001b[38;5;124m'\u001b[39m\u001b[38;5;124mwb\u001b[39m\u001b[38;5;124m'\u001b[39m, closefd\u001b[38;5;241m=\u001b[39m\u001b[38;5;28;01mFalse\u001b[39;00m) \u001b[38;5;28;01mas\u001b[39;00m f:\n\u001b[0;32m---> 62\u001b[0m         \u001b[43mf\u001b[49m\u001b[38;5;241;43m.\u001b[39;49m\u001b[43mwrite\u001b[49m\u001b[43m(\u001b[49m\u001b[43mfp\u001b[49m\u001b[38;5;241;43m.\u001b[39;49m\u001b[43mgetbuffer\u001b[49m\u001b[43m(\u001b[49m\u001b[43m)\u001b[49m\u001b[43m)\u001b[49m\n\u001b[1;32m     63\u001b[0m \u001b[38;5;28;01mfinally\u001b[39;00m:\n\u001b[1;32m     64\u001b[0m     fds_to_close \u001b[38;5;241m=\u001b[39m []\n",
      "\u001b[0;31mKeyboardInterrupt\u001b[0m: "
     ]
    }
   ],
   "source": [
    "# Define optimizer and loss function\n",
    "optimizer = torch.optim.Adam(model.parameters())\n",
    "loss_fn = nn.CrossEntropyLoss()\n",
    "loss_fn_meta = nn.CrossEntropyLoss(reduction='none')\n",
    "\n",
    "# Train the model\n",
    "epochs = 20\n",
    "lr = 0.001\n",
    "model.train()\n",
    "start_time = time.time()\n",
    "for epoch in tqdm(range(epochs)):\n",
    "    # Train loop\n",
    "    sub_dataset = SubDataset(indices=data[epoch], dataset=train_dataset)\n",
    "    train_dataloader = DataLoader(sub_dataset, batch_size=64, shuffle=True, num_workers=2)\n",
    "    \n",
    "    for images, labels in tqdm(train_dataloader):\n",
    "        \n",
    "        images = images.to(device)\n",
    "        labels = labels.to(device)\n",
    "\n",
    "        # meta_net = get_cifar10_model()\n",
    "        meta_net = LeNet()\n",
    "        meta_net.load_state_dict(model.state_dict())\n",
    "\n",
    "        meta_net = meta_net.to(device)\n",
    "\n",
    "        optimizer_meta = torch.optim.Adam(meta_net.parameters())\n",
    "\n",
    "        meta_net.train()\n",
    "        \n",
    "        y_f_hat = meta_net(images)\n",
    "        cost = loss_fn_meta(y_f_hat, labels)\n",
    "        eps = torch.zeros(cost.size(), requires_grad=True).to(device)\n",
    "        l_f_meta = torch.sum(cost*eps)\n",
    "\n",
    "        # meta_net.zero_grad()\n",
    "        optimizer_meta.zero_grad()\n",
    "        eps.retain_grad()\n",
    "        l_f_meta.backward()\n",
    "        optimizer_meta.step()\n",
    "\n",
    "        meta_net.eval()\n",
    "\n",
    "        # grads = torch.autograd.grad(l_f_meta, (meta_net.parameters()), create_graph=True)\n",
    "        # meta_net.update_params(lr, source_params=grads)\n",
    "        \n",
    "        val_images, val_labels = next(iter(subset_dataloader))\n",
    "        # val_images, val_labels = next(iter(val_dataloader))\n",
    "        val_images = val_images.to(device)\n",
    "        val_labels = val_labels.to(device)\n",
    "\n",
    "        y_g_hat = meta_net(val_images)\n",
    "        l_g_meta = loss_fn(y_g_hat, val_labels)\n",
    "\n",
    "        # grad_eps = torch.autograd.grad(l_g_meta, eps, only_inputs=True)[0]\n",
    "        # grad_eps = torch.autograd.grad(l_g_meta, eps, only_inputs=True, allow_unused=True)[0]\n",
    "        # print(grad_eps)\n",
    "\n",
    "        with torch.no_grad():\n",
    "            optimizer_meta.zero_grad()\n",
    "            l_g_meta.backward()\n",
    "            grad_eps = eps.grad\n",
    "        \n",
    "        # print(grad_eps)\n",
    "        w_tilde = torch.clamp(grad_eps,min=0)\n",
    "        # w_tilde = torch.clamp(-grad_eps,min=0)\n",
    "        norm_c = torch.sum(w_tilde)\n",
    "\n",
    "        if norm_c != 0:\n",
    "            w = w_tilde / norm_c\n",
    "        else:\n",
    "            w = w_tilde\n",
    "        \n",
    "        # print(w)\n",
    "        # break\n",
    "        # Forward Pass\n",
    "        outputs = model(images)\n",
    "        loss = loss_fn_meta(outputs, labels)\n",
    "        loss = torch.sum(loss*w)\n",
    "        \n",
    "        # Backward pass and update weights\n",
    "        optimizer.zero_grad()\n",
    "        loss.backward()\n",
    "        optimizer.step()\n",
    "\n",
    "    # Evaluate on test set\n",
    "    correct = 0\n",
    "    total = 0\n",
    "    with torch.no_grad():\n",
    "        for images, labels in tqdm(test_dataloader):\n",
    "            images = images.to(device)\n",
    "            labels = labels.to(device)\n",
    "            outputs = model(images)\n",
    "            predictions = torch.argmax(outputs, dim=1)\n",
    "            correct += (predictions == labels).sum().item()\n",
    "            total += labels.size(0)\n",
    "\n",
    "    accuracy = correct / total\n",
    "    print(f\"Epoch: [{epoch+1}/{epochs}], Accuracy: {accuracy:.4f}\")\n",
    "\n",
    "print(\"--- %s seconds ---\" % (time.time() - start_time))"
   ]
  }
 ],
 "metadata": {
  "kernelspec": {
   "display_name": "feature-env",
   "language": "python",
   "name": "feature-env"
  },
  "language_info": {
   "codemirror_mode": {
    "name": "ipython",
    "version": 3
   },
   "file_extension": ".py",
   "mimetype": "text/x-python",
   "name": "python",
   "nbconvert_exporter": "python",
   "pygments_lexer": "ipython3",
   "version": "3.9.18"
  }
 },
 "nbformat": 4,
 "nbformat_minor": 5
}
