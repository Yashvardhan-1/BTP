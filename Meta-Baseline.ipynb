{
 "cells": [
  {
   "cell_type": "code",
   "execution_count": 2,
   "id": "77904680",
   "metadata": {},
   "outputs": [
    {
     "data": {
      "text/plain": [
       "<torch._C.Generator at 0x1101292f0>"
      ]
     },
     "execution_count": 2,
     "metadata": {},
     "output_type": "execute_result"
    }
   ],
   "source": [
    "from torchvision.models import resnet18\n",
    "import torch\n",
    "import torch.nn as nn\n",
    "import torchvision\n",
    "import torch.optim as optim\n",
    "from tqdm import tqdm\n",
    "import torchvision.transforms as transforms\n",
    "from torchvision import datasets, transforms\n",
    "from tqdm import tqdm \n",
    "import time\n",
    "from torch.utils.data import random_split, Dataset, DataLoader\n",
    "from torchvision.models.resnet import ResNet18_Weights\n",
    "import torchviz\n",
    "import pickle\n",
    "import random\n",
    "\n",
    "seed = 42\n",
    "torch.manual_seed(seed)"
   ]
  },
  {
   "cell_type": "code",
   "execution_count": 3,
   "id": "68173d7c",
   "metadata": {},
   "outputs": [],
   "source": [
    "if torch.backends.mps.is_available():\n",
    "    device = \"mps\"\n",
    "elif torch.cuda.is_available():\n",
    "    device = \"cuda\"\n",
    "else:\n",
    "    device = \"cpu\""
   ]
  },
  {
   "cell_type": "markdown",
   "id": "be25f166",
   "metadata": {},
   "source": [
    "### Load Resent Model "
   ]
  },
  {
   "cell_type": "code",
   "execution_count": 25,
   "id": "867a90b2",
   "metadata": {},
   "outputs": [],
   "source": [
    "def get_resent18_model(num_classes=10):\n",
    "    model = torchvision.models.resnet18(weights=None)  # Use 'weights' for pretrained models\n",
    "    num_features = model.fc.in_features\n",
    "    model.fc = nn.Linear(num_features, num_classes)\n",
    "    return model\n",
    "\n",
    "def get_resent101_model(num_classes=10):\n",
    "    model = torchvision.models.resnet101(weights=None)  # Use 'weights' for pretrained models\n",
    "    num_features = model.fc.in_features\n",
    "    model.fc = nn.Linear(num_features, num_classes)\n",
    "    return model"
   ]
  },
  {
   "cell_type": "code",
   "execution_count": 26,
   "id": "59ee8f3d",
   "metadata": {},
   "outputs": [
    {
     "name": "stdout",
     "output_type": "stream",
     "text": [
      "<class 'torchvision.models.resnet.ResNet'>\n"
     ]
    }
   ],
   "source": [
    "model = get_resent101_model()\n",
    "print(type(model))"
   ]
  },
  {
   "cell_type": "code",
   "execution_count": 8,
   "id": "ebf2a8aa",
   "metadata": {},
   "outputs": [],
   "source": [
    "# Freeze pre-trained layers\n",
    "for param in model.parameters():\n",
    "    param.requires_grad = False\n",
    "\n",
    "# Unfreeze some layers for fine-tuning\n",
    "for param in model.layer4.parameters():\n",
    "    param.requires_grad = True"
   ]
  },
  {
   "cell_type": "code",
   "execution_count": 6,
   "id": "9245b7ec",
   "metadata": {},
   "outputs": [],
   "source": [
    "# Define data transforms\n",
    "transform_train = transforms.Compose([\n",
    "    transforms.RandomCrop(32, padding=4),\n",
    "    transforms.RandomHorizontalFlip(),\n",
    "    transforms.ToTensor(),\n",
    "    transforms.Normalize((0.4914, 0.4822, 0.4465), (0.2023, 0.1994, 0.2010))\n",
    "])\n",
    "\n",
    "transform_test = transforms.Compose([\n",
    "    transforms.ToTensor(),\n",
    "    transforms.Normalize((0.4914, 0.4822, 0.4465), (0.2023, 0.1994, 0.2010))\n",
    "])"
   ]
  },
  {
   "cell_type": "code",
   "execution_count": 7,
   "id": "5f7d6e55",
   "metadata": {},
   "outputs": [
    {
     "name": "stdout",
     "output_type": "stream",
     "text": [
      "Files already downloaded and verified\n",
      "Files already downloaded and verified\n"
     ]
    }
   ],
   "source": [
    "# Load CIFAR10 datasets\n",
    "train_dataset = datasets.CIFAR10(root=\"./data\", train=True, download=True, transform=transform_train)\n",
    "test_dataset = datasets.CIFAR10(root=\"./data\", train=False, download=True, transform=transform_test)\n",
    "\n",
    "# Create dataloaders\n",
    "train_dataloader = DataLoader(train_dataset, batch_size=64, shuffle=True, num_workers=2)\n",
    "test_dataloader = DataLoader(test_dataset, batch_size=64, shuffle=False, num_workers=2)"
   ]
  },
  {
   "cell_type": "code",
   "execution_count": 10,
   "id": "9f0ba7d0",
   "metadata": {},
   "outputs": [
    {
     "name": "stdout",
     "output_type": "stream",
     "text": [
      "torch.Size([3, 32, 32])\n"
     ]
    }
   ],
   "source": [
    "print(train_dataset[0][0].shape)"
   ]
  },
  {
   "cell_type": "markdown",
   "id": "c7660594",
   "metadata": {},
   "source": [
    "## LeNet Model Definition"
   ]
  },
  {
   "cell_type": "code",
   "execution_count": 16,
   "id": "3640cfdb",
   "metadata": {},
   "outputs": [],
   "source": [
    "class LeNet(nn.Module):    \n",
    "    def __init__(self, out_classes=10):\n",
    "        super(LeNet, self).__init__()\n",
    "        self.feature_extractor = nn.Sequential(\n",
    "            nn.Conv2d(in_channels=3, out_channels=6, kernel_size=5, stride=1, padding=0),\n",
    "            nn.ReLU(),\n",
    "            nn.AvgPool2d(kernel_size=2, stride=2),\n",
    "            nn.Conv2d(in_channels=6, out_channels=16, kernel_size=5, stride=1, padding=0),\n",
    "            nn.ReLU(),\n",
    "            nn.AvgPool2d(kernel_size=2, stride=2),\n",
    "        )\n",
    "\n",
    "        self.classifier = nn.Sequential(\n",
    "            nn.Linear(400,120),  #in_features = 16 x5x5 \n",
    "            nn.ReLU(),\n",
    "            nn.Linear(120,84),\n",
    "            nn.ReLU(),\n",
    "            nn.Linear(84, out_classes),\n",
    "            # nn.Softmax(dim=1)\n",
    "        )\n",
    "        \n",
    "    def forward(self,x): \n",
    "        a1=self.feature_extractor(x)\n",
    "        # print(a1.shape)\n",
    "        a1 = torch.flatten(a1,1)\n",
    "        a2=self.classifier(a1)\n",
    "        return a2"
   ]
  },
  {
   "cell_type": "markdown",
   "id": "7473020d",
   "metadata": {},
   "source": [
    "# Baseline Model Training"
   ]
  },
  {
   "cell_type": "markdown",
   "id": "9629936b",
   "metadata": {},
   "source": [
    "### Basic Train Loop"
   ]
  },
  {
   "cell_type": "code",
   "execution_count": 18,
   "id": "4805ce89",
   "metadata": {},
   "outputs": [
    {
     "name": "stderr",
     "output_type": "stream",
     "text": [
      "100%|██████████| 782/782 [00:18<00:00, 42.66it/s] \n",
      "100%|██████████| 157/157 [00:12<00:00, 12.41it/s] \n",
      "  5%|▌         | 1/20 [00:30<09:48, 30.99s/it]"
     ]
    },
    {
     "name": "stdout",
     "output_type": "stream",
     "text": [
      "Epoch: [1/20], Accuracy: 0.4452\n"
     ]
    },
    {
     "name": "stderr",
     "output_type": "stream",
     "text": [
      "100%|██████████| 782/782 [00:18<00:00, 42.33it/s] \n",
      "100%|██████████| 157/157 [00:12<00:00, 12.47it/s] \n",
      " 10%|█         | 2/20 [01:02<09:18, 31.04s/it]"
     ]
    },
    {
     "name": "stdout",
     "output_type": "stream",
     "text": [
      "Epoch: [2/20], Accuracy: 0.4982\n"
     ]
    },
    {
     "name": "stderr",
     "output_type": "stream",
     "text": [
      "100%|██████████| 782/782 [00:18<00:00, 42.77it/s] \n",
      "100%|██████████| 157/157 [00:12<00:00, 12.31it/s] \n",
      " 15%|█▌        | 3/20 [01:33<08:47, 31.04s/it]"
     ]
    },
    {
     "name": "stdout",
     "output_type": "stream",
     "text": [
      "Epoch: [3/20], Accuracy: 0.5362\n"
     ]
    },
    {
     "name": "stderr",
     "output_type": "stream",
     "text": [
      "100%|██████████| 782/782 [00:18<00:00, 42.22it/s] \n",
      "100%|██████████| 157/157 [00:12<00:00, 12.40it/s] \n",
      " 20%|██        | 4/20 [02:04<08:17, 31.10s/it]"
     ]
    },
    {
     "name": "stdout",
     "output_type": "stream",
     "text": [
      "Epoch: [4/20], Accuracy: 0.5314\n"
     ]
    },
    {
     "name": "stderr",
     "output_type": "stream",
     "text": [
      "100%|██████████| 782/782 [00:18<00:00, 42.93it/s] \n",
      "100%|██████████| 157/157 [00:12<00:00, 12.46it/s] \n",
      " 25%|██▌       | 5/20 [02:35<07:45, 31.00s/it]"
     ]
    },
    {
     "name": "stdout",
     "output_type": "stream",
     "text": [
      "Epoch: [5/20], Accuracy: 0.5606\n"
     ]
    },
    {
     "name": "stderr",
     "output_type": "stream",
     "text": [
      "100%|██████████| 782/782 [00:18<00:00, 42.88it/s] \n",
      "100%|██████████| 157/157 [00:12<00:00, 12.41it/s] \n",
      " 30%|███       | 6/20 [03:06<07:13, 30.97s/it]"
     ]
    },
    {
     "name": "stdout",
     "output_type": "stream",
     "text": [
      "Epoch: [6/20], Accuracy: 0.5699\n"
     ]
    },
    {
     "name": "stderr",
     "output_type": "stream",
     "text": [
      "100%|██████████| 782/782 [00:18<00:00, 42.97it/s] \n",
      "100%|██████████| 157/157 [00:12<00:00, 12.43it/s] \n",
      " 35%|███▌      | 7/20 [03:36<06:42, 30.93s/it]"
     ]
    },
    {
     "name": "stdout",
     "output_type": "stream",
     "text": [
      "Epoch: [7/20], Accuracy: 0.5707\n"
     ]
    },
    {
     "name": "stderr",
     "output_type": "stream",
     "text": [
      "100%|██████████| 782/782 [00:18<00:00, 42.86it/s] \n",
      "100%|██████████| 157/157 [00:12<00:00, 12.48it/s]\n",
      " 40%|████      | 8/20 [04:07<06:10, 30.90s/it]"
     ]
    },
    {
     "name": "stdout",
     "output_type": "stream",
     "text": [
      "Epoch: [8/20], Accuracy: 0.5827\n"
     ]
    },
    {
     "name": "stderr",
     "output_type": "stream",
     "text": [
      "100%|██████████| 782/782 [00:18<00:00, 42.91it/s] \n",
      "100%|██████████| 157/157 [00:12<00:00, 12.46it/s]\n",
      " 45%|████▌     | 9/20 [04:38<05:39, 30.88s/it]"
     ]
    },
    {
     "name": "stdout",
     "output_type": "stream",
     "text": [
      "Epoch: [9/20], Accuracy: 0.5819\n"
     ]
    },
    {
     "name": "stderr",
     "output_type": "stream",
     "text": [
      "100%|██████████| 782/782 [00:18<00:00, 42.70it/s] \n",
      "100%|██████████| 157/157 [00:12<00:00, 12.46it/s]\n",
      " 50%|█████     | 10/20 [05:09<05:08, 30.89s/it]"
     ]
    },
    {
     "name": "stdout",
     "output_type": "stream",
     "text": [
      "Epoch: [10/20], Accuracy: 0.5955\n"
     ]
    },
    {
     "name": "stderr",
     "output_type": "stream",
     "text": [
      "100%|██████████| 782/782 [00:18<00:00, 42.70it/s] \n",
      "100%|██████████| 157/157 [00:12<00:00, 12.47it/s] \n",
      " 55%|█████▌    | 11/20 [05:40<04:38, 30.90s/it]"
     ]
    },
    {
     "name": "stdout",
     "output_type": "stream",
     "text": [
      "Epoch: [11/20], Accuracy: 0.6033\n"
     ]
    },
    {
     "name": "stderr",
     "output_type": "stream",
     "text": [
      "100%|██████████| 782/782 [00:18<00:00, 42.85it/s] \n",
      "100%|██████████| 157/157 [00:59<00:00,  2.65it/s] \n",
      " 60%|██████    | 12/20 [06:57<06:00, 45.05s/it]"
     ]
    },
    {
     "name": "stdout",
     "output_type": "stream",
     "text": [
      "Epoch: [12/20], Accuracy: 0.5998\n"
     ]
    },
    {
     "name": "stderr",
     "output_type": "stream",
     "text": [
      "100%|██████████| 782/782 [00:18<00:00, 41.85it/s] \n",
      "100%|██████████| 157/157 [00:12<00:00, 12.19it/s] \n",
      " 65%|██████▌   | 13/20 [07:29<04:46, 40.96s/it]"
     ]
    },
    {
     "name": "stdout",
     "output_type": "stream",
     "text": [
      "Epoch: [13/20], Accuracy: 0.6070\n"
     ]
    },
    {
     "name": "stderr",
     "output_type": "stream",
     "text": [
      "100%|██████████| 782/782 [00:18<00:00, 41.98it/s] \n",
      "100%|██████████| 157/157 [00:12<00:00, 12.34it/s] \n",
      " 70%|███████   | 14/20 [08:00<03:48, 38.06s/it]"
     ]
    },
    {
     "name": "stdout",
     "output_type": "stream",
     "text": [
      "Epoch: [14/20], Accuracy: 0.6171\n"
     ]
    },
    {
     "name": "stderr",
     "output_type": "stream",
     "text": [
      "100%|██████████| 782/782 [00:18<00:00, 42.54it/s] \n",
      "100%|██████████| 157/157 [00:12<00:00, 12.33it/s] \n",
      " 75%|███████▌  | 15/20 [08:31<02:59, 35.97s/it]"
     ]
    },
    {
     "name": "stdout",
     "output_type": "stream",
     "text": [
      "Epoch: [15/20], Accuracy: 0.6298\n"
     ]
    },
    {
     "name": "stderr",
     "output_type": "stream",
     "text": [
      "100%|██████████| 782/782 [00:19<00:00, 40.43it/s]\n",
      "100%|██████████| 157/157 [00:12<00:00, 12.48it/s]\n",
      " 80%|████████  | 16/20 [09:03<02:19, 34.75s/it]"
     ]
    },
    {
     "name": "stdout",
     "output_type": "stream",
     "text": [
      "Epoch: [16/20], Accuracy: 0.6320\n"
     ]
    },
    {
     "name": "stderr",
     "output_type": "stream",
     "text": [
      "100%|██████████| 782/782 [00:18<00:00, 42.37it/s] \n",
      "100%|██████████| 157/157 [00:12<00:00, 12.44it/s]\n",
      " 85%|████████▌ | 17/20 [09:34<01:40, 33.65s/it]"
     ]
    },
    {
     "name": "stdout",
     "output_type": "stream",
     "text": [
      "Epoch: [17/20], Accuracy: 0.6250\n"
     ]
    },
    {
     "name": "stderr",
     "output_type": "stream",
     "text": [
      "100%|██████████| 782/782 [00:18<00:00, 42.83it/s] \n",
      "100%|██████████| 157/157 [00:12<00:00, 12.45it/s] \n",
      " 90%|█████████ | 18/20 [10:05<01:05, 32.82s/it]"
     ]
    },
    {
     "name": "stdout",
     "output_type": "stream",
     "text": [
      "Epoch: [18/20], Accuracy: 0.6331\n"
     ]
    },
    {
     "name": "stderr",
     "output_type": "stream",
     "text": [
      "100%|██████████| 782/782 [00:18<00:00, 42.74it/s] \n",
      "100%|██████████| 157/157 [00:12<00:00, 12.46it/s] \n",
      " 95%|█████████▌| 19/20 [10:36<00:32, 32.25s/it]"
     ]
    },
    {
     "name": "stdout",
     "output_type": "stream",
     "text": [
      "Epoch: [19/20], Accuracy: 0.6495\n"
     ]
    },
    {
     "name": "stderr",
     "output_type": "stream",
     "text": [
      "100%|██████████| 782/782 [00:18<00:00, 42.74it/s] \n",
      "100%|██████████| 157/157 [00:12<00:00, 12.43it/s] \n",
      "100%|██████████| 20/20 [11:07<00:00, 33.38s/it]\n"
     ]
    },
    {
     "name": "stdout",
     "output_type": "stream",
     "text": [
      "Epoch: [20/20], Accuracy: 0.6347\n",
      "--- 667.5797848701477 seconds ---\n"
     ]
    },
    {
     "name": "stderr",
     "output_type": "stream",
     "text": [
      "100%|██████████| 157/157 [00:12<00:00, 12.44it/s] "
     ]
    },
    {
     "name": "stdout",
     "output_type": "stream",
     "text": [
      "Accuracy: 0.6347\n"
     ]
    },
    {
     "name": "stderr",
     "output_type": "stream",
     "text": [
      "\n"
     ]
    }
   ],
   "source": [
    "seed = 42\n",
    "torch.manual_seed(seed)\n",
    "\n",
    "# Define the Model\n",
    "# model = get_cifar10_model()\n",
    "model = LeNet()\n",
    "model = model.to(device)\n",
    "\n",
    "# Define optimizer and loss function\n",
    "optimizer = torch.optim.Adam(model.parameters())\n",
    "loss_fn = nn.CrossEntropyLoss()\n",
    "\n",
    "# Train the model\n",
    "epochs = 20\n",
    "model.train()\n",
    "start_time = time.time()\n",
    "for epoch in tqdm(range(epochs)):\n",
    "    # Train loop\n",
    "    for images, labels in tqdm(train_dataloader):\n",
    "\n",
    "        images = images.to(device)\n",
    "        labels = labels.to(device)\n",
    "\n",
    "        # Forward pass\n",
    "        outputs = model(images)\n",
    "        loss = loss_fn(outputs, labels)\n",
    "        \n",
    "        # Backward pass and update weights\n",
    "        optimizer.zero_grad()\n",
    "        loss.backward()\n",
    "        optimizer.step()\n",
    "    # Evaluate on test set\n",
    "    # correct = 0\n",
    "    # total = 0\n",
    "    # with torch.no_grad():\n",
    "    #     for images, labels in tqdm(test_dataloader):\n",
    "    #         images = images.to(device)\n",
    "    #         labels = labels.to(device)\n",
    "\n",
    "    #         outputs = model(images)\n",
    "    #         predictions = torch.argmax(outputs, dim=1)\n",
    "    #         correct += (predictions == labels).sum().item()\n",
    "    #         total += labels.size(0)\n",
    "\n",
    "    # accuracy = correct / total\n",
    "    # print(f\"Epoch: [{epoch+1}/{epochs}], Accuracy: {accuracy:.4f}\")\n",
    "\n",
    "\n",
    "    \n",
    "print(\"--- %s seconds ---\" % (time.time() - start_time))\n",
    "\n",
    "# Evaluate on test set\n",
    "correct = 0\n",
    "total = 0\n",
    "with torch.no_grad():\n",
    "    for images, labels in tqdm(test_dataloader):\n",
    "        images = images.to(device)\n",
    "        labels = labels.to(device)\n",
    "\n",
    "        outputs = model(images)\n",
    "        predictions = torch.argmax(outputs, dim=1)\n",
    "        correct += (predictions == labels).sum().item()\n",
    "        total += labels.size(0)\n",
    "\n",
    "accuracy = correct / total\n",
    "print(f\"Accuracy: {accuracy:.4f}\")\n",
    "# print(f\"Epoch: [{epoch+1}/{epochs}], Accuracy: {accuracy:.4f}\")\n"
   ]
  },
  {
   "cell_type": "markdown",
   "id": "7d32917e",
   "metadata": {},
   "source": [
    "# Reweight Model Training"
   ]
  },
  {
   "cell_type": "code",
   "execution_count": 9,
   "id": "57482d0e",
   "metadata": {},
   "outputs": [
    {
     "name": "stdout",
     "output_type": "stream",
     "text": [
      "Files already downloaded and verified\n",
      "Files already downloaded and verified\n"
     ]
    }
   ],
   "source": [
    "# Load CIFAR10 datasets\n",
    "train_dataset = datasets.CIFAR10(root=\"./data\", train=True, download=True, transform=transform_train)\n",
    "test_dataset = datasets.CIFAR10(root=\"./data\", train=False, download=True, transform=transform_test)\n",
    "\n",
    "split_ratio = 0.95 # 80% for test, 20% for validation\n",
    "n_samples = len(test_dataset)\n",
    "n_test = int(n_samples * split_ratio)\n",
    "n_val = n_samples - n_test\n",
    "test_dataset, val_dataset = random_split(test_dataset, [n_test, n_val])\n",
    "\n",
    "\n",
    "# Create dataloaders\n",
    "train_dataloader = DataLoader(train_dataset, batch_size=64, shuffle=True, num_workers=2)\n",
    "test_dataloader = DataLoader(test_dataset, batch_size=64, shuffle=False, num_workers=2)\n",
    "val_dataloader = DataLoader(val_dataset, batch_size=64, shuffle=False, num_workers=2)"
   ]
  },
  {
   "cell_type": "markdown",
   "id": "d43b2442",
   "metadata": {},
   "source": [
    "### Random Sampler for Sampling Validation Data"
   ]
  },
  {
   "cell_type": "code",
   "execution_count": 10,
   "id": "dba4ae6e",
   "metadata": {},
   "outputs": [],
   "source": [
    "class RandomSubsetSampler(torch.utils.data.Sampler):\n",
    "    def __init__(self, dataset, subset_size):\n",
    "        self.dataset = dataset\n",
    "        self.subset_size = subset_size\n",
    "\n",
    "    def __iter__(self):\n",
    "        indices = random.sample(range(len(self.dataset)), self.subset_size)\n",
    "        return iter(indices)\n",
    "\n",
    "    def __len__(self):\n",
    "        return self.subset_size\n",
    "\n",
    "subset_sampler = RandomSubsetSampler(val_dataset, 64)\n",
    "subset_dataloader = DataLoader(val_dataset, sampler=subset_sampler)"
   ]
  },
  {
   "cell_type": "markdown",
   "id": "06798432",
   "metadata": {},
   "source": [
    "### Meta Baseline Trainloop"
   ]
  },
  {
   "cell_type": "code",
   "execution_count": 18,
   "id": "541021a9",
   "metadata": {},
   "outputs": [
    {
     "name": "stderr",
     "output_type": "stream",
     "text": [
      "100%|██████████| 782/782 [00:32<00:00, 23.77it/s]\n",
      "100%|██████████| 782/782 [00:33<00:00, 23.69it/s]\n",
      "100%|██████████| 782/782 [00:32<00:00, 23.71it/s]\n",
      "100%|██████████| 782/782 [00:32<00:00, 23.75it/s]\n",
      "100%|██████████| 782/782 [00:33<00:00, 23.12it/s]\n",
      "100%|██████████| 782/782 [00:32<00:00, 24.13it/s]\n",
      "100%|██████████| 782/782 [00:33<00:00, 23.55it/s]\n",
      "100%|██████████| 782/782 [00:32<00:00, 23.91it/s]\n",
      "100%|██████████| 782/782 [00:33<00:00, 23.65it/s]\n",
      "100%|██████████| 782/782 [00:34<00:00, 22.95it/s]\n",
      "100%|██████████| 782/782 [00:34<00:00, 22.58it/s]\n",
      "100%|██████████| 782/782 [00:33<00:00, 23.10it/s]\n",
      "100%|██████████| 782/782 [00:32<00:00, 24.30it/s]\n",
      "100%|██████████| 782/782 [00:32<00:00, 23.98it/s]\n",
      "100%|██████████| 782/782 [00:34<00:00, 22.82it/s]\n",
      "100%|██████████| 782/782 [00:33<00:00, 23.13it/s]\n",
      "100%|██████████| 782/782 [00:35<00:00, 22.14it/s]\n",
      "100%|██████████| 782/782 [00:33<00:00, 23.09it/s]\n",
      "100%|██████████| 782/782 [00:34<00:00, 22.68it/s]\n",
      "100%|██████████| 782/782 [00:34<00:00, 22.50it/s]\n",
      "100%|██████████| 20/20 [11:10<00:00, 33.55s/it]\n"
     ]
    },
    {
     "name": "stdout",
     "output_type": "stream",
     "text": [
      "--- 670.9591670036316 seconds ---\n"
     ]
    },
    {
     "name": "stderr",
     "output_type": "stream",
     "text": [
      "100%|██████████| 149/149 [00:12<00:00, 11.77it/s]"
     ]
    },
    {
     "name": "stdout",
     "output_type": "stream",
     "text": [
      "Accuracy: 0.5983\n"
     ]
    },
    {
     "name": "stderr",
     "output_type": "stream",
     "text": [
      "\n"
     ]
    }
   ],
   "source": [
    "seed = 42\n",
    "torch.manual_seed(seed)\n",
    "\n",
    "# Define the Model\n",
    "# model = get_cifar10_model()\n",
    "model = LeNet()\n",
    "model = model.to(device)\n",
    "\n",
    "# Define optimizer and loss function\n",
    "optimizer = torch.optim.Adam(model.parameters())\n",
    "loss_fn = nn.CrossEntropyLoss()\n",
    "loss_fn_meta = nn.CrossEntropyLoss(reduction='none')\n",
    "\n",
    "# Train the model\n",
    "epochs = 20\n",
    "lr = 0.001\n",
    "model.train()\n",
    "start_time = time.time()\n",
    "for epoch in tqdm(range(epochs)):\n",
    "    # Train loop\n",
    "    for images, labels in tqdm(train_dataloader):\n",
    "        \n",
    "        images = images.to(device)\n",
    "        labels = labels.to(device)\n",
    "\n",
    "        # meta_net = get_cifar10_model()\n",
    "        meta_net = LeNet()\n",
    "        meta_net.load_state_dict(model.state_dict())\n",
    "\n",
    "        meta_net = meta_net.to(device)\n",
    "\n",
    "        optimizer_meta = torch.optim.Adam(meta_net.parameters())\n",
    "\n",
    "        meta_net.train()\n",
    "        \n",
    "        y_f_hat = meta_net(images)\n",
    "        cost = loss_fn_meta(y_f_hat, labels)\n",
    "        eps = torch.zeros(cost.size(), requires_grad=True).to(device)\n",
    "        l_f_meta = torch.sum(cost*eps)\n",
    "\n",
    "        # meta_net.zero_grad()\n",
    "        optimizer_meta.zero_grad()\n",
    "        eps.retain_grad()\n",
    "        l_f_meta.backward()\n",
    "        optimizer_meta.step()\n",
    "\n",
    "        meta_net.eval()\n",
    "\n",
    "        # grads = torch.autograd.grad(l_f_meta, (meta_net.parameters()), create_graph=True)\n",
    "        # meta_net.update_params(lr, source_params=grads)\n",
    "        \n",
    "        val_images, val_labels = next(iter(subset_dataloader))\n",
    "        # val_images, val_labels = next(iter(val_dataloader))\n",
    "        val_images = val_images.to(device)\n",
    "        val_labels = val_labels.to(device)\n",
    "\n",
    "        y_g_hat = meta_net(val_images)\n",
    "        l_g_meta = loss_fn(y_g_hat, val_labels)\n",
    "\n",
    "        # grad_eps = torch.autograd.grad(l_g_meta, eps, only_inputs=True)[0]\n",
    "        # grad_eps = torch.autograd.grad(l_g_meta, eps, only_inputs=True, allow_unused=True)[0]\n",
    "        # print(grad_eps)\n",
    "\n",
    "        with torch.no_grad():\n",
    "            optimizer_meta.zero_grad()\n",
    "            l_g_meta.backward()\n",
    "            grad_eps = eps.grad\n",
    "        \n",
    "        # print(grad_eps)\n",
    "        w_tilde = torch.clamp(grad_eps,min=0)\n",
    "        # w_tilde = torch.clamp(-grad_eps,min=0)\n",
    "        norm_c = torch.sum(w_tilde)\n",
    "\n",
    "        if norm_c != 0:\n",
    "            w = w_tilde / norm_c\n",
    "        else:\n",
    "            w = w_tilde\n",
    "        \n",
    "        # print(w)\n",
    "        # break\n",
    "        # Forward Pass\n",
    "        outputs = model(images)\n",
    "        loss = loss_fn_meta(outputs, labels)\n",
    "        loss = torch.sum(loss*w)\n",
    "        \n",
    "        # Backward pass and update weights\n",
    "        optimizer.zero_grad()\n",
    "        loss.backward()\n",
    "        optimizer.step()\n",
    "print(\"--- %s seconds ---\" % (time.time() - start_time))\n",
    "\n",
    "# Evaluate on test set\n",
    "correct = 0\n",
    "total = 0\n",
    "with torch.no_grad():\n",
    "    for images, labels in tqdm(test_dataloader):\n",
    "        images = images.to(device)\n",
    "        labels = labels.to(device)\n",
    "\n",
    "        outputs = model(images)\n",
    "        predictions = torch.argmax(outputs, dim=1)\n",
    "        correct += (predictions == labels).sum().item()\n",
    "        total += labels.size(0)\n",
    "\n",
    "accuracy = correct / total\n",
    "print(f\"Accuracy: {accuracy:.4f}\")\n",
    "\n"
   ]
  },
  {
   "cell_type": "markdown",
   "id": "49cd3ecc",
   "metadata": {},
   "source": [
    "# Milo Setup"
   ]
  },
  {
   "cell_type": "markdown",
   "id": "acc91f2e",
   "metadata": {},
   "source": [
    "### Load Data"
   ]
  },
  {
   "cell_type": "code",
   "execution_count": 21,
   "id": "2c56cb8a",
   "metadata": {},
   "outputs": [],
   "source": [
    "num_classes = 10\n",
    "class_data = []\n",
    "subset_fraction = 0.3\n",
    "for i in range(num_classes):\n",
    "    with open(f\"milo-base/class-data-{subset_fraction}/class_{i}.pkl\", \"rb\") as f:\n",
    "        S = pickle.load(f)\n",
    "        class_data.append(S)"
   ]
  },
  {
   "cell_type": "code",
   "execution_count": 22,
   "id": "489f5f7e",
   "metadata": {},
   "outputs": [],
   "source": [
    "num_sets = len(class_data[0])\n",
    "data = []\n",
    "for i in range(num_sets):\n",
    "    S = []\n",
    "    for j in range(num_classes):\n",
    "        S.extend(class_data[j][i])\n",
    "    data.append(S)"
   ]
  },
  {
   "cell_type": "code",
   "execution_count": 26,
   "id": "b0452f4f",
   "metadata": {},
   "outputs": [
    {
     "name": "stdout",
     "output_type": "stream",
     "text": [
      "15000\n"
     ]
    }
   ],
   "source": [
    "print(len(data[0]))"
   ]
  },
  {
   "cell_type": "markdown",
   "id": "437bd49c",
   "metadata": {},
   "source": [
    "### Define Dataloader"
   ]
  },
  {
   "cell_type": "code",
   "execution_count": 27,
   "id": "22252b55",
   "metadata": {},
   "outputs": [],
   "source": [
    "class SubDataset(Dataset):\n",
    "    def __init__(self, indices, dataset):\n",
    "        self.indices = indices\n",
    "        self.dataset = dataset\n",
    "\n",
    "    def __len__(self):\n",
    "        return len(self.indices)\n",
    "\n",
    "    def __getitem__(self, idx):\n",
    "        index = self.indices[idx]\n",
    "        data_point = self.dataset[index]\n",
    "        return data_point"
   ]
  },
  {
   "cell_type": "markdown",
   "id": "a3198ce4",
   "metadata": {},
   "source": [
    "## Milo Training Loop"
   ]
  },
  {
   "cell_type": "code",
   "execution_count": 28,
   "id": "8a3717bd",
   "metadata": {},
   "outputs": [
    {
     "name": "stderr",
     "output_type": "stream",
     "text": [
      "  0%|          | 0/20 [00:00<?, ?it/s]"
     ]
    },
    {
     "name": "stderr",
     "output_type": "stream",
     "text": [
      "100%|██████████| 235/235 [00:03<00:00, 72.58it/s]\n",
      "100%|██████████| 157/157 [00:13<00:00, 12.03it/s] \n",
      "  5%|▌         | 1/20 [00:16<05:09, 16.29s/it]"
     ]
    },
    {
     "name": "stdout",
     "output_type": "stream",
     "text": [
      "Epoch: [1/20], Accuracy: 0.3684\n"
     ]
    },
    {
     "name": "stderr",
     "output_type": "stream",
     "text": [
      "100%|██████████| 235/235 [00:02<00:00, 79.35it/s]\n",
      "100%|██████████| 157/157 [00:12<00:00, 12.47it/s] \n",
      " 10%|█         | 2/20 [00:31<04:45, 15.86s/it]"
     ]
    },
    {
     "name": "stdout",
     "output_type": "stream",
     "text": [
      "Epoch: [2/20], Accuracy: 0.4113\n"
     ]
    },
    {
     "name": "stderr",
     "output_type": "stream",
     "text": [
      "100%|██████████| 235/235 [00:03<00:00, 78.19it/s]\n",
      "100%|██████████| 157/157 [00:12<00:00, 12.45it/s] \n",
      " 15%|█▌        | 3/20 [00:47<04:27, 15.76s/it]"
     ]
    },
    {
     "name": "stdout",
     "output_type": "stream",
     "text": [
      "Epoch: [3/20], Accuracy: 0.4295\n"
     ]
    },
    {
     "name": "stderr",
     "output_type": "stream",
     "text": [
      "100%|██████████| 235/235 [00:02<00:00, 79.78it/s]\n",
      "100%|██████████| 157/157 [00:12<00:00, 12.48it/s] \n",
      " 20%|██        | 4/20 [01:03<04:10, 15.67s/it]"
     ]
    },
    {
     "name": "stdout",
     "output_type": "stream",
     "text": [
      "Epoch: [4/20], Accuracy: 0.4765\n"
     ]
    },
    {
     "name": "stderr",
     "output_type": "stream",
     "text": [
      "100%|██████████| 235/235 [00:02<00:00, 80.32it/s]\n",
      "100%|██████████| 157/157 [00:12<00:00, 12.45it/s] \n",
      " 25%|██▌       | 5/20 [01:18<03:54, 15.62s/it]"
     ]
    },
    {
     "name": "stdout",
     "output_type": "stream",
     "text": [
      "Epoch: [5/20], Accuracy: 0.4606\n"
     ]
    },
    {
     "name": "stderr",
     "output_type": "stream",
     "text": [
      "100%|██████████| 235/235 [00:02<00:00, 80.12it/s]\n",
      "100%|██████████| 157/157 [00:12<00:00, 12.46it/s] \n",
      " 30%|███       | 6/20 [01:34<03:38, 15.59s/it]"
     ]
    },
    {
     "name": "stdout",
     "output_type": "stream",
     "text": [
      "Epoch: [6/20], Accuracy: 0.4852\n"
     ]
    },
    {
     "name": "stderr",
     "output_type": "stream",
     "text": [
      "100%|██████████| 235/235 [00:02<00:00, 80.17it/s]\n",
      "100%|██████████| 157/157 [00:12<00:00, 12.45it/s] \n",
      " 35%|███▌      | 7/20 [01:49<03:22, 15.58s/it]"
     ]
    },
    {
     "name": "stdout",
     "output_type": "stream",
     "text": [
      "Epoch: [7/20], Accuracy: 0.4995\n"
     ]
    },
    {
     "name": "stderr",
     "output_type": "stream",
     "text": [
      "100%|██████████| 235/235 [00:03<00:00, 78.04it/s]\n",
      "100%|██████████| 157/157 [00:12<00:00, 12.40it/s] \n",
      " 40%|████      | 8/20 [02:05<03:07, 15.61s/it]"
     ]
    },
    {
     "name": "stdout",
     "output_type": "stream",
     "text": [
      "Epoch: [8/20], Accuracy: 0.5013\n"
     ]
    },
    {
     "name": "stderr",
     "output_type": "stream",
     "text": [
      "100%|██████████| 235/235 [00:03<00:00, 77.66it/s]\n",
      "100%|██████████| 157/157 [00:12<00:00, 12.41it/s] \n",
      " 45%|████▌     | 9/20 [02:20<02:51, 15.63s/it]"
     ]
    },
    {
     "name": "stdout",
     "output_type": "stream",
     "text": [
      "Epoch: [9/20], Accuracy: 0.5195\n"
     ]
    },
    {
     "name": "stderr",
     "output_type": "stream",
     "text": [
      "100%|██████████| 235/235 [00:02<00:00, 78.64it/s]\n",
      "100%|██████████| 157/157 [00:12<00:00, 12.41it/s] \n",
      " 50%|█████     | 10/20 [02:36<02:36, 15.64s/it]"
     ]
    },
    {
     "name": "stdout",
     "output_type": "stream",
     "text": [
      "Epoch: [10/20], Accuracy: 0.5195\n"
     ]
    },
    {
     "name": "stderr",
     "output_type": "stream",
     "text": [
      "100%|██████████| 235/235 [00:02<00:00, 78.73it/s]\n",
      "100%|██████████| 157/157 [00:12<00:00, 12.31it/s] \n",
      " 55%|█████▌    | 11/20 [02:52<02:21, 15.67s/it]"
     ]
    },
    {
     "name": "stdout",
     "output_type": "stream",
     "text": [
      "Epoch: [11/20], Accuracy: 0.5297\n"
     ]
    },
    {
     "name": "stderr",
     "output_type": "stream",
     "text": [
      "100%|██████████| 235/235 [00:03<00:00, 77.28it/s]\n",
      "100%|██████████| 157/157 [00:12<00:00, 12.41it/s]\n",
      " 60%|██████    | 12/20 [03:08<02:05, 15.68s/it]"
     ]
    },
    {
     "name": "stdout",
     "output_type": "stream",
     "text": [
      "Epoch: [12/20], Accuracy: 0.5343\n"
     ]
    },
    {
     "name": "stderr",
     "output_type": "stream",
     "text": [
      "100%|██████████| 235/235 [00:03<00:00, 77.44it/s]\n",
      "100%|██████████| 157/157 [00:12<00:00, 12.21it/s] \n",
      " 65%|██████▌   | 13/20 [03:23<01:50, 15.75s/it]"
     ]
    },
    {
     "name": "stdout",
     "output_type": "stream",
     "text": [
      "Epoch: [13/20], Accuracy: 0.5236\n"
     ]
    },
    {
     "name": "stderr",
     "output_type": "stream",
     "text": [
      "100%|██████████| 235/235 [00:02<00:00, 79.26it/s]\n",
      "100%|██████████| 157/157 [00:12<00:00, 12.43it/s] \n",
      " 70%|███████   | 14/20 [03:39<01:34, 15.70s/it]"
     ]
    },
    {
     "name": "stdout",
     "output_type": "stream",
     "text": [
      "Epoch: [14/20], Accuracy: 0.5403\n"
     ]
    },
    {
     "name": "stderr",
     "output_type": "stream",
     "text": [
      "100%|██████████| 235/235 [00:02<00:00, 79.52it/s]\n",
      "100%|██████████| 157/157 [00:12<00:00, 12.30it/s] \n",
      " 75%|███████▌  | 15/20 [03:55<01:18, 15.71s/it]"
     ]
    },
    {
     "name": "stdout",
     "output_type": "stream",
     "text": [
      "Epoch: [15/20], Accuracy: 0.5397\n"
     ]
    },
    {
     "name": "stderr",
     "output_type": "stream",
     "text": [
      "100%|██████████| 235/235 [00:02<00:00, 79.95it/s]\n",
      "100%|██████████| 157/157 [00:12<00:00, 12.43it/s] \n",
      " 80%|████████  | 16/20 [04:10<01:02, 15.67s/it]"
     ]
    },
    {
     "name": "stdout",
     "output_type": "stream",
     "text": [
      "Epoch: [16/20], Accuracy: 0.5465\n"
     ]
    },
    {
     "name": "stderr",
     "output_type": "stream",
     "text": [
      "100%|██████████| 235/235 [00:03<00:00, 76.80it/s]\n",
      "100%|██████████| 157/157 [00:12<00:00, 12.33it/s] \n",
      " 85%|████████▌ | 17/20 [04:26<00:47, 15.71s/it]"
     ]
    },
    {
     "name": "stdout",
     "output_type": "stream",
     "text": [
      "Epoch: [17/20], Accuracy: 0.5475\n"
     ]
    },
    {
     "name": "stderr",
     "output_type": "stream",
     "text": [
      "100%|██████████| 235/235 [00:02<00:00, 81.31it/s]\n",
      "100%|██████████| 157/157 [00:12<00:00, 12.16it/s] \n",
      " 90%|█████████ | 18/20 [04:42<00:31, 15.74s/it]"
     ]
    },
    {
     "name": "stdout",
     "output_type": "stream",
     "text": [
      "Epoch: [18/20], Accuracy: 0.5437\n"
     ]
    },
    {
     "name": "stderr",
     "output_type": "stream",
     "text": [
      "100%|██████████| 235/235 [00:02<00:00, 80.23it/s]\n",
      "100%|██████████| 157/157 [00:12<00:00, 12.47it/s] \n",
      " 95%|█████████▌| 19/20 [04:58<00:15, 15.68s/it]"
     ]
    },
    {
     "name": "stdout",
     "output_type": "stream",
     "text": [
      "Epoch: [19/20], Accuracy: 0.5591\n"
     ]
    },
    {
     "name": "stderr",
     "output_type": "stream",
     "text": [
      "100%|██████████| 235/235 [00:02<00:00, 79.44it/s]\n",
      "100%|██████████| 157/157 [00:12<00:00, 12.44it/s] \n",
      "100%|██████████| 20/20 [05:13<00:00, 15.68s/it]\n"
     ]
    },
    {
     "name": "stdout",
     "output_type": "stream",
     "text": [
      "Epoch: [20/20], Accuracy: 0.5570\n",
      "--- 313.63228011131287 seconds ---\n"
     ]
    },
    {
     "name": "stderr",
     "output_type": "stream",
     "text": [
      "100%|██████████| 157/157 [00:12<00:00, 12.42it/s] "
     ]
    },
    {
     "name": "stdout",
     "output_type": "stream",
     "text": [
      "Accuracy: 0.5570\n"
     ]
    },
    {
     "name": "stderr",
     "output_type": "stream",
     "text": [
      "\n"
     ]
    }
   ],
   "source": [
    "# Define Model\n",
    "model = LeNet()\n",
    "model = model.to(device)\n",
    "\n",
    "# Define optimizer and loss function\n",
    "optimizer = torch.optim.Adam(model.parameters())\n",
    "loss_fn = nn.CrossEntropyLoss()\n",
    "\n",
    "# Train the model\n",
    "epochs = 20\n",
    "model.train()\n",
    "R = 1\n",
    "start_time = time.time()\n",
    "for epoch in tqdm(range(epochs)):\n",
    "    # Train loop\n",
    "\n",
    "    if epoch%R==0:\n",
    "        sub_dataset = SubDataset(indices=data[epoch//R], dataset=train_dataset)\n",
    "        subset_train_dataloader = DataLoader(sub_dataset, batch_size=64, shuffle=True)\n",
    "        \n",
    "    for images, labels in tqdm(subset_train_dataloader):\n",
    "\n",
    "        images = images.to(device)\n",
    "        labels = labels.to(device)\n",
    "\n",
    "        # Forward pass\n",
    "        outputs = model(images)\n",
    "        loss = loss_fn(outputs, labels)\n",
    "        \n",
    "        # Backward pass and update weights\n",
    "        optimizer.zero_grad()\n",
    "        loss.backward()\n",
    "        optimizer.step()\n",
    "    # Evaluate on test set\n",
    "    correct = 0\n",
    "    total = 0\n",
    "    with torch.no_grad():\n",
    "        for images, labels in tqdm(test_dataloader):\n",
    "            images = images.to(device)\n",
    "            labels = labels.to(device)\n",
    "\n",
    "            outputs = model(images)\n",
    "            predictions = torch.argmax(outputs, dim=1)\n",
    "            correct += (predictions == labels).sum().item()\n",
    "            total += labels.size(0)\n",
    "\n",
    "    accuracy = correct / total\n",
    "    print(f\"Epoch: [{epoch+1}/{epochs}], Accuracy: {accuracy:.4f}\")\n",
    "\n",
    "\n",
    "print(\"--- %s seconds ---\" % (time.time() - start_time))\n",
    "\n",
    "# Evaluate on test set\n",
    "correct = 0\n",
    "total = 0\n",
    "with torch.no_grad():\n",
    "    for images, labels in tqdm(test_dataloader):\n",
    "        images = images.to(device)\n",
    "        labels = labels.to(device)\n",
    "\n",
    "        outputs = model(images)\n",
    "        predictions = torch.argmax(outputs, dim=1)\n",
    "        correct += (predictions == labels).sum().item()\n",
    "        total += labels.size(0)\n",
    "\n",
    "accuracy = correct / total\n",
    "print(f\"Accuracy: {accuracy:.4f}\")\n"
   ]
  },
  {
   "cell_type": "code",
   "execution_count": 27,
   "id": "73b0531b",
   "metadata": {},
   "outputs": [
    {
     "name": "stdout",
     "output_type": "stream",
     "text": [
      "Files already downloaded and verified\n",
      "Files already downloaded and verified\n"
     ]
    }
   ],
   "source": [
    "# Load CIFAR10 datasets\n",
    "train_dataset = datasets.CIFAR10(root=\"./data\", train=True, download=True, transform=transform_train)\n",
    "test_dataset = datasets.CIFAR10(root=\"./data\", train=False, download=True, transform=transform_test)\n",
    "\n",
    "split_ratio = 0.90\n",
    "n_samples = len(test_dataset)\n",
    "n_test = int(n_samples * split_ratio)\n",
    "n_val = n_samples - n_test\n",
    "test_dataset, val_dataset = random_split(test_dataset, [n_test, n_val])\n",
    "\n",
    "\n",
    "# Create dataloaders\n",
    "train_dataloader = DataLoader(train_dataset, batch_size=64, shuffle=True)\n",
    "test_dataloader = DataLoader(test_dataset, batch_size=64, shuffle=False)\n",
    "val_dataloader = DataLoader(val_dataset, batch_size=64, shuffle=False)"
   ]
  },
  {
   "cell_type": "code",
   "execution_count": 29,
   "id": "95851238",
   "metadata": {},
   "outputs": [],
   "source": [
    "subset_sampler = RandomSubsetSampler(val_dataset, 64)\n",
    "subset_dataloader = DataLoader(val_dataset, sampler=subset_sampler)"
   ]
  },
  {
   "cell_type": "markdown",
   "id": "9146446a",
   "metadata": {},
   "source": [
    "### Meta-Milo Training loop"
   ]
  },
  {
   "cell_type": "code",
   "execution_count": 30,
   "id": "532c9fa2",
   "metadata": {},
   "outputs": [
    {
     "name": "stderr",
     "output_type": "stream",
     "text": [
      "  0%|          | 0/20 [00:00<?, ?it/s]"
     ]
    },
    {
     "name": "stderr",
     "output_type": "stream",
     "text": [
      "100%|██████████| 235/235 [00:07<00:00, 32.03it/s]\n",
      "100%|██████████| 235/235 [00:06<00:00, 33.70it/s]\n",
      "100%|██████████| 235/235 [00:06<00:00, 33.63it/s]\n",
      "100%|██████████| 235/235 [00:07<00:00, 33.31it/s]\n",
      "100%|██████████| 235/235 [00:06<00:00, 33.75it/s]\n",
      "100%|██████████| 235/235 [00:06<00:00, 33.81it/s]\n",
      "100%|██████████| 235/235 [00:06<00:00, 33.72it/s]\n",
      "100%|██████████| 235/235 [00:06<00:00, 33.70it/s]\n",
      "100%|██████████| 235/235 [00:06<00:00, 33.84it/s]\n",
      "100%|██████████| 235/235 [00:06<00:00, 33.78it/s]\n",
      "100%|██████████| 235/235 [00:07<00:00, 33.13it/s]\n",
      "100%|██████████| 235/235 [00:07<00:00, 33.40it/s]\n",
      "100%|██████████| 235/235 [00:06<00:00, 33.76it/s]\n",
      "100%|██████████| 235/235 [00:07<00:00, 33.48it/s]\n",
      "100%|██████████| 235/235 [00:06<00:00, 33.64it/s]\n",
      "100%|██████████| 235/235 [00:07<00:00, 32.41it/s]\n",
      "100%|██████████| 235/235 [00:07<00:00, 32.10it/s]\n",
      "100%|██████████| 235/235 [00:07<00:00, 31.29it/s]\n",
      "100%|██████████| 235/235 [00:07<00:00, 30.89it/s]\n",
      "100%|██████████| 235/235 [00:07<00:00, 31.16it/s]\n",
      "100%|██████████| 20/20 [02:22<00:00,  7.12s/it]\n"
     ]
    },
    {
     "name": "stdout",
     "output_type": "stream",
     "text": [
      "--- 142.4714057445526 seconds ---\n"
     ]
    },
    {
     "name": "stderr",
     "output_type": "stream",
     "text": [
      "100%|██████████| 141/141 [00:00<00:00, 141.15it/s]"
     ]
    },
    {
     "name": "stdout",
     "output_type": "stream",
     "text": [
      "Accuracy: 0.5166\n"
     ]
    },
    {
     "name": "stderr",
     "output_type": "stream",
     "text": [
      "\n"
     ]
    }
   ],
   "source": [
    "# Define Model\n",
    "model = LeNet()\n",
    "model = model.to(device)\n",
    "\n",
    "# Define optimizer and loss function\n",
    "optimizer = torch.optim.Adam(model.parameters())\n",
    "loss_fn = nn.CrossEntropyLoss()\n",
    "loss_fn_meta = nn.CrossEntropyLoss(reduction='none')\n",
    "\n",
    "# Train the model\n",
    "epochs = 20\n",
    "# lr = 0.001\n",
    "model.train()\n",
    "start_time = time.time()\n",
    "for epoch in tqdm(range(epochs)):\n",
    "    # Train loop\n",
    "\n",
    "    if epoch%R==0:\n",
    "        sub_dataset = SubDataset(indices=data[epoch//R], dataset=train_dataset)\n",
    "        # train_dataloader = DataLoader(sub_dataset, batch_size=64, shuffle=True, num_workers=2)\n",
    "        train_dataloader = DataLoader(sub_dataset, batch_size=64, shuffle=True)\n",
    "    \n",
    "    for images, labels in tqdm(train_dataloader):\n",
    "        \n",
    "        images = images.to(device)\n",
    "        labels = labels.to(device)\n",
    "\n",
    "        # meta_net = get_cifar10_model()\n",
    "        meta_net = LeNet()\n",
    "        meta_net.load_state_dict(model.state_dict())\n",
    "\n",
    "        meta_net = meta_net.to(device)\n",
    "\n",
    "        optimizer_meta = torch.optim.Adam(meta_net.parameters())\n",
    "\n",
    "        meta_net.train()\n",
    "        \n",
    "        y_f_hat = meta_net(images)\n",
    "        cost = loss_fn_meta(y_f_hat, labels)\n",
    "        eps = torch.zeros(cost.size(), requires_grad=True).to(device)\n",
    "        l_f_meta = torch.sum(cost*eps)\n",
    "\n",
    "        # meta_net.zero_grad()\n",
    "        optimizer_meta.zero_grad()\n",
    "        eps.retain_grad()\n",
    "        l_f_meta.backward()\n",
    "        optimizer_meta.step()\n",
    "\n",
    "        meta_net.eval()\n",
    "\n",
    "        # grads = torch.autograd.grad(l_f_meta, (meta_net.parameters()), create_graph=True)\n",
    "        # meta_net.update_params(lr, source_params=grads)\n",
    "        \n",
    "        val_images, val_labels = next(iter(subset_dataloader))\n",
    "        # val_images, val_labels = next(iter(val_dataloader))\n",
    "        val_images = val_images.to(device)\n",
    "        val_labels = val_labels.to(device)\n",
    "\n",
    "        y_g_hat = meta_net(val_images)\n",
    "        l_g_meta = loss_fn(y_g_hat, val_labels)\n",
    "\n",
    "        # grad_eps = torch.autograd.grad(l_g_meta, eps, only_inputs=True)[0]\n",
    "        # grad_eps = torch.autograd.grad(l_g_meta, eps, only_inputs=True, allow_unused=True)[0]\n",
    "        # print(grad_eps)\n",
    "\n",
    "        with torch.no_grad():\n",
    "            optimizer_meta.zero_grad()\n",
    "            l_g_meta.backward()\n",
    "            grad_eps = eps.grad\n",
    "        \n",
    "        # print(grad_eps)\n",
    "        w_tilde = torch.clamp(grad_eps,min=0)\n",
    "        # w_tilde = torch.clamp(-grad_eps,min=0)\n",
    "        norm_c = torch.sum(w_tilde)\n",
    "\n",
    "        if norm_c != 0:\n",
    "            w = w_tilde / norm_c\n",
    "        else:\n",
    "            w = w_tilde\n",
    "        \n",
    "        # print(w)\n",
    "        # break\n",
    "        # Forward Pass\n",
    "        outputs = model(images)\n",
    "        loss = loss_fn_meta(outputs, labels)\n",
    "        loss = torch.sum(loss*w)\n",
    "        \n",
    "        # Backward pass and update weights\n",
    "        optimizer.zero_grad()\n",
    "        loss.backward()\n",
    "        optimizer.step()\n",
    "\n",
    "print(\"--- %s seconds ---\" % (time.time() - start_time))\n",
    "\n",
    "# Evaluate on test set\n",
    "correct = 0\n",
    "total = 0\n",
    "with torch.no_grad():\n",
    "    for images, labels in tqdm(test_dataloader):\n",
    "        images = images.to(device)\n",
    "        labels = labels.to(device)\n",
    "\n",
    "        outputs = model(images)\n",
    "        predictions = torch.argmax(outputs, dim=1)\n",
    "        correct += (predictions == labels).sum().item()\n",
    "        total += labels.size(0)\n",
    "\n",
    "accuracy = correct / total\n",
    "print(f\"Accuracy: {accuracy:.4f}\")"
   ]
  },
  {
   "cell_type": "markdown",
   "id": "4fbb8cb9",
   "metadata": {},
   "source": [
    "# Random Subset Meta "
   ]
  }
 ],
 "metadata": {
  "kernelspec": {
   "display_name": "feature-env",
   "language": "python",
   "name": "feature-env"
  },
  "language_info": {
   "codemirror_mode": {
    "name": "ipython",
    "version": 3
   },
   "file_extension": ".py",
   "mimetype": "text/x-python",
   "name": "python",
   "nbconvert_exporter": "python",
   "pygments_lexer": "ipython3",
   "version": "3.9.18"
  }
 },
 "nbformat": 4,
 "nbformat_minor": 5
}
